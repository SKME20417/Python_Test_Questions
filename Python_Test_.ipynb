{
 "cells": [
  {
   "cell_type": "markdown",
   "id": "f38fa86d",
   "metadata": {},
   "source": [
    "# Questions on While True\n",
    "\n",
    "Question 1: Counting Odd Numbers Write a program that continuously\n",
    "takes input from the user until they enter a negative number. \n",
    "The program should then print the count of all the odd numbers entered.\n",
    "\n",
    "\n",
    "\n",
    "Question 2: Guessing Game Create a guessing game where the computer generates a random number between 1 and 100,\n",
    "and the player has to guess it. The game should provide feedback\n",
    "on whether the guess is too high or too low, and it should continue until the player guesses the correct number.\n",
    "\n",
    "\n",
    "Question 3: Password Validation Write a program that repeatedly asks the user for a password. \n",
    "The program should keep asking until the user enters a password that meets the following criteria:\n",
    "\n",
    "Contains at least 8 characters Contains at least one uppercase letter\n",
    "Contains at least one lowercase letter Contains at least one digit\n",
    "\n"
   ]
  },
  {
   "cell_type": "code",
   "execution_count": null,
   "id": "0d1851f4",
   "metadata": {},
   "outputs": [],
   "source": []
  },
  {
   "cell_type": "markdown",
   "id": "63b3ae5a",
   "metadata": {},
   "source": [
    "Question 1: Counting Odd Numbers\n",
    "Write a program that continuously takes input from the user until they enter a negative number. \n",
    "The program should then print the count of all the odd numbers entered."
   ]
  },
  {
   "cell_type": "code",
   "execution_count": null,
   "id": "668bc837",
   "metadata": {},
   "outputs": [],
   "source": []
  },
  {
   "cell_type": "code",
   "execution_count": 7,
   "id": "a56b6fd2",
   "metadata": {},
   "outputs": [
    {
     "name": "stdout",
     "output_type": "stream",
     "text": [
      "enter any number(quit when user enter negative number):12\n",
      "enter any number(quit when user enter negative number):46\n",
      "enter any number(quit when user enter negative number):-2\n",
      "number of odd numbers 0\n"
     ]
    }
   ],
   "source": [
    "count = 0\n",
    "while True:\n",
    "    num = int(input(\"enter any number(quit when user enter negative number):\"))\n",
    "    if num<0:\n",
    "        break\n",
    "    else:\n",
    "        if num%2!=0:\n",
    "            count+=1\n",
    "            \n",
    "print(f\"number of odd numbers {count}\")  "
   ]
  },
  {
   "cell_type": "code",
   "execution_count": 8,
   "id": "a067cd67",
   "metadata": {},
   "outputs": [
    {
     "name": "stdout",
     "output_type": "stream",
     "text": [
      "enter any number(quit when user enter negative number):14\n",
      "enter any number(quit when user enter negative number):15\n",
      "enter any number(quit when user enter negative number):1\n",
      "enter any number(quit when user enter negative number):3\n",
      "enter any number(quit when user enter negative number):5\n",
      "enter any number(quit when user enter negative number):7\n",
      "enter any number(quit when user enter negative number):-2\n",
      "the number of odd numbers are 5\n"
     ]
    }
   ],
   "source": [
    "count = 0\n",
    "while True:\n",
    "    num = int(input(\"enter any number(quit when user enter negative number):\"))\n",
    "    if num<0:\n",
    "        break\n",
    "    if num%2!=0:\n",
    "        count+=1\n",
    "        \n",
    "print(f\"the number of odd numbers are {count}\")"
   ]
  },
  {
   "cell_type": "markdown",
   "id": "0fae4764",
   "metadata": {},
   "source": [
    "Question 2: Guessing Game\n",
    "Create a guessing game where the computer generates a random number between 1 and 100, and the player has to guess it. \n",
    "The game should provide feedback on whether the guess is too high or too low,\n",
    "and it should continue until the player guesses the correct number."
   ]
  },
  {
   "cell_type": "code",
   "execution_count": 27,
   "id": "79293c65",
   "metadata": {},
   "outputs": [
    {
     "name": "stdout",
     "output_type": "stream",
     "text": [
      "enter your guess:45\n",
      "Try a lower number\n",
      "enter your guess:40\n",
      "Try a lower number\n",
      "enter your guess:30\n",
      "Try a lower number\n",
      "enter your guess:20\n",
      "Try a lower number\n",
      "enter your guess:10\n",
      "Try a Higher number\n",
      "enter your guess:11\n",
      "Try a Higher number\n",
      "enter your guess:12\n",
      "Try a Higher number\n",
      "enter your guess:13\n",
      "Try a Higher number\n",
      "enter your guess:14\n",
      "Try a Higher number\n",
      "enter your guess:15\n",
      "Try a Higher number\n",
      "enter your guess:16\n",
      "Try a Higher number\n",
      "enter your guess:17\n",
      "Try a Higher number\n",
      "enter your guess:18\n",
      "Try a Higher number\n",
      "enter your guess:19\n",
      "congrautionatins : you guessed the correct number\n"
     ]
    }
   ],
   "source": [
    "import random\n",
    "\n",
    "target_number = random.randint(1,100)\n",
    "\n",
    "while True:\n",
    "    guess = int(input('enter your guess:'))\n",
    "    if guess==target_number:\n",
    "        print(\"congrautionatins : you guessed the correct number\")\n",
    "        break\n",
    "    elif guess<target_number:\n",
    "        print('Try a Higher number')\n",
    "    else:\n",
    "        print('Try a lower number')"
   ]
  },
  {
   "cell_type": "markdown",
   "id": "2e328b5d",
   "metadata": {},
   "source": [
    "Question 3: Password Validation\n",
    "Write a program that repeatedly asks the user for a password.\n",
    "The program should keep asking until the user enters a password that meets the following criteria:\n",
    "\n",
    "Contains at least 8 characters\n",
    "Contains at least one uppercase letter\n",
    "Contains at least one lowercase letter\n",
    "Contains at least one digit"
   ]
  },
  {
   "cell_type": "code",
   "execution_count": 3,
   "id": "703a2416",
   "metadata": {},
   "outputs": [
    {
     "name": "stdout",
     "output_type": "stream",
     "text": [
      "enter your password:jklpoikuh123654R\n",
      "Password Accepted\n"
     ]
    }
   ],
   "source": [
    "while True:\n",
    "    password = input(\"enter your password:\")\n",
    "    if len(password)>=8 and any(i.isupper() for i in password) \\\n",
    "    and any(i.islower() for i in password) and any(i.isdigit() for i in password)  :\n",
    "        print(\"Password Accepted\")\n",
    "        break\n",
    "    else:\n",
    "        print(\"Please enter a valid password\")"
   ]
  },
  {
   "cell_type": "code",
   "execution_count": null,
   "id": "8ffcc9ac",
   "metadata": {},
   "outputs": [],
   "source": []
  },
  {
   "cell_type": "markdown",
   "id": "3952f521",
   "metadata": {},
   "source": [
    "# Questions on Conditional Statements"
   ]
  },
  {
   "cell_type": "markdown",
   "id": "5a476b2e",
   "metadata": {},
   "source": [
    "Question 1: Grade Classifier\n",
    "Write a program that takes a student's numerical grade as input and\n",
    "prints their corresponding letter grade according to the following scale:\n",
    "\n",
    "90 or above: A\n",
    "80-89: B\n",
    "70-79: C\n",
    "60-69: D\n",
    "Below 60: F"
   ]
  },
  {
   "cell_type": "markdown",
   "id": "b5fe4058",
   "metadata": {},
   "source": [
    "Question 2: Even or Odd\n",
    "Write a program that takes an integer as input and determines whether it is even or odd."
   ]
  },
  {
   "cell_type": "markdown",
   "id": "b2c2f552",
   "metadata": {},
   "source": [
    "Question 3: Leap Year Checker\n",
    "Write a program that checks if a given year is a leap year.\n",
    "A leap year is either divisible by 4 but not by 100, or divisible by 400."
   ]
  },
  {
   "cell_type": "markdown",
   "id": "5ebf2bd2",
   "metadata": {},
   "source": [
    "Question 4: Positive, Negative, or Zero\n",
    "Write a program that takes a number as input and prints whether it is positive, negative, or zero."
   ]
  },
  {
   "cell_type": "markdown",
   "id": "1164266f",
   "metadata": {},
   "source": [
    "Question 5: Triangle Type\n",
    "Write a program that takes the lengths of three sides of a triangle as input and\n",
    "determines whether it's an equilateral, isosceles, or scalene triangle."
   ]
  },
  {
   "cell_type": "markdown",
   "id": "52602368",
   "metadata": {},
   "source": [
    "# Questions on For Loop"
   ]
  },
  {
   "cell_type": "markdown",
   "id": "a246cef5",
   "metadata": {},
   "source": [
    "Question 1: Print Even Numbers\n",
    "Write a program that prints all even numbers between 1 and 20."
   ]
  },
  {
   "cell_type": "markdown",
   "id": "22157c8a",
   "metadata": {},
   "source": [
    "Question 2: Calculate Factorial\n",
    "Write a program that calculates the factorial of a given positive integer."
   ]
  },
  {
   "cell_type": "markdown",
   "id": "13f89d58",
   "metadata": {},
   "source": [
    "Question 3: Print Multiplication Table\n",
    "Write a program that takes an integer as input and prints its multiplication table up to 10."
   ]
  },
  {
   "cell_type": "markdown",
   "id": "7b935d9b",
   "metadata": {},
   "source": [
    "Question 4: Calculate Sum of Digits\n",
    "Write a program that calculates the sum of the digits of a given number."
   ]
  },
  {
   "cell_type": "markdown",
   "id": "1dcd5104",
   "metadata": {},
   "source": [
    "Question 5: Calculate Fibonacci Series\n",
    "Write a program that generates the Fibonacci series up to a given number of terms."
   ]
  },
  {
   "cell_type": "code",
   "execution_count": null,
   "id": "0b379f91",
   "metadata": {},
   "outputs": [],
   "source": []
  },
  {
   "cell_type": "markdown",
   "id": "db9e8a62",
   "metadata": {},
   "source": [
    "# Questions on Pattern Printing"
   ]
  },
  {
   "cell_type": "code",
   "execution_count": 2,
   "id": "26c65bf5",
   "metadata": {},
   "outputs": [
    {
     "ename": "SyntaxError",
     "evalue": "invalid syntax (1585442511.py, line 1)",
     "output_type": "error",
     "traceback": [
      "\u001b[1;36m  Cell \u001b[1;32mIn[2], line 1\u001b[1;36m\u001b[0m\n\u001b[1;33m    Question 2: Hollow Square Pattern\u001b[0m\n\u001b[1;37m             ^\u001b[0m\n\u001b[1;31mSyntaxError\u001b[0m\u001b[1;31m:\u001b[0m invalid syntax\n"
     ]
    }
   ],
   "source": [
    "Question 2: Hollow Square Pattern\n",
    "Write a program to print a hollow square pattern of asterisks (*) with a side length of 5.\n",
    "\n",
    " ***\n",
    "*   *\n",
    "*   *\n",
    "*   *\n",
    " ***"
   ]
  },
  {
   "cell_type": "code",
   "execution_count": 105,
   "id": "36de9338",
   "metadata": {},
   "outputs": [
    {
     "name": "stdout",
     "output_type": "stream",
     "text": [
      "5\n"
     ]
    }
   ],
   "source": [
    "size = int(input())"
   ]
  },
  {
   "cell_type": "code",
   "execution_count": 107,
   "id": "64288441",
   "metadata": {},
   "outputs": [
    {
     "data": {
      "text/plain": [
       "[0, 1, 2, 3, 4]"
      ]
     },
     "execution_count": 107,
     "metadata": {},
     "output_type": "execute_result"
    }
   ],
   "source": [
    "list(range(size))"
   ]
  },
  {
   "cell_type": "code",
   "execution_count": 133,
   "id": "02de556f",
   "metadata": {},
   "outputs": [
    {
     "name": "stdout",
     "output_type": "stream",
     "text": [
      "*****\n",
      "*   *\n",
      "*   *\n",
      "*   *\n",
      "*****\n"
     ]
    }
   ],
   "source": [
    "for i in range(size):\n",
    "    if i==0 or i==size-1:\n",
    "        print(\"*\"*size)\n",
    "    else:\n",
    "        print(\"*\"+\" \"*(size-2)+\"*\")"
   ]
  },
  {
   "cell_type": "code",
   "execution_count": 121,
   "id": "b243eedb",
   "metadata": {},
   "outputs": [
    {
     "name": "stdout",
     "output_type": "stream",
     "text": [
      "* * * * * \n",
      "*       * \n",
      "*       * \n",
      "*       * \n",
      "* * * * * \n"
     ]
    }
   ],
   "source": [
    "side_length = 5\n",
    "\n",
    "for i in range(side_length):\n",
    "    for j in range(side_length):\n",
    "        if i == 0 or i == side_length - 1 or j == 0 or j == side_length - 1:\n",
    "            print(\"*\", end=\" \")\n",
    "        else:\n",
    "            print(\" \", end=\" \")\n",
    "    print()"
   ]
  },
  {
   "cell_type": "code",
   "execution_count": 124,
   "id": "cef3a7f9",
   "metadata": {},
   "outputs": [
    {
     "name": "stdout",
     "output_type": "stream",
     "text": [
      "Enter number of rows: 5\n",
      "* * * * * \n",
      "*       * \n",
      "*       * \n",
      "*       * \n",
      "* * * * * \n"
     ]
    }
   ],
   "source": [
    "row = int(input(\"Enter number of rows: \"))\n",
    "for i in range(1,row+1):\n",
    "    for j in range(1,row+1):\n",
    "        if i==1 or i==row or j==1 or j==row:\n",
    "            print(\"*\", end=\" \")\n",
    "        else:\n",
    "            print(\" \", end=\" \")\n",
    "    print()"
   ]
  },
  {
   "cell_type": "code",
   "execution_count": 140,
   "id": "dc697463",
   "metadata": {},
   "outputs": [
    {
     "name": "stdout",
     "output_type": "stream",
     "text": [
      "5\n",
      "*****\n",
      "*   *\n",
      "*   *\n",
      "*   *\n",
      "*****\n"
     ]
    }
   ],
   "source": [
    "size=int(input())\n",
    "for i in range(size):\n",
    "    if i==0 or i==size-1:\n",
    "        print(\"*\"*size)\n",
    "    else:\n",
    "        print(\"*\" + \" \"*(size-2)+\"*\")"
   ]
  },
  {
   "cell_type": "code",
   "execution_count": null,
   "id": "8d9b0423",
   "metadata": {},
   "outputs": [],
   "source": []
  },
  {
   "cell_type": "code",
   "execution_count": 138,
   "id": "579783d0",
   "metadata": {},
   "outputs": [
    {
     "name": "stdout",
     "output_type": "stream",
     "text": [
      "*****\n",
      "*   *\n",
      "*   *\n",
      "*   *\n",
      "*****\n"
     ]
    }
   ],
   "source": [
    "size = 5\n",
    "\n",
    "for i in range(size):\n",
    "    if i==0 or i==size-1:\n",
    "        print(\"*\"*size)\n",
    "    else:\n",
    "        print(\"*\" + \" \"*(size-2)+\"*\")"
   ]
  },
  {
   "cell_type": "code",
   "execution_count": null,
   "id": "5acb7cb7",
   "metadata": {},
   "outputs": [],
   "source": []
  },
  {
   "cell_type": "code",
   "execution_count": null,
   "id": "5a12de22",
   "metadata": {},
   "outputs": [],
   "source": []
  },
  {
   "cell_type": "code",
   "execution_count": 111,
   "id": "7d1c167b",
   "metadata": {},
   "outputs": [
    {
     "name": "stdout",
     "output_type": "stream",
     "text": [
      "*****\n",
      "*   *\n",
      "*   *\n",
      "*   *\n",
      "*****\n"
     ]
    }
   ],
   "source": [
    "size = 5\n",
    "\n",
    "for i in range(size):\n",
    "        if i==0 or i==size-1:\n",
    "            print('*'*size)\n",
    "        else:\n",
    "            print(\"*\" + \" \"*(size-2) + \"*\")"
   ]
  },
  {
   "cell_type": "code",
   "execution_count": null,
   "id": "1fe58b4e",
   "metadata": {},
   "outputs": [],
   "source": []
  },
  {
   "cell_type": "code",
   "execution_count": null,
   "id": "aee3d0db",
   "metadata": {},
   "outputs": [],
   "source": []
  },
  {
   "cell_type": "code",
   "execution_count": null,
   "id": "aecda9e0",
   "metadata": {},
   "outputs": [],
   "source": []
  },
  {
   "cell_type": "code",
   "execution_count": null,
   "id": "40a75edd",
   "metadata": {},
   "outputs": [],
   "source": []
  },
  {
   "cell_type": "code",
   "execution_count": null,
   "id": "b45089f9",
   "metadata": {},
   "outputs": [],
   "source": []
  },
  {
   "cell_type": "code",
   "execution_count": null,
   "id": "c4ec2c19",
   "metadata": {},
   "outputs": [],
   "source": [
    "Question 3: Right Triangle Number Pattern\n",
    "Write a program to print a right triangle number pattern\n",
    "1\n",
    "12\n",
    "123\n",
    "1234\n",
    "12345"
   ]
  },
  {
   "cell_type": "code",
   "execution_count": 2,
   "id": "99b3c0ec",
   "metadata": {},
   "outputs": [
    {
     "name": "stdout",
     "output_type": "stream",
     "text": [
      "enter number:  5\n",
      "1\n",
      "12\n",
      "123\n",
      "1234\n",
      "12345\n"
     ]
    }
   ],
   "source": [
    "rows = int(input(\"enter number:  \"))\n",
    "\n",
    "for i in range(1, rows + 1):\n",
    "    for j in range(1, i + 1):\n",
    "        print(j, end=\"\")\n",
    "    print()"
   ]
  },
  {
   "cell_type": "code",
   "execution_count": 19,
   "id": "7e562223",
   "metadata": {},
   "outputs": [
    {
     "name": "stdout",
     "output_type": "stream",
     "text": [
      "10\n",
      "10\n",
      "10\n"
     ]
    }
   ],
   "source": [
    "a = float(input())\n",
    "b = float(input())\n",
    "c = float(input())"
   ]
  },
  {
   "cell_type": "code",
   "execution_count": 20,
   "id": "3b7e1e65",
   "metadata": {},
   "outputs": [
    {
     "name": "stdout",
     "output_type": "stream",
     "text": [
      "triangle is euilateral\n"
     ]
    }
   ],
   "source": [
    "if(a==b==c):\n",
    "    print(\"triangle is euilateral\")\n",
    "elif(a==b) or (a==c) or (b==c):\n",
    "    print(\"triangle is isoscles\")\n",
    "else:\n",
    "    print(\"triangle is scalene\")"
   ]
  },
  {
   "cell_type": "code",
   "execution_count": 46,
   "id": "6524a3bb",
   "metadata": {},
   "outputs": [
    {
     "name": "stdout",
     "output_type": "stream",
     "text": [
      "65\n"
     ]
    }
   ],
   "source": [
    "grade = int(input())"
   ]
  },
  {
   "cell_type": "code",
   "execution_count": 47,
   "id": "891905db",
   "metadata": {},
   "outputs": [
    {
     "name": "stdout",
     "output_type": "stream",
     "text": [
      "grade D\n"
     ]
    }
   ],
   "source": [
    "if grade>=90:\n",
    "    print(\"grade A\")\n",
    "elif (grade>=80):\n",
    "    print(\"grade B\")\n",
    "elif (grade>=70):\n",
    "    print(\"grade C\")\n",
    "elif (grade>=60):\n",
    "    print(\"grade D\")\n",
    "else:\n",
    "    print(\"fail\")"
   ]
  },
  {
   "cell_type": "code",
   "execution_count": null,
   "id": "1f20ab2b",
   "metadata": {},
   "outputs": [],
   "source": []
  },
  {
   "cell_type": "code",
   "execution_count": null,
   "id": "89b059be",
   "metadata": {},
   "outputs": [],
   "source": []
  },
  {
   "cell_type": "code",
   "execution_count": 97,
   "id": "4ebcc887",
   "metadata": {},
   "outputs": [
    {
     "name": "stdout",
     "output_type": "stream",
     "text": [
      "enter number:  7\n",
      "1\n",
      "12\n",
      "123\n",
      "1234\n",
      "12345\n",
      "123456\n",
      "1234567\n"
     ]
    }
   ],
   "source": [
    "rows = int(input(\"enter number:  \"))\n",
    "\n",
    "for i in range(1, rows + 1):\n",
    "    for j in range(1, i + 1):\n",
    "        print(j, end=\"\")\n",
    "    print()"
   ]
  },
  {
   "cell_type": "code",
   "execution_count": 100,
   "id": "d9d9fa67",
   "metadata": {},
   "outputs": [
    {
     "name": "stdout",
     "output_type": "stream",
     "text": [
      "enter a number7\n",
      "1 \n",
      "1 2 \n",
      "1 2 3 \n",
      "1 2 3 4 \n",
      "1 2 3 4 5 \n",
      "1 2 3 4 5 6 \n",
      "1 2 3 4 5 6 7 \n"
     ]
    }
   ],
   "source": [
    "num=int(input(\"enter a number\"))\n",
    "for x in range(1,num+1):\n",
    "    for i in range(1, x+1):\n",
    "        print(i, end=' ')  \n",
    "    print(\"\")"
   ]
  },
  {
   "cell_type": "code",
   "execution_count": 2,
   "id": "e5f27eae",
   "metadata": {},
   "outputs": [],
   "source": [
    "n =7"
   ]
  },
  {
   "cell_type": "code",
   "execution_count": 10,
   "id": "76ae8739",
   "metadata": {
    "scrolled": true
   },
   "outputs": [
    {
     "name": "stdout",
     "output_type": "stream",
     "text": [
      "7x 1 = 7\n",
      "7x 2 = 14\n",
      "7x 3 = 21\n",
      "7x 4 = 28\n",
      "7x 5 = 35\n",
      "7x 6 = 42\n",
      "7x 7 = 49\n",
      "7x 8 = 56\n",
      "7x 9 = 63\n",
      "7x 10 = 70\n"
     ]
    }
   ],
   "source": [
    "for i in range(1,11):\n",
    "        print(\"{}x {} = {}\".format(n, i, n*i))"
   ]
  },
  {
   "cell_type": "code",
   "execution_count": 19,
   "id": "7002cca2",
   "metadata": {},
   "outputs": [
    {
     "name": "stdout",
     "output_type": "stream",
     "text": [
      "enter any value in betwen 1 to 108\n",
      "8*1=8\n",
      "8*2=16\n",
      "8*3=24\n",
      "8*4=32\n",
      "8*5=40\n",
      "8*6=48\n",
      "8*7=56\n",
      "8*8=64\n",
      "8*9=72\n",
      "8*10=80\n",
      "enter any value in betwen 1 to 100\n"
     ]
    }
   ],
   "source": [
    "while(True):\n",
    "    a = int(input(\"enter any value in betwen 1 to 10\"))\n",
    "    if a==0:\n",
    "        break\n",
    "    elif 1<=a<=10:\n",
    "        for i in range(1,11):\n",
    "            print(\"{}*{}={}\".format(a,i,a*i))\n",
    "    else:\n",
    "        print(\"please enter number only in between 1 to 10\")"
   ]
  },
  {
   "cell_type": "code",
   "execution_count": 28,
   "id": "8db46825",
   "metadata": {},
   "outputs": [
    {
     "name": "stdout",
     "output_type": "stream",
     "text": [
      "enter any value in betwen 1 to 108\n",
      "8*1=8\n",
      "8*2=16\n",
      "8*3=24\n",
      "8*4=32\n",
      "8*5=40\n",
      "8*6=48\n",
      "8*7=56\n",
      "8*8=64\n",
      "8*9=72\n",
      "8*10=80\n",
      "enter any value in betwen 1 to 100\n"
     ]
    }
   ],
   "source": [
    "while(True):\n",
    "    a = int(input(\"enter any value in betwen 1 to 10\"))\n",
    "\n",
    "    if a==0:\n",
    "        break\n",
    "    for i in range(1,11):\n",
    "        print(\"{}*{}={}\".format(a,i,a*i))"
   ]
  },
  {
   "cell_type": "code",
   "execution_count": 24,
   "id": "11ff1b3c",
   "metadata": {},
   "outputs": [
    {
     "name": "stdout",
     "output_type": "stream",
     "text": [
      "14\n",
      "28\n",
      "42\n",
      "56\n",
      "70\n",
      "84\n",
      "98\n",
      "112\n",
      "126\n",
      "140\n"
     ]
    }
   ],
   "source": [
    "i = 1\n",
    "while i<=10:\n",
    "    print(i*14)\n",
    "    i=i+1"
   ]
  },
  {
   "cell_type": "code",
   "execution_count": 29,
   "id": "793b4096",
   "metadata": {},
   "outputs": [
    {
     "name": "stdout",
     "output_type": "stream",
     "text": [
      "140\n"
     ]
    }
   ],
   "source": [
    "sum = 0\n",
    "for i in range(1,n+1):\n",
    "    sum += i**2\n",
    "print(sum)"
   ]
  },
  {
   "cell_type": "markdown",
   "id": "14fae9ae",
   "metadata": {},
   "source": [
    "Question 6: Calculate Fibonacci Series\n",
    "Write a program that generates the Fibonacci series up to a given number of terms."
   ]
  },
  {
   "cell_type": "code",
   "execution_count": 33,
   "id": "f4ac585d",
   "metadata": {},
   "outputs": [
    {
     "name": "stdout",
     "output_type": "stream",
     "text": [
      "Enter the number of terms: 7\n",
      "0 1 1 2 3 5 8 "
     ]
    }
   ],
   "source": [
    "terms = int(input(\"Enter the number of terms: \"))\n",
    "a, b = 0, 1\n",
    "\n",
    "\n",
    "for _ in range(terms):\n",
    "    print(a, end=\" \")\n",
    "    a, b = b, a + b"
   ]
  },
  {
   "cell_type": "code",
   "execution_count": 34,
   "id": "ad0eaab2",
   "metadata": {},
   "outputs": [
    {
     "name": "stdout",
     "output_type": "stream",
     "text": [
      "1 \n",
      "2 3 \n",
      "4 5 6 \n",
      "7 8 9 10 \n"
     ]
    }
   ],
   "source": [
    "row = 4\n",
    "num = 1\n",
    "for i in range(1,row+1):\n",
    "    for j in range(1,i+1):\n",
    "        print(num,end=\" \")\n",
    "        num+=1\n",
    "    print()"
   ]
  },
  {
   "cell_type": "code",
   "execution_count": 36,
   "id": "0e5604da",
   "metadata": {},
   "outputs": [
    {
     "name": "stdout",
     "output_type": "stream",
     "text": [
      "1\n",
      "23\n",
      "456\n",
      "78910\n"
     ]
    }
   ],
   "source": [
    "num = 1\n",
    "for i in range(1, 5):\n",
    "    for j in range(1, i + 1):\n",
    "        print(num, end=\"\")\n",
    "        num += 1\n",
    "    print()"
   ]
  },
  {
   "cell_type": "code",
   "execution_count": 37,
   "id": "8588f5a4",
   "metadata": {},
   "outputs": [
    {
     "name": "stdout",
     "output_type": "stream",
     "text": [
      "Enter a string:  8\n",
      "digits: 1\n",
      "letter: 0\n",
      "special characters: 0\n"
     ]
    }
   ],
   "source": [
    "user_input = input(\"Enter a string:  \")\n",
    "\n",
    "\n",
    "digit_count = 0\n",
    "letter_count = 0\n",
    "special_count = 0 \n",
    "\n",
    "\n",
    "for char in user_input:\n",
    "    if char.isdigit():\n",
    "        digit_count += 1\n",
    "    elif char.isalpha():\n",
    "        letter_count += 1\n",
    "    elif char != '  ':\n",
    "        special_count += 1\n",
    "        \n",
    "print(\"digits:\", digit_count)\n",
    "print(\"letter:\", letter_count)\n",
    "print(\"special characters:\", special_count)"
   ]
  },
  {
   "cell_type": "code",
   "execution_count": 39,
   "id": "abfcab2c",
   "metadata": {},
   "outputs": [
    {
     "name": "stdout",
     "output_type": "stream",
     "text": [
      "Enter Base: 7\n",
      "Enter power: 7\n",
      "823543\n"
     ]
    }
   ],
   "source": [
    "num = int(input('Enter Base: '))\n",
    "pwr = int(input('Enter power: '))\n",
    "\n",
    "e = 1\n",
    "for i in range(pwr):\n",
    "    e*=num\n",
    "\n",
    "print(e)"
   ]
  },
  {
   "cell_type": "code",
   "execution_count": 40,
   "id": "6bfcd8c8",
   "metadata": {},
   "outputs": [
    {
     "name": "stdout",
     "output_type": "stream",
     "text": [
      "Enter a value for N:  10\n",
      "sum of squares of first 10 natural numbers: 385\n"
     ]
    }
   ],
   "source": [
    "n = int(input(\"Enter a value for N:  \"))\n",
    "\n",
    "sum_of_squares = 0\n",
    "i = 1\n",
    "\n",
    "while i <= n:\n",
    "    sum_of_squares += i ** 2\n",
    "    i += 1\n",
    "    \n",
    "print(\"sum of squares of first\", n, \"natural numbers:\", sum_of_squares)"
   ]
  },
  {
   "cell_type": "code",
   "execution_count": 1,
   "id": "e20aa13f",
   "metadata": {},
   "outputs": [
    {
     "name": "stdout",
     "output_type": "stream",
     "text": [
      "Enter a number: \n"
     ]
    },
    {
     "ename": "ValueError",
     "evalue": "could not convert string to float: ''",
     "output_type": "error",
     "traceback": [
      "\u001b[1;31m---------------------------------------------------------------------------\u001b[0m",
      "\u001b[1;31mValueError\u001b[0m                                Traceback (most recent call last)",
      "Cell \u001b[1;32mIn[1], line 2\u001b[0m\n\u001b[0;32m      1\u001b[0m \u001b[38;5;66;03m#Example 1: Checking if a number is positive, negative, or zero\u001b[39;00m\n\u001b[1;32m----> 2\u001b[0m number \u001b[38;5;241m=\u001b[39m \u001b[38;5;28mfloat\u001b[39m(\u001b[38;5;28minput\u001b[39m(\u001b[38;5;124m\"\u001b[39m\u001b[38;5;124mEnter a number: \u001b[39m\u001b[38;5;124m\"\u001b[39m))\n\u001b[0;32m      4\u001b[0m \u001b[38;5;28;01mif\u001b[39;00m number \u001b[38;5;241m>\u001b[39m \u001b[38;5;241m0\u001b[39m:\n\u001b[0;32m      5\u001b[0m     \u001b[38;5;28mprint\u001b[39m(\u001b[38;5;124m\"\u001b[39m\u001b[38;5;124mThe number is positive.\u001b[39m\u001b[38;5;124m\"\u001b[39m)\n",
      "\u001b[1;31mValueError\u001b[0m: could not convert string to float: ''"
     ]
    }
   ],
   "source": [
    "#Example 1: Checking if a number is positive, negative, or zero\n",
    "number = float(input(\"Enter a number: \"))\n",
    "\n",
    "if number > 0:\n",
    "    print(\"The number is positive.\")\n",
    "elif number < 0:\n",
    "    print(\"The number is negative.\")\n",
    "else:\n",
    "    print(\"The number is zero.\")\n"
   ]
  },
  {
   "cell_type": "code",
   "execution_count": 2,
   "id": "c9ca60a2",
   "metadata": {},
   "outputs": [
    {
     "name": "stdout",
     "output_type": "stream",
     "text": [
      "Enter a year: \n"
     ]
    },
    {
     "ename": "ValueError",
     "evalue": "invalid literal for int() with base 10: ''",
     "output_type": "error",
     "traceback": [
      "\u001b[1;31m---------------------------------------------------------------------------\u001b[0m",
      "\u001b[1;31mValueError\u001b[0m                                Traceback (most recent call last)",
      "Cell \u001b[1;32mIn[2], line 2\u001b[0m\n\u001b[0;32m      1\u001b[0m \u001b[38;5;66;03m#Example 2: Checking if a year is a leap year\u001b[39;00m\n\u001b[1;32m----> 2\u001b[0m year \u001b[38;5;241m=\u001b[39m \u001b[38;5;28mint\u001b[39m(\u001b[38;5;28minput\u001b[39m(\u001b[38;5;124m\"\u001b[39m\u001b[38;5;124mEnter a year: \u001b[39m\u001b[38;5;124m\"\u001b[39m))\n\u001b[0;32m      4\u001b[0m \u001b[38;5;28;01mif\u001b[39;00m (year \u001b[38;5;241m%\u001b[39m \u001b[38;5;241m4\u001b[39m \u001b[38;5;241m==\u001b[39m \u001b[38;5;241m0\u001b[39m \u001b[38;5;129;01mand\u001b[39;00m year \u001b[38;5;241m%\u001b[39m \u001b[38;5;241m100\u001b[39m \u001b[38;5;241m!=\u001b[39m \u001b[38;5;241m0\u001b[39m) \u001b[38;5;129;01mor\u001b[39;00m (year \u001b[38;5;241m%\u001b[39m \u001b[38;5;241m400\u001b[39m \u001b[38;5;241m==\u001b[39m \u001b[38;5;241m0\u001b[39m):\n\u001b[0;32m      5\u001b[0m     \u001b[38;5;28mprint\u001b[39m(\u001b[38;5;124mf\u001b[39m\u001b[38;5;124m\"\u001b[39m\u001b[38;5;132;01m{\u001b[39;00myear\u001b[38;5;132;01m}\u001b[39;00m\u001b[38;5;124m is a leap year.\u001b[39m\u001b[38;5;124m\"\u001b[39m)\n",
      "\u001b[1;31mValueError\u001b[0m: invalid literal for int() with base 10: ''"
     ]
    }
   ],
   "source": [
    "#Example 2: Checking if a year is a leap year\n",
    "year = int(input(\"Enter a year: \"))\n",
    "\n",
    "if (year % 4 == 0 and year % 100 != 0) or (year % 400 == 0):\n",
    "    print(f\"{year} is a leap year.\")\n",
    "else:\n",
    "    print(f\"{year} is not a leap year.\")\n"
   ]
  },
  {
   "cell_type": "code",
   "execution_count": 3,
   "id": "590cfc6c",
   "metadata": {},
   "outputs": [
    {
     "name": "stdout",
     "output_type": "stream",
     "text": [
      "Enter the first number: \n"
     ]
    },
    {
     "ename": "ValueError",
     "evalue": "could not convert string to float: ''",
     "output_type": "error",
     "traceback": [
      "\u001b[1;31m---------------------------------------------------------------------------\u001b[0m",
      "\u001b[1;31mValueError\u001b[0m                                Traceback (most recent call last)",
      "Cell \u001b[1;32mIn[3], line 2\u001b[0m\n\u001b[0;32m      1\u001b[0m \u001b[38;5;66;03m#Example 3: Determining the largest of three numbers\u001b[39;00m\n\u001b[1;32m----> 2\u001b[0m num1 \u001b[38;5;241m=\u001b[39m \u001b[38;5;28mfloat\u001b[39m(\u001b[38;5;28minput\u001b[39m(\u001b[38;5;124m\"\u001b[39m\u001b[38;5;124mEnter the first number: \u001b[39m\u001b[38;5;124m\"\u001b[39m))\n\u001b[0;32m      3\u001b[0m num2 \u001b[38;5;241m=\u001b[39m \u001b[38;5;28mfloat\u001b[39m(\u001b[38;5;28minput\u001b[39m(\u001b[38;5;124m\"\u001b[39m\u001b[38;5;124mEnter the second number: \u001b[39m\u001b[38;5;124m\"\u001b[39m))\n\u001b[0;32m      4\u001b[0m num3 \u001b[38;5;241m=\u001b[39m \u001b[38;5;28mfloat\u001b[39m(\u001b[38;5;28minput\u001b[39m(\u001b[38;5;124m\"\u001b[39m\u001b[38;5;124mEnter the third number: \u001b[39m\u001b[38;5;124m\"\u001b[39m))\n",
      "\u001b[1;31mValueError\u001b[0m: could not convert string to float: ''"
     ]
    }
   ],
   "source": [
    "#Example 3: Determining the largest of three numbers\n",
    "num1 = float(input(\"Enter the first number: \"))\n",
    "num2 = float(input(\"Enter the second number: \"))\n",
    "num3 = float(input(\"Enter the third number: \"))\n",
    "\n",
    "if num1 >= num2 and num1 >= num3:\n",
    "    largest = num1\n",
    "elif num2 >= num1 and num2 >= num3:\n",
    "    largest = num2\n",
    "else:\n",
    "    largest = num3\n",
    "\n",
    "print(f\"The largest number is {largest}.\")\n",
    "\n"
   ]
  },
  {
   "cell_type": "code",
   "execution_count": 4,
   "id": "10088d4d",
   "metadata": {},
   "outputs": [
    {
     "name": "stdout",
     "output_type": "stream",
     "text": [
      "Enter your age: \n"
     ]
    },
    {
     "ename": "ValueError",
     "evalue": "invalid literal for int() with base 10: ''",
     "output_type": "error",
     "traceback": [
      "\u001b[1;31m---------------------------------------------------------------------------\u001b[0m",
      "\u001b[1;31mValueError\u001b[0m                                Traceback (most recent call last)",
      "Cell \u001b[1;32mIn[4], line 2\u001b[0m\n\u001b[0;32m      1\u001b[0m \u001b[38;5;66;03m#Example 4: Checking eligibility for voting\u001b[39;00m\n\u001b[1;32m----> 2\u001b[0m age \u001b[38;5;241m=\u001b[39m \u001b[38;5;28mint\u001b[39m(\u001b[38;5;28minput\u001b[39m(\u001b[38;5;124m\"\u001b[39m\u001b[38;5;124mEnter your age: \u001b[39m\u001b[38;5;124m\"\u001b[39m))\n\u001b[0;32m      4\u001b[0m \u001b[38;5;28;01mif\u001b[39;00m age \u001b[38;5;241m>\u001b[39m\u001b[38;5;241m=\u001b[39m \u001b[38;5;241m18\u001b[39m:\n\u001b[0;32m      5\u001b[0m     \u001b[38;5;28mprint\u001b[39m(\u001b[38;5;124m\"\u001b[39m\u001b[38;5;124mYou are eligible to vote.\u001b[39m\u001b[38;5;124m\"\u001b[39m)\n",
      "\u001b[1;31mValueError\u001b[0m: invalid literal for int() with base 10: ''"
     ]
    }
   ],
   "source": [
    "#Example 4: Checking eligibility for voting\n",
    "age = int(input(\"Enter your age: \"))\n",
    "\n",
    "if age >= 18:\n",
    "    print(\"You are eligible to vote.\")\n",
    "else:\n",
    "    print(\"You are not eligible to vote yet.\")\n"
   ]
  },
  {
   "cell_type": "code",
   "execution_count": 5,
   "id": "d4ba76f1",
   "metadata": {},
   "outputs": [
    {
     "name": "stdout",
     "output_type": "stream",
     "text": [
      "Enter the length of the first side: \n"
     ]
    },
    {
     "ename": "ValueError",
     "evalue": "could not convert string to float: ''",
     "output_type": "error",
     "traceback": [
      "\u001b[1;31m---------------------------------------------------------------------------\u001b[0m",
      "\u001b[1;31mValueError\u001b[0m                                Traceback (most recent call last)",
      "Cell \u001b[1;32mIn[5], line 2\u001b[0m\n\u001b[0;32m      1\u001b[0m \u001b[38;5;66;03m#Example 5: Classifying a triangle based on its sides\u001b[39;00m\n\u001b[1;32m----> 2\u001b[0m side1 \u001b[38;5;241m=\u001b[39m \u001b[38;5;28mfloat\u001b[39m(\u001b[38;5;28minput\u001b[39m(\u001b[38;5;124m\"\u001b[39m\u001b[38;5;124mEnter the length of the first side: \u001b[39m\u001b[38;5;124m\"\u001b[39m))\n\u001b[0;32m      3\u001b[0m side2 \u001b[38;5;241m=\u001b[39m \u001b[38;5;28mfloat\u001b[39m(\u001b[38;5;28minput\u001b[39m(\u001b[38;5;124m\"\u001b[39m\u001b[38;5;124mEnter the length of the second side: \u001b[39m\u001b[38;5;124m\"\u001b[39m))\n\u001b[0;32m      4\u001b[0m side3 \u001b[38;5;241m=\u001b[39m \u001b[38;5;28mfloat\u001b[39m(\u001b[38;5;28minput\u001b[39m(\u001b[38;5;124m\"\u001b[39m\u001b[38;5;124mEnter the length of the third side: \u001b[39m\u001b[38;5;124m\"\u001b[39m))\n",
      "\u001b[1;31mValueError\u001b[0m: could not convert string to float: ''"
     ]
    }
   ],
   "source": [
    "#Example 5: Classifying a triangle based on its sides\n",
    "side1 = float(input(\"Enter the length of the first side: \"))\n",
    "side2 = float(input(\"Enter the length of the second side: \"))\n",
    "side3 = float(input(\"Enter the length of the third side: \"))\n",
    "\n",
    "if side1 == side2 == side3:\n",
    "    print(\"Equilateral triangle\")\n",
    "elif side1 == side2 or side1 == side3 or side2 == side3:\n",
    "    print(\"Isosceles triangle\")\n",
    "else:\n",
    "    print(\"Scalene triangle\")\n",
    "\n",
    "    "
   ]
  },
  {
   "cell_type": "code",
   "execution_count": null,
   "id": "f196c2ec",
   "metadata": {},
   "outputs": [],
   "source": []
  },
  {
   "cell_type": "code",
   "execution_count": 6,
   "id": "9401a72c",
   "metadata": {},
   "outputs": [
    {
     "name": "stdout",
     "output_type": "stream",
     "text": [
      "Choose conversion type (C to F or F to C): \n",
      "Invalid choice.\n"
     ]
    }
   ],
   "source": [
    "#Example 6: Temperature Conversion\n",
    "#Write a program that converts a temperature from Celsius to Fahrenheit or vice versa based on user input.\n",
    "\n",
    "choice = input(\"Choose conversion type (C to F or F to C): \").upper()\n",
    "\n",
    "if choice == \"C\":\n",
    "    celsius = float(input(\"Enter temperature in Celsius: \"))\n",
    "    fahrenheit = (celsius * 9/5) + 32\n",
    "    print(f\"{celsius}°C is equal to {fahrenheit}°F.\")\n",
    "elif choice == \"F\":\n",
    "    fahrenheit = float(input(\"Enter temperature in Fahrenheit: \"))\n",
    "    celsius = (fahrenheit - 32) * 5/9\n",
    "    print(f\"{fahrenheit}°F is equal to {celsius}°C.\")\n",
    "else:\n",
    "    print(\"Invalid choice.\")\n"
   ]
  },
  {
   "cell_type": "code",
   "execution_count": null,
   "id": "dcf031af",
   "metadata": {},
   "outputs": [],
   "source": []
  },
  {
   "cell_type": "code",
   "execution_count": 7,
   "id": "374a7a3b",
   "metadata": {},
   "outputs": [
    {
     "name": "stdout",
     "output_type": "stream",
     "text": [
      "Enter the student's score: \n"
     ]
    },
    {
     "ename": "ValueError",
     "evalue": "could not convert string to float: ''",
     "output_type": "error",
     "traceback": [
      "\u001b[1;31m---------------------------------------------------------------------------\u001b[0m",
      "\u001b[1;31mValueError\u001b[0m                                Traceback (most recent call last)",
      "Cell \u001b[1;32mIn[7], line 3\u001b[0m\n\u001b[0;32m      1\u001b[0m \u001b[38;5;66;03m#Example 7: Grade Calculation\u001b[39;00m\n\u001b[0;32m      2\u001b[0m \u001b[38;5;66;03m#Write a program that takes a student's score as input and outputs their corresponding grade.\u001b[39;00m\n\u001b[1;32m----> 3\u001b[0m score \u001b[38;5;241m=\u001b[39m \u001b[38;5;28mfloat\u001b[39m(\u001b[38;5;28minput\u001b[39m(\u001b[38;5;124m\"\u001b[39m\u001b[38;5;124mEnter the student\u001b[39m\u001b[38;5;124m'\u001b[39m\u001b[38;5;124ms score: \u001b[39m\u001b[38;5;124m\"\u001b[39m))\n\u001b[0;32m      5\u001b[0m \u001b[38;5;28;01mif\u001b[39;00m score \u001b[38;5;241m>\u001b[39m\u001b[38;5;241m=\u001b[39m \u001b[38;5;241m90\u001b[39m:\n\u001b[0;32m      6\u001b[0m     grade \u001b[38;5;241m=\u001b[39m \u001b[38;5;124m\"\u001b[39m\u001b[38;5;124mA\u001b[39m\u001b[38;5;124m\"\u001b[39m\n",
      "\u001b[1;31mValueError\u001b[0m: could not convert string to float: ''"
     ]
    }
   ],
   "source": [
    "#Example 7: Grade Calculation\n",
    "#Write a program that takes a student's score as input and outputs their corresponding grade.\n",
    "score = float(input(\"Enter the student's score: \"))\n",
    "\n",
    "if score >= 90:\n",
    "    grade = \"A\"\n",
    "elif score >= 80:\n",
    "    grade = \"B\"\n",
    "elif score >= 70:\n",
    "    grade = \"C\"\n",
    "elif score >= 60:\n",
    "    grade = \"D\"\n",
    "else:\n",
    "    grade = \"F\"\n",
    "\n",
    "print(f\"The student's grade is {grade}.\")\n"
   ]
  },
  {
   "cell_type": "code",
   "execution_count": 8,
   "id": "d25fe54f",
   "metadata": {},
   "outputs": [
    {
     "name": "stdout",
     "output_type": "stream",
     "text": [
      "Enter your username: \n",
      "Enter your password: \n",
      "Login failed. Incorrect username or password.\n"
     ]
    }
   ],
   "source": [
    "#Example 8: Login System\n",
    "#Create a simple login system where the user needs to input a username and password.\n",
    "#Allow access if both the username and password match predefined values.\n",
    "username = input(\"Enter your username: \")\n",
    "password = input(\"Enter your password: \")\n",
    "\n",
    "correct_username = \"user123\"\n",
    "correct_password = \"pass456\"\n",
    "\n",
    "if username == correct_username and password == correct_password:\n",
    "    print(\"Login successful.\")\n",
    "else:\n",
    "    print(\"Login failed. Incorrect username or password.\")\n"
   ]
  },
  {
   "cell_type": "code",
   "execution_count": null,
   "id": "020e465c",
   "metadata": {},
   "outputs": [],
   "source": []
  },
  {
   "cell_type": "code",
   "execution_count": null,
   "id": "3e0a7962",
   "metadata": {},
   "outputs": [],
   "source": []
  },
  {
   "cell_type": "code",
   "execution_count": 9,
   "id": "a4935bb5",
   "metadata": {},
   "outputs": [
    {
     "name": "stdout",
     "output_type": "stream",
     "text": [
      "Enter a number: \n"
     ]
    },
    {
     "ename": "ValueError",
     "evalue": "invalid literal for int() with base 10: ''",
     "output_type": "error",
     "traceback": [
      "\u001b[1;31m---------------------------------------------------------------------------\u001b[0m",
      "\u001b[1;31mValueError\u001b[0m                                Traceback (most recent call last)",
      "Cell \u001b[1;32mIn[9], line 3\u001b[0m\n\u001b[0;32m      1\u001b[0m \u001b[38;5;66;03m#Example 9: Divisibility Check\u001b[39;00m\n\u001b[0;32m      2\u001b[0m \u001b[38;5;66;03m#Write a program that checks if a number is divisible by both 3 and 5, only by 3, only by 5, or not by either.\u001b[39;00m\n\u001b[1;32m----> 3\u001b[0m number \u001b[38;5;241m=\u001b[39m \u001b[38;5;28mint\u001b[39m(\u001b[38;5;28minput\u001b[39m(\u001b[38;5;124m\"\u001b[39m\u001b[38;5;124mEnter a number: \u001b[39m\u001b[38;5;124m\"\u001b[39m))\n\u001b[0;32m      5\u001b[0m \u001b[38;5;28;01mif\u001b[39;00m number \u001b[38;5;241m%\u001b[39m \u001b[38;5;241m3\u001b[39m \u001b[38;5;241m==\u001b[39m \u001b[38;5;241m0\u001b[39m \u001b[38;5;129;01mand\u001b[39;00m number \u001b[38;5;241m%\u001b[39m \u001b[38;5;241m5\u001b[39m \u001b[38;5;241m==\u001b[39m \u001b[38;5;241m0\u001b[39m:\n\u001b[0;32m      6\u001b[0m     \u001b[38;5;28mprint\u001b[39m(\u001b[38;5;124m\"\u001b[39m\u001b[38;5;124mThe number is divisible by both 3 and 5.\u001b[39m\u001b[38;5;124m\"\u001b[39m)\n",
      "\u001b[1;31mValueError\u001b[0m: invalid literal for int() with base 10: ''"
     ]
    }
   ],
   "source": [
    "#Example 9: Divisibility Check\n",
    "#Write a program that checks if a number is divisible by both 3 and 5, only by 3, only by 5, or not by either.\n",
    "number = int(input(\"Enter a number: \"))\n",
    "\n",
    "if number % 3 == 0 and number % 5 == 0:\n",
    "    print(\"The number is divisible by both 3 and 5.\")\n",
    "elif number % 3 == 0:\n",
    "    print(\"The number is divisible by 3.\")\n",
    "elif number % 5 == 0:\n",
    "    print(\"The number is divisible by 5.\")\n",
    "else:\n",
    "    print(\"The number is not divisible by either 3 or 5.\")\n",
    "\n"
   ]
  },
  {
   "cell_type": "code",
   "execution_count": null,
   "id": "c52675c1",
   "metadata": {},
   "outputs": [],
   "source": []
  },
  {
   "cell_type": "code",
   "execution_count": 2,
   "id": "baeaad4e",
   "metadata": {},
   "outputs": [
    {
     "name": "stdout",
     "output_type": "stream",
     "text": [
      "Enter a positive integer: \n"
     ]
    },
    {
     "ename": "ValueError",
     "evalue": "invalid literal for int() with base 10: ''",
     "output_type": "error",
     "traceback": [
      "\u001b[1;31m---------------------------------------------------------------------------\u001b[0m",
      "\u001b[1;31mValueError\u001b[0m                                Traceback (most recent call last)",
      "Cell \u001b[1;32mIn[2], line 5\u001b[0m\n\u001b[0;32m      1\u001b[0m \u001b[38;5;66;03m#Example 1: Countdown\u001b[39;00m\n\u001b[0;32m      2\u001b[0m \n\u001b[0;32m      3\u001b[0m \u001b[38;5;66;03m#Write a program that takes a positive integer as input and counts down from that number to 1.\u001b[39;00m\n\u001b[1;32m----> 5\u001b[0m count \u001b[38;5;241m=\u001b[39m \u001b[38;5;28mint\u001b[39m(\u001b[38;5;28minput\u001b[39m(\u001b[38;5;124m\"\u001b[39m\u001b[38;5;124mEnter a positive integer: \u001b[39m\u001b[38;5;124m\"\u001b[39m))\n\u001b[0;32m      7\u001b[0m \u001b[38;5;28;01mwhile\u001b[39;00m count \u001b[38;5;241m>\u001b[39m\u001b[38;5;241m=\u001b[39m \u001b[38;5;241m1\u001b[39m:\n\u001b[0;32m      8\u001b[0m     \u001b[38;5;28mprint\u001b[39m(count)\n",
      "\u001b[1;31mValueError\u001b[0m: invalid literal for int() with base 10: ''"
     ]
    }
   ],
   "source": [
    "#Example 1: Countdown\n",
    "\n",
    "#Write a program that takes a positive integer as input and counts down from that number to 1.\n",
    "\n",
    "count = int(input(\"Enter a positive integer: \"))\n",
    "\n",
    "while count >= 1:\n",
    "    print(count)\n",
    "    count -= 1"
   ]
  },
  {
   "cell_type": "code",
   "execution_count": 3,
   "id": "b7c97383",
   "metadata": {},
   "outputs": [
    {
     "name": "stdout",
     "output_type": "stream",
     "text": [
      "Enter an integer: \n"
     ]
    },
    {
     "ename": "ValueError",
     "evalue": "invalid literal for int() with base 10: ''",
     "output_type": "error",
     "traceback": [
      "\u001b[1;31m---------------------------------------------------------------------------\u001b[0m",
      "\u001b[1;31mValueError\u001b[0m                                Traceback (most recent call last)",
      "Cell \u001b[1;32mIn[3], line 5\u001b[0m\n\u001b[0;32m      1\u001b[0m \u001b[38;5;66;03m# Example 2: Sum of Digits\u001b[39;00m\n\u001b[0;32m      2\u001b[0m \n\u001b[0;32m      3\u001b[0m \u001b[38;5;66;03m# Write a program that calculates and prints the sum of the digits of a given integer.\u001b[39;00m\n\u001b[1;32m----> 5\u001b[0m number \u001b[38;5;241m=\u001b[39m \u001b[38;5;28mint\u001b[39m(\u001b[38;5;28minput\u001b[39m(\u001b[38;5;124m\"\u001b[39m\u001b[38;5;124mEnter an integer: \u001b[39m\u001b[38;5;124m\"\u001b[39m))\n\u001b[0;32m      6\u001b[0m sum_of_digits \u001b[38;5;241m=\u001b[39m \u001b[38;5;241m0\u001b[39m\n\u001b[0;32m      8\u001b[0m \u001b[38;5;28;01mwhile\u001b[39;00m number \u001b[38;5;241m!=\u001b[39m \u001b[38;5;241m0\u001b[39m:\n",
      "\u001b[1;31mValueError\u001b[0m: invalid literal for int() with base 10: ''"
     ]
    }
   ],
   "source": [
    "# Example 2: Sum of Digits\n",
    "\n",
    "# Write a program that calculates and prints the sum of the digits of a given integer.\n",
    "\n",
    "number = int(input(\"Enter an integer: \"))\n",
    "sum_of_digits = 0\n",
    "\n",
    "while number != 0:\n",
    "    digit = number % 10\n",
    "    sum_of_digits += digit\n",
    "    number //= 10\n",
    "\n",
    "print(f\"The sum of the digits is: {sum_of_digits}\")\n"
   ]
  },
  {
   "cell_type": "code",
   "execution_count": 5,
   "id": "103b5a7a",
   "metadata": {},
   "outputs": [
    {
     "ename": "KeyboardInterrupt",
     "evalue": "Interrupted by user",
     "output_type": "error",
     "traceback": [
      "\u001b[1;31m---------------------------------------------------------------------------\u001b[0m",
      "\u001b[1;31mKeyboardInterrupt\u001b[0m                         Traceback (most recent call last)",
      "Cell \u001b[1;32mIn[5], line 6\u001b[0m\n\u001b[0;32m      1\u001b[0m \u001b[38;5;66;03m#Example 3: Password Guessing Game\u001b[39;00m\n\u001b[0;32m      2\u001b[0m \n\u001b[0;32m      3\u001b[0m \u001b[38;5;66;03m#Create a simple password guessing game where the user needs to guess the correct password.\u001b[39;00m\n\u001b[0;32m      5\u001b[0m correct_password \u001b[38;5;241m=\u001b[39m \u001b[38;5;124m\"\u001b[39m\u001b[38;5;124msecret\u001b[39m\u001b[38;5;124m\"\u001b[39m\n\u001b[1;32m----> 6\u001b[0m guess \u001b[38;5;241m=\u001b[39m \u001b[38;5;28minput\u001b[39m(\u001b[38;5;124m\"\u001b[39m\u001b[38;5;124mGuess the password: \u001b[39m\u001b[38;5;124m\"\u001b[39m)\n\u001b[0;32m      8\u001b[0m \u001b[38;5;28;01mwhile\u001b[39;00m guess \u001b[38;5;241m!=\u001b[39m correct_password:\n\u001b[0;32m      9\u001b[0m     guess \u001b[38;5;241m=\u001b[39m \u001b[38;5;28minput\u001b[39m(\u001b[38;5;124m\"\u001b[39m\u001b[38;5;124mIncorrect. Try again: \u001b[39m\u001b[38;5;124m\"\u001b[39m)\n",
      "File \u001b[1;32m~\\anaconda3\\Lib\\site-packages\\ipykernel\\kernelbase.py:1175\u001b[0m, in \u001b[0;36mKernel.raw_input\u001b[1;34m(self, prompt)\u001b[0m\n\u001b[0;32m   1171\u001b[0m \u001b[38;5;28;01mif\u001b[39;00m \u001b[38;5;129;01mnot\u001b[39;00m \u001b[38;5;28mself\u001b[39m\u001b[38;5;241m.\u001b[39m_allow_stdin:\n\u001b[0;32m   1172\u001b[0m     \u001b[38;5;28;01mraise\u001b[39;00m StdinNotImplementedError(\n\u001b[0;32m   1173\u001b[0m         \u001b[38;5;124m\"\u001b[39m\u001b[38;5;124mraw_input was called, but this frontend does not support input requests.\u001b[39m\u001b[38;5;124m\"\u001b[39m\n\u001b[0;32m   1174\u001b[0m     )\n\u001b[1;32m-> 1175\u001b[0m \u001b[38;5;28;01mreturn\u001b[39;00m \u001b[38;5;28mself\u001b[39m\u001b[38;5;241m.\u001b[39m_input_request(\n\u001b[0;32m   1176\u001b[0m     \u001b[38;5;28mstr\u001b[39m(prompt),\n\u001b[0;32m   1177\u001b[0m     \u001b[38;5;28mself\u001b[39m\u001b[38;5;241m.\u001b[39m_parent_ident[\u001b[38;5;124m\"\u001b[39m\u001b[38;5;124mshell\u001b[39m\u001b[38;5;124m\"\u001b[39m],\n\u001b[0;32m   1178\u001b[0m     \u001b[38;5;28mself\u001b[39m\u001b[38;5;241m.\u001b[39mget_parent(\u001b[38;5;124m\"\u001b[39m\u001b[38;5;124mshell\u001b[39m\u001b[38;5;124m\"\u001b[39m),\n\u001b[0;32m   1179\u001b[0m     password\u001b[38;5;241m=\u001b[39m\u001b[38;5;28;01mFalse\u001b[39;00m,\n\u001b[0;32m   1180\u001b[0m )\n",
      "File \u001b[1;32m~\\anaconda3\\Lib\\site-packages\\ipykernel\\kernelbase.py:1217\u001b[0m, in \u001b[0;36mKernel._input_request\u001b[1;34m(self, prompt, ident, parent, password)\u001b[0m\n\u001b[0;32m   1214\u001b[0m             \u001b[38;5;28;01mbreak\u001b[39;00m\n\u001b[0;32m   1215\u001b[0m \u001b[38;5;28;01mexcept\u001b[39;00m \u001b[38;5;167;01mKeyboardInterrupt\u001b[39;00m:\n\u001b[0;32m   1216\u001b[0m     \u001b[38;5;66;03m# re-raise KeyboardInterrupt, to truncate traceback\u001b[39;00m\n\u001b[1;32m-> 1217\u001b[0m     \u001b[38;5;28;01mraise\u001b[39;00m \u001b[38;5;167;01mKeyboardInterrupt\u001b[39;00m(\u001b[38;5;124m\"\u001b[39m\u001b[38;5;124mInterrupted by user\u001b[39m\u001b[38;5;124m\"\u001b[39m) \u001b[38;5;28;01mfrom\u001b[39;00m \u001b[38;5;28;01mNone\u001b[39;00m\n\u001b[0;32m   1218\u001b[0m \u001b[38;5;28;01mexcept\u001b[39;00m \u001b[38;5;167;01mException\u001b[39;00m:\n\u001b[0;32m   1219\u001b[0m     \u001b[38;5;28mself\u001b[39m\u001b[38;5;241m.\u001b[39mlog\u001b[38;5;241m.\u001b[39mwarning(\u001b[38;5;124m\"\u001b[39m\u001b[38;5;124mInvalid Message:\u001b[39m\u001b[38;5;124m\"\u001b[39m, exc_info\u001b[38;5;241m=\u001b[39m\u001b[38;5;28;01mTrue\u001b[39;00m)\n",
      "\u001b[1;31mKeyboardInterrupt\u001b[0m: Interrupted by user"
     ]
    }
   ],
   "source": [
    "#Example 3: Password Guessing Game\n",
    "\n",
    "#Create a simple password guessing game where the user needs to guess the correct password.\n",
    "\n",
    "correct_password = \"secret\"\n",
    "guess = input(\"Guess the password: \")\n",
    "\n",
    "while guess != correct_password:\n",
    "    guess = input(\"Incorrect. Try again: \")\n",
    "\n",
    "print(\"Congratulations! You guessed the correct password.\")\n"
   ]
  },
  {
   "cell_type": "code",
   "execution_count": 6,
   "id": "a627bf7b",
   "metadata": {},
   "outputs": [
    {
     "ename": "KeyboardInterrupt",
     "evalue": "Interrupted by user",
     "output_type": "error",
     "traceback": [
      "\u001b[1;31m---------------------------------------------------------------------------\u001b[0m",
      "\u001b[1;31mKeyboardInterrupt\u001b[0m                         Traceback (most recent call last)",
      "Cell \u001b[1;32mIn[6], line 5\u001b[0m\n\u001b[0;32m      1\u001b[0m \u001b[38;5;66;03m#Example 4: Factorial Calculation\u001b[39;00m\n\u001b[0;32m      2\u001b[0m \n\u001b[0;32m      3\u001b[0m \u001b[38;5;66;03m#Write a program that calculates the factorial of a given non-negative integer.\u001b[39;00m\n\u001b[1;32m----> 5\u001b[0m number \u001b[38;5;241m=\u001b[39m \u001b[38;5;28mint\u001b[39m(\u001b[38;5;28minput\u001b[39m(\u001b[38;5;124m\"\u001b[39m\u001b[38;5;124mEnter a non-negative integer: \u001b[39m\u001b[38;5;124m\"\u001b[39m))\n\u001b[0;32m      6\u001b[0m factorial \u001b[38;5;241m=\u001b[39m \u001b[38;5;241m1\u001b[39m\n\u001b[0;32m      7\u001b[0m i \u001b[38;5;241m=\u001b[39m \u001b[38;5;241m1\u001b[39m\n",
      "File \u001b[1;32m~\\anaconda3\\Lib\\site-packages\\ipykernel\\kernelbase.py:1175\u001b[0m, in \u001b[0;36mKernel.raw_input\u001b[1;34m(self, prompt)\u001b[0m\n\u001b[0;32m   1171\u001b[0m \u001b[38;5;28;01mif\u001b[39;00m \u001b[38;5;129;01mnot\u001b[39;00m \u001b[38;5;28mself\u001b[39m\u001b[38;5;241m.\u001b[39m_allow_stdin:\n\u001b[0;32m   1172\u001b[0m     \u001b[38;5;28;01mraise\u001b[39;00m StdinNotImplementedError(\n\u001b[0;32m   1173\u001b[0m         \u001b[38;5;124m\"\u001b[39m\u001b[38;5;124mraw_input was called, but this frontend does not support input requests.\u001b[39m\u001b[38;5;124m\"\u001b[39m\n\u001b[0;32m   1174\u001b[0m     )\n\u001b[1;32m-> 1175\u001b[0m \u001b[38;5;28;01mreturn\u001b[39;00m \u001b[38;5;28mself\u001b[39m\u001b[38;5;241m.\u001b[39m_input_request(\n\u001b[0;32m   1176\u001b[0m     \u001b[38;5;28mstr\u001b[39m(prompt),\n\u001b[0;32m   1177\u001b[0m     \u001b[38;5;28mself\u001b[39m\u001b[38;5;241m.\u001b[39m_parent_ident[\u001b[38;5;124m\"\u001b[39m\u001b[38;5;124mshell\u001b[39m\u001b[38;5;124m\"\u001b[39m],\n\u001b[0;32m   1178\u001b[0m     \u001b[38;5;28mself\u001b[39m\u001b[38;5;241m.\u001b[39mget_parent(\u001b[38;5;124m\"\u001b[39m\u001b[38;5;124mshell\u001b[39m\u001b[38;5;124m\"\u001b[39m),\n\u001b[0;32m   1179\u001b[0m     password\u001b[38;5;241m=\u001b[39m\u001b[38;5;28;01mFalse\u001b[39;00m,\n\u001b[0;32m   1180\u001b[0m )\n",
      "File \u001b[1;32m~\\anaconda3\\Lib\\site-packages\\ipykernel\\kernelbase.py:1217\u001b[0m, in \u001b[0;36mKernel._input_request\u001b[1;34m(self, prompt, ident, parent, password)\u001b[0m\n\u001b[0;32m   1214\u001b[0m             \u001b[38;5;28;01mbreak\u001b[39;00m\n\u001b[0;32m   1215\u001b[0m \u001b[38;5;28;01mexcept\u001b[39;00m \u001b[38;5;167;01mKeyboardInterrupt\u001b[39;00m:\n\u001b[0;32m   1216\u001b[0m     \u001b[38;5;66;03m# re-raise KeyboardInterrupt, to truncate traceback\u001b[39;00m\n\u001b[1;32m-> 1217\u001b[0m     \u001b[38;5;28;01mraise\u001b[39;00m \u001b[38;5;167;01mKeyboardInterrupt\u001b[39;00m(\u001b[38;5;124m\"\u001b[39m\u001b[38;5;124mInterrupted by user\u001b[39m\u001b[38;5;124m\"\u001b[39m) \u001b[38;5;28;01mfrom\u001b[39;00m \u001b[38;5;28;01mNone\u001b[39;00m\n\u001b[0;32m   1218\u001b[0m \u001b[38;5;28;01mexcept\u001b[39;00m \u001b[38;5;167;01mException\u001b[39;00m:\n\u001b[0;32m   1219\u001b[0m     \u001b[38;5;28mself\u001b[39m\u001b[38;5;241m.\u001b[39mlog\u001b[38;5;241m.\u001b[39mwarning(\u001b[38;5;124m\"\u001b[39m\u001b[38;5;124mInvalid Message:\u001b[39m\u001b[38;5;124m\"\u001b[39m, exc_info\u001b[38;5;241m=\u001b[39m\u001b[38;5;28;01mTrue\u001b[39;00m)\n",
      "\u001b[1;31mKeyboardInterrupt\u001b[0m: Interrupted by user"
     ]
    }
   ],
   "source": [
    "#Example 4: Factorial Calculation\n",
    "\n",
    "#Write a program that calculates the factorial of a given non-negative integer.\n",
    "\n",
    "number = int(input(\"Enter a non-negative integer: \"))\n",
    "factorial = 1\n",
    "i = 1\n",
    "\n",
    "while i <= number:\n",
    "    factorial *= i\n",
    "    i += 1\n",
    "\n",
    "print(f\"The factorial of {number} is: {factorial}\")\n"
   ]
  },
  {
   "cell_type": "code",
   "execution_count": null,
   "id": "b1a77947",
   "metadata": {},
   "outputs": [],
   "source": []
  },
  {
   "cell_type": "code",
   "execution_count": 8,
   "id": "952eddf3",
   "metadata": {},
   "outputs": [
    {
     "ename": "KeyboardInterrupt",
     "evalue": "Interrupted by user",
     "output_type": "error",
     "traceback": [
      "\u001b[1;31m---------------------------------------------------------------------------\u001b[0m",
      "\u001b[1;31mKeyboardInterrupt\u001b[0m                         Traceback (most recent call last)",
      "Cell \u001b[1;32mIn[8], line 9\u001b[0m\n\u001b[0;32m      6\u001b[0m \u001b[38;5;28;01mimport\u001b[39;00m \u001b[38;5;21;01mrandom\u001b[39;00m\n\u001b[0;32m      8\u001b[0m target_number \u001b[38;5;241m=\u001b[39m random\u001b[38;5;241m.\u001b[39mrandint(\u001b[38;5;241m1\u001b[39m, \u001b[38;5;241m100\u001b[39m)\n\u001b[1;32m----> 9\u001b[0m guess \u001b[38;5;241m=\u001b[39m \u001b[38;5;28mint\u001b[39m(\u001b[38;5;28minput\u001b[39m(\u001b[38;5;124m\"\u001b[39m\u001b[38;5;124mGuess a number between 1 and 100: \u001b[39m\u001b[38;5;124m\"\u001b[39m))\n\u001b[0;32m     10\u001b[0m attempts \u001b[38;5;241m=\u001b[39m \u001b[38;5;241m1\u001b[39m\n\u001b[0;32m     12\u001b[0m \u001b[38;5;28;01mwhile\u001b[39;00m guess \u001b[38;5;241m!=\u001b[39m target_number:\n",
      "File \u001b[1;32m~\\anaconda3\\Lib\\site-packages\\ipykernel\\kernelbase.py:1175\u001b[0m, in \u001b[0;36mKernel.raw_input\u001b[1;34m(self, prompt)\u001b[0m\n\u001b[0;32m   1171\u001b[0m \u001b[38;5;28;01mif\u001b[39;00m \u001b[38;5;129;01mnot\u001b[39;00m \u001b[38;5;28mself\u001b[39m\u001b[38;5;241m.\u001b[39m_allow_stdin:\n\u001b[0;32m   1172\u001b[0m     \u001b[38;5;28;01mraise\u001b[39;00m StdinNotImplementedError(\n\u001b[0;32m   1173\u001b[0m         \u001b[38;5;124m\"\u001b[39m\u001b[38;5;124mraw_input was called, but this frontend does not support input requests.\u001b[39m\u001b[38;5;124m\"\u001b[39m\n\u001b[0;32m   1174\u001b[0m     )\n\u001b[1;32m-> 1175\u001b[0m \u001b[38;5;28;01mreturn\u001b[39;00m \u001b[38;5;28mself\u001b[39m\u001b[38;5;241m.\u001b[39m_input_request(\n\u001b[0;32m   1176\u001b[0m     \u001b[38;5;28mstr\u001b[39m(prompt),\n\u001b[0;32m   1177\u001b[0m     \u001b[38;5;28mself\u001b[39m\u001b[38;5;241m.\u001b[39m_parent_ident[\u001b[38;5;124m\"\u001b[39m\u001b[38;5;124mshell\u001b[39m\u001b[38;5;124m\"\u001b[39m],\n\u001b[0;32m   1178\u001b[0m     \u001b[38;5;28mself\u001b[39m\u001b[38;5;241m.\u001b[39mget_parent(\u001b[38;5;124m\"\u001b[39m\u001b[38;5;124mshell\u001b[39m\u001b[38;5;124m\"\u001b[39m),\n\u001b[0;32m   1179\u001b[0m     password\u001b[38;5;241m=\u001b[39m\u001b[38;5;28;01mFalse\u001b[39;00m,\n\u001b[0;32m   1180\u001b[0m )\n",
      "File \u001b[1;32m~\\anaconda3\\Lib\\site-packages\\ipykernel\\kernelbase.py:1217\u001b[0m, in \u001b[0;36mKernel._input_request\u001b[1;34m(self, prompt, ident, parent, password)\u001b[0m\n\u001b[0;32m   1214\u001b[0m             \u001b[38;5;28;01mbreak\u001b[39;00m\n\u001b[0;32m   1215\u001b[0m \u001b[38;5;28;01mexcept\u001b[39;00m \u001b[38;5;167;01mKeyboardInterrupt\u001b[39;00m:\n\u001b[0;32m   1216\u001b[0m     \u001b[38;5;66;03m# re-raise KeyboardInterrupt, to truncate traceback\u001b[39;00m\n\u001b[1;32m-> 1217\u001b[0m     \u001b[38;5;28;01mraise\u001b[39;00m \u001b[38;5;167;01mKeyboardInterrupt\u001b[39;00m(\u001b[38;5;124m\"\u001b[39m\u001b[38;5;124mInterrupted by user\u001b[39m\u001b[38;5;124m\"\u001b[39m) \u001b[38;5;28;01mfrom\u001b[39;00m \u001b[38;5;28;01mNone\u001b[39;00m\n\u001b[0;32m   1218\u001b[0m \u001b[38;5;28;01mexcept\u001b[39;00m \u001b[38;5;167;01mException\u001b[39;00m:\n\u001b[0;32m   1219\u001b[0m     \u001b[38;5;28mself\u001b[39m\u001b[38;5;241m.\u001b[39mlog\u001b[38;5;241m.\u001b[39mwarning(\u001b[38;5;124m\"\u001b[39m\u001b[38;5;124mInvalid Message:\u001b[39m\u001b[38;5;124m\"\u001b[39m, exc_info\u001b[38;5;241m=\u001b[39m\u001b[38;5;28;01mTrue\u001b[39;00m)\n",
      "\u001b[1;31mKeyboardInterrupt\u001b[0m: Interrupted by user"
     ]
    }
   ],
   "source": [
    "#Example 5: Number Guessing Game\n",
    "\n",
    "#Create a number guessing game where the program generates a random number \n",
    "#between 1 and 100, and the user needs to guess it.\n",
    "\n",
    "import random\n",
    "\n",
    "target_number = random.randint(1, 100)\n",
    "guess = int(input(\"Guess a number between 1 and 100: \"))\n",
    "attempts = 1\n",
    "\n",
    "while guess != target_number:\n",
    "    if guess < target_number:\n",
    "        print(\"Too low! Try again.\")\n",
    "    else:\n",
    "        print(\"Too high! Try again.\")\n",
    "    guess = int(input(\"Guess: \"))\n",
    "    attempts += 1\n",
    "\n",
    "print(f\"Congratulations! You guessed the number {target_number} in {attempts} attempts.\")\n"
   ]
  },
  {
   "cell_type": "code",
   "execution_count": null,
   "id": "7ef98087",
   "metadata": {},
   "outputs": [],
   "source": []
  },
  {
   "cell_type": "code",
   "execution_count": 10,
   "id": "f918427a",
   "metadata": {},
   "outputs": [],
   "source": [
    "#questions on string\n",
    "\n",
    "Question: Counting Vowels and Consonants\n",
    "Write a Python function that takes a string as input and returns the count of vowels \n",
    "and consonants in the string.\n",
    "Consider that the input string will only contain alphabetic characters and no spaces.\n",
    "\n",
    "Question 1: Reversing a String\n",
    "Write a Python function to reverse a given string.\n",
    "\n",
    "\n",
    "Question 2: Palindrome Check\n",
    "Write a Python function that checks if a given string is a palindrome \n",
    "(reads the same forwards and backwards).\n",
    "\n",
    "\n",
    "Question 3: Counting Character Frequencies\n",
    "Write a Python function that takes a string as input and returns a dictionary \n",
    "where keys are characters present in the string, \n",
    "and values are the frequencies of those characters.\n",
    "\n",
    "\n",
    "Question 4: Word Count\n",
    "Write a Python function that takes a sentence (a string containing words separated by spaces)\n",
    "and returns the count of words in the sentence.\n",
    "\n",
    "Question 5: Capitalize Words\n",
    "Write a Python function that takes a sentence and returns the sentence with each word capitalized.\n",
    "\n",
    "Question 6: Replace Substring\n",
    "Write a Python function that takes a string, a target substring, \n",
    "and a replacement string, and returns the modified string with \n",
    "all occurrences of the target substring replaced by the replacement string.\n",
    "\n",
    "# Questions on List\n",
    "\n",
    "Question 1: Finding the Maximum and Minimum\n",
    "Write a Python function that takes a list of numbers as input and\n",
    "returns the maximum and minimum values in the list.\n",
    "\n",
    "Question 2: List Comprehension\n",
    "Write a Python program that takes a list of numbers and \n",
    "returns a new list containing only the even numbers from the original list.\n",
    "\n",
    "Question 3: List Reversal\n",
    "Write a Python function that takes a list as \n",
    "input and returns a new list with the elements reversed.\n",
    "\n",
    "Question 4: Removing Duplicates\n",
    "Write a Python function that takes a list as input and\n",
    "returns a new list with all the duplicates removed.\n"
   ]
  },
  {
   "cell_type": "code",
   "execution_count": null,
   "id": "31169057",
   "metadata": {},
   "outputs": [],
   "source": [
    "#Question: Counting Vowels and Consonants\n",
    "#Write a Python function that takes a string as input and returns the count of vowels and consonants in the string.\n",
    "#Consider that the input string will only contain alphabetic characters and no spaces.\n",
    "\n",
    "def count_vowels_and_consonants(input_string):\n",
    "    vowels = \"aeiouAEIOU\"\n",
    "    vowel_count = 0\n",
    "    consonant_count = 0\n",
    "\n",
    "    for char in input_string:\n",
    "        if char in vowels:\n",
    "            vowel_count += 1\n",
    "        else:\n",
    "            consonant_count += 1\n",
    "\n",
    "    return vowel_count, consonant_count\n",
    "\n",
    "# Test the function\n",
    "input_str = \"HelloWorld\"\n",
    "vowels, consonants = count_vowels_and_consonants(input_str)\n",
    "print(\"Number of vowels:\", vowels)\n",
    "print(\"Number of consonants:\", consonants)\n"
   ]
  },
  {
   "cell_type": "code",
   "execution_count": null,
   "id": "9ecd73ab",
   "metadata": {},
   "outputs": [],
   "source": []
  },
  {
   "cell_type": "code",
   "execution_count": null,
   "id": "6a57f031",
   "metadata": {},
   "outputs": [],
   "source": [
    "Question 1: Reversing a String\n",
    "Write a Python function to reverse a given string.\n",
    "\n",
    "def reverse_string(input_string):\n",
    "    return input_string[::-1]\n",
    "\n",
    "# Test the function\n",
    "original_str = \"Python\"\n",
    "reversed_str = reverse_string(original_str)\n",
    "print(\"Original string:\", original_str)\n",
    "print(\"Reversed string:\", reversed_str)\n"
   ]
  },
  {
   "cell_type": "code",
   "execution_count": null,
   "id": "45796b40",
   "metadata": {},
   "outputs": [],
   "source": []
  },
  {
   "cell_type": "code",
   "execution_count": null,
   "id": "3ddf4d1a",
   "metadata": {},
   "outputs": [],
   "source": [
    "#Question 2: Palindrome Check\n",
    "#Write a Python function that checks if a given string is a palindrome (reads the same forwards and backwards).\n",
    "\n",
    "def is_palindrome(input_string):\n",
    "    cleaned_string = input_string.replace(\" \", \"\").lower()\n",
    "    return cleaned_string == cleaned_string[::-1]\n",
    "\n",
    "# Test the function\n",
    "test_str = \"racecar\"\n",
    "if is_palindrome(test_str):\n",
    "    print(f\"{test_str} is a palindrome.\")\n",
    "else:\n",
    "    print(f\"{test_str} is not a palindrome.\")\n"
   ]
  },
  {
   "cell_type": "code",
   "execution_count": null,
   "id": "4f8b372c",
   "metadata": {},
   "outputs": [],
   "source": []
  },
  {
   "cell_type": "code",
   "execution_count": null,
   "id": "38f81773",
   "metadata": {},
   "outputs": [],
   "source": [
    "#Question 3: Counting Character Frequencies\n",
    "#Write a Python function that takes a string as input and returns a dictionary \n",
    "#where keys are characters present in the string, and values are the frequencies of those characters.\n",
    "\n",
    "def character_frequencies(input_string):\n",
    "    freq_dict = {}\n",
    "    for char in input_string:\n",
    "        if char in freq_dict:\n",
    "            freq_dict[char] += 1\n",
    "        else:\n",
    "            freq_dict[char] = 1\n",
    "    return freq_dict\n",
    "\n",
    "# Test the function\n",
    "text = \"programming\"\n",
    "freq_result = character_frequencies(text)\n",
    "print(\"Character frequencies:\", freq_result)\n"
   ]
  },
  {
   "cell_type": "code",
   "execution_count": null,
   "id": "c9023e85",
   "metadata": {},
   "outputs": [],
   "source": []
  },
  {
   "cell_type": "code",
   "execution_count": null,
   "id": "3c069217",
   "metadata": {},
   "outputs": [],
   "source": [
    "#Question 4: Word Count\n",
    "#Write a Python function that takes a sentence (a string containing words separated by spaces)\n",
    "#and returns the count of words in the sentence.\n",
    "\n",
    "def word_count(sentence):\n",
    "    words = sentence.split()\n",
    "    return len(words)\n",
    "\n",
    "# Test the function\n",
    "input_sentence = \"Python is a versatile programming language\"\n",
    "count = word_count(input_sentence)\n",
    "print(\"Number of words:\", count)\n",
    "\n"
   ]
  },
  {
   "cell_type": "code",
   "execution_count": null,
   "id": "263e969f",
   "metadata": {},
   "outputs": [],
   "source": []
  },
  {
   "cell_type": "code",
   "execution_count": null,
   "id": "6f996421",
   "metadata": {},
   "outputs": [],
   "source": [
    "Question 5: Capitalize Words\n",
    "Write a Python function that takes a sentence and returns the sentence with each word capitalized.\n",
    "\n",
    "def capitalize_words(sentence):\n",
    "    words = sentence.split()\n",
    "    capitalized_words = [word.capitalize() for word in words]\n",
    "    return \" \".join(capitalized_words)\n",
    "\n",
    "# Test the function\n",
    "input_sentence = \"python is fun\"\n",
    "capitalized_result = capitalize_words(input_sentence)\n",
    "print(\"Capitalized sentence:\", capitalized_result)\n"
   ]
  },
  {
   "cell_type": "code",
   "execution_count": null,
   "id": "d566502c",
   "metadata": {},
   "outputs": [],
   "source": []
  },
  {
   "cell_type": "code",
   "execution_count": null,
   "id": "68ad1058",
   "metadata": {},
   "outputs": [],
   "source": [
    "#Question 6: Replace Substring\n",
    "#Write a Python function that takes a string, a target substring, \n",
    "#and a replacement string, and returns the modified string with \n",
    "#all occurrences of the target substring replaced by the replacement string.\n",
    "\n",
    "def replace_substring(input_string, target, replacement):\n",
    "    modified_string = input_string.replace(target, replacement)\n",
    "    return modified_string\n",
    "\n",
    "# Test the function\n",
    "original_str = \"Hello, World!\"\n",
    "target_substring = \"World\"\n",
    "replacement_substring = \"Universe\"\n",
    "modified_str = replace_substring(original_str, target_substring, replacement_substring)\n",
    "print(\"Modified string:\", modified_str)\n"
   ]
  },
  {
   "cell_type": "code",
   "execution_count": null,
   "id": "d007fefe",
   "metadata": {},
   "outputs": [],
   "source": []
  },
  {
   "cell_type": "code",
   "execution_count": null,
   "id": "e85eb557",
   "metadata": {},
   "outputs": [],
   "source": [
    "Question 1: Finding the Maximum and Minimum\n",
    "Write a Python function that takes a list of numbers as input and returns the maximum and minimum values in the list.\n",
    "\n",
    "def find_max_min(numbers):\n",
    "    max_value = max(numbers)\n",
    "    min_value = min(numbers)\n",
    "    return max_value, min_value\n",
    "\n",
    "# Test the function\n",
    "number_list = [5, 10, 2, 8, 3]\n",
    "max_num, min_num = find_max_min(number_list)\n",
    "print(\"Maximum:\", max_num)\n",
    "print(\"Minimum:\", min_num)\n"
   ]
  },
  {
   "cell_type": "code",
   "execution_count": null,
   "id": "fe181f6d",
   "metadata": {},
   "outputs": [],
   "source": []
  },
  {
   "cell_type": "code",
   "execution_count": null,
   "id": "203072eb",
   "metadata": {},
   "outputs": [],
   "source": [
    "#Question 2: List Comprehension\n",
    "#Write a Python program that takes a list of numbers and \n",
    "#returns a new list containing only the even numbers from the original list.\n",
    "\n",
    "def even_numbers(numbers):\n",
    "    even_list = [num for num in numbers if num % 2 == 0]\n",
    "    return even_list\n",
    "\n",
    "# Test the function\n",
    "original_list = [1, 2, 3, 4, 5, 6, 7, 8, 9, 10]\n",
    "even_list_result = even_numbers(original_list)\n",
    "print(\"Even numbers:\", even_list_result)\n"
   ]
  },
  {
   "cell_type": "code",
   "execution_count": null,
   "id": "afcb0ef2",
   "metadata": {},
   "outputs": [],
   "source": []
  },
  {
   "cell_type": "code",
   "execution_count": null,
   "id": "614c254e",
   "metadata": {},
   "outputs": [],
   "source": [
    "Question 3: List Reversal\n",
    "Write a Python function that takes a list as input and returns a new list with the elements reversed.\n",
    "\n",
    "def reverse_list(input_list):\n",
    "    return input_list[::-1]\n",
    "\n",
    "# Test the function\n",
    "original_list = [1, 2, 3, 4, 5]\n",
    "reversed_list = reverse_list(original_list)\n",
    "print(\"Original list:\", original_list)\n",
    "print(\"Reversed list:\", reversed_list)\n"
   ]
  },
  {
   "cell_type": "code",
   "execution_count": null,
   "id": "aa7a128f",
   "metadata": {},
   "outputs": [],
   "source": []
  },
  {
   "cell_type": "code",
   "execution_count": null,
   "id": "7e5e10e9",
   "metadata": {},
   "outputs": [],
   "source": [
    "Question 4: Removing Duplicates\n",
    "Write a Python function that takes a list as input and returns a new list with all the duplicates removed.\n",
    "\n",
    "def remove_duplicates(input_list):\n",
    "    return list(set(input_list))\n",
    "\n",
    "# Test the function\n",
    "original_list = [1, 2, 2, 3, 4, 4, 5, 5]\n",
    "no_duplicates_list = remove_duplicates(original_list)\n",
    "print(\"Original list:\", original_list)\n",
    "print(\"List with no duplicates:\", no_duplicates_list)\n"
   ]
  },
  {
   "cell_type": "code",
   "execution_count": 11,
   "id": "ec562227",
   "metadata": {},
   "outputs": [],
   "source": [
    "#tuples"
   ]
  },
  {
   "cell_type": "code",
   "execution_count": null,
   "id": "a60e56e5",
   "metadata": {},
   "outputs": [],
   "source": [
    "Question 1: Tuple Basics\n",
    "Define a tuple containing the names of five countries. Access and print the third country from the tuple.\n",
    "\n",
    "countries = (\"USA\", \"Canada\", \"France\", \"Japan\", \"Australia\")\n",
    "print(\"Third country:\", countries[2])\n"
   ]
  },
  {
   "cell_type": "code",
   "execution_count": null,
   "id": "9270827b",
   "metadata": {},
   "outputs": [],
   "source": []
  },
  {
   "cell_type": "code",
   "execution_count": null,
   "id": "e1a9fa1b",
   "metadata": {},
   "outputs": [],
   "source": [
    "#Question 2: Unpacking Tuples\n",
    "#Write a Python program that defines a tuple containing a student's name and their score in a test. Unpack\n",
    "#the tuple to separate the name and score, and then print them.\n",
    "\n",
    "student_info = (\"Alice\", 85)\n",
    "name, score = student_info\n",
    "print(\"Name:\", name)\n",
    "print(\"Score:\", score)\n"
   ]
  },
  {
   "cell_type": "code",
   "execution_count": null,
   "id": "67c15b20",
   "metadata": {},
   "outputs": [],
   "source": []
  },
  {
   "cell_type": "code",
   "execution_count": null,
   "id": "534830b5",
   "metadata": {},
   "outputs": [],
   "source": [
    "#Question 3: Tuple Concatenation\n",
    "#Write a Python program that takes two tuples as input and returns a new tuple containing the elements from both tuples.\n",
    "\n",
    "def concatenate_tuples(tuple1, tuple2):\n",
    "    return tuple1 + tuple2\n",
    "\n",
    "# Test the function\n",
    "tuple1 = (1, 2, 3)\n",
    "tuple2 = (4, 5, 6)\n",
    "result_tuple = concatenate_tuples(tuple1, tuple2)\n",
    "print(\"Resulting tuple:\", result_tuple)\n"
   ]
  },
  {
   "cell_type": "code",
   "execution_count": null,
   "id": "b41acc87",
   "metadata": {},
   "outputs": [],
   "source": []
  },
  {
   "cell_type": "code",
   "execution_count": null,
   "id": "0bbaea74",
   "metadata": {},
   "outputs": [],
   "source": [
    "Question 4: Immutable Nature of Tuples\n",
    "Explain the concept of immutability in tuples and provide an example to demonstrate it.\n",
    "\n",
    "coordinates = (3, 5)\n",
    "coordinates[0] = 7  # This will result in an error\n"
   ]
  },
  {
   "cell_type": "code",
   "execution_count": null,
   "id": "7495bc61",
   "metadata": {},
   "outputs": [],
   "source": []
  },
  {
   "cell_type": "code",
   "execution_count": null,
   "id": "4aa43e4f",
   "metadata": {},
   "outputs": [],
   "source": [
    "Question 5: Returning Multiple Values\n",
    "Write a Python function that takes two numbers as input and returns a tuple containing their sum and product.\n",
    "\n",
    "def sum_and_product(num1, num2):\n",
    "    total = num1 + num2\n",
    "    product = num1 * num2\n",
    "    return total, product\n",
    "\n",
    "# Test the function\n",
    "a = 5\n",
    "b = 3\n",
    "sum_result, product_result = sum_and_product(a, b)\n",
    "print(\"Sum:\", sum_result)\n",
    "print(\"Product:\", product_result)\n"
   ]
  },
  {
   "cell_type": "code",
   "execution_count": null,
   "id": "45850d45",
   "metadata": {},
   "outputs": [],
   "source": []
  },
  {
   "cell_type": "code",
   "execution_count": null,
   "id": "1dc82d2e",
   "metadata": {},
   "outputs": [],
   "source": [
    "Question 6: Tuple Packing and Unpacking\n",
    "Define a tuple with the names of three fruits. Then, unpack the tuple into individual variables and print them.\n",
    "\n",
    "fruits_tuple = (\"Apple\", \"Banana\", \"Orange\")\n",
    "fruit1, fruit2, fruit3 = fruits_tuple\n",
    "print(\"Fruit 1:\", fruit1)\n",
    "print(\"Fruit 2:\", fruit2)\n",
    "print(\"Fruit 3:\", fruit3)\n",
    "\n"
   ]
  },
  {
   "cell_type": "code",
   "execution_count": null,
   "id": "7629459c",
   "metadata": {},
   "outputs": [],
   "source": []
  },
  {
   "cell_type": "code",
   "execution_count": null,
   "id": "9d669140",
   "metadata": {},
   "outputs": [],
   "source": [
    "Question 7: Enumerating Tuples\n",
    "Write a Python program that takes a tuple of strings and prints each string along with its index.\n",
    "\n",
    "def print_tuple_with_indices(strings_tuple):\n",
    "    for index, string in enumerate(strings_tuple):\n",
    "        print(f\"Index {index}: {string}\")\n",
    "\n",
    "# Test the function\n",
    "words = (\"Hello\", \"World\", \"Python\", \"Programming\")\n",
    "print_tuple_with_indices(words)\n"
   ]
  },
  {
   "cell_type": "code",
   "execution_count": null,
   "id": "bbde2edc",
   "metadata": {},
   "outputs": [],
   "source": []
  },
  {
   "cell_type": "code",
   "execution_count": null,
   "id": "294521f2",
   "metadata": {},
   "outputs": [],
   "source": [
    "Question 8: Tuple Comparison\n",
    "Explain how tuples are compared in Python and provide an example.\n",
    "\n",
    "tuple1 = (3, 5)\n",
    "tuple2 = (3, 2)\n",
    "result = tuple1 < tuple2  # Comparison is based on the second elements (5 < 2)\n",
    "print(result)  # Output: False\n"
   ]
  },
  {
   "cell_type": "code",
   "execution_count": null,
   "id": "202e61ee",
   "metadata": {},
   "outputs": [],
   "source": []
  },
  {
   "cell_type": "code",
   "execution_count": null,
   "id": "a4ca64af",
   "metadata": {},
   "outputs": [],
   "source": [
    "Question 1: Tuple Basics\n",
    "Define a tuple containing the names of five countries. \n",
    "Access and print the third country from the tuple.\n",
    "\n",
    "Question 2: Unpacking Tuples\n",
    "Write a Python program that defines a tuple containing a student's name and their score in a test.\n",
    "Unpack the tuple to separate the name and score, and then print them.\n",
    "\n",
    "\n",
    "Question 3: Tuple Concatenation\n",
    "Write a Python program that takes two tuples as input and returns \n",
    "a new tuple containing the elements from both tuples.\n",
    "\n",
    "Question 4: Immutable Nature of Tuples\n",
    "Explain the concept of immutability in tuples and provide an example to demonstrate it.\n",
    "\n",
    "Question 5: Returning Multiple Values\n",
    "Write a Python function that takes two numbers as input and\n",
    "returns a tuple containing their sum and product."
   ]
  },
  {
   "cell_type": "code",
   "execution_count": 3,
   "id": "fbc2b066",
   "metadata": {},
   "outputs": [
    {
     "name": "stdout",
     "output_type": "stream",
     "text": [
      "{1: 'a'}\n",
      "{2: 'b'}\n",
      "{3: 'c'}\n",
      "{4: 'd'}\n",
      "{5: 'e'}\n",
      "{6: 'f'}\n",
      "{7: 'g'}\n"
     ]
    }
   ],
   "source": [
    "h = {'a':1, 'b':2, 'c':3, 'd':4, 'e':5, 'f':6, 'g':7}\n",
    "f = ()\n",
    "for k,v in h.items():\n",
    "    f = {v:k}\n",
    "    print(f)"
   ]
  },
  {
   "cell_type": "code",
   "execution_count": null,
   "id": "14ce95a8",
   "metadata": {},
   "outputs": [],
   "source": []
  },
  {
   "cell_type": "code",
   "execution_count": null,
   "id": "486348ac",
   "metadata": {},
   "outputs": [],
   "source": []
  },
  {
   "cell_type": "code",
   "execution_count": null,
   "id": "b92b4283",
   "metadata": {},
   "outputs": [],
   "source": []
  },
  {
   "cell_type": "code",
   "execution_count": null,
   "id": "785fe372",
   "metadata": {},
   "outputs": [],
   "source": []
  }
 ],
 "metadata": {
  "kernelspec": {
   "display_name": "Python 3 (ipykernel)",
   "language": "python",
   "name": "python3"
  },
  "language_info": {
   "codemirror_mode": {
    "name": "ipython",
    "version": 3
   },
   "file_extension": ".py",
   "mimetype": "text/x-python",
   "name": "python",
   "nbconvert_exporter": "python",
   "pygments_lexer": "ipython3",
   "version": "3.11.3"
  }
 },
 "nbformat": 4,
 "nbformat_minor": 5
}
