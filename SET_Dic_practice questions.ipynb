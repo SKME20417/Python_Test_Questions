{
 "cells": [
  {
   "cell_type": "code",
   "execution_count": null,
   "id": "80ed8dd9",
   "metadata": {},
   "outputs": [],
   "source": [
    "Question 1: Dictionary Basics\n",
    "\n",
    "Create an empty dictionary called my_dict.\n",
    "Add the key-value pairs: \"name\" with the value \"Alice\", \"age\" with the value 25, and \"city\"\n",
    "with the value \"New York\" to my_dict.\n",
    "Print the value associated with the key \"age\".\n",
    "Update the value of the \"age\" key to 26.\n",
    "Remove the key \"city\" from the dictionary.\n",
    "Check if the key \"name\" exists in the dictionary."
   ]
  },
  {
   "cell_type": "code",
   "execution_count": null,
   "id": "ddd1e7e5",
   "metadata": {},
   "outputs": [],
   "source": [
    "# 1.\n",
    "my_dict = {}\n",
    "\n",
    "# 2.\n",
    "my_dict[\"name\"] = \"Alice\"\n",
    "my_dict[\"age\"] = 25\n",
    "my_dict[\"city\"] = \"New York\"\n",
    "\n",
    "# 3.\n",
    "print(my_dict[\"age\"])\n",
    "\n",
    "# 4.\n",
    "my_dict[\"age\"] = 26\n",
    "\n",
    "# 5.\n",
    "del my_dict[\"city\"]\n",
    "\n",
    "# 6.\n",
    "if \"name\" in my_dict:\n",
    "    print(\"Key 'name' exists.\")\n",
    "else:\n",
    "    print(\"Key 'name' does not exist.\")\n"
   ]
  },
  {
   "cell_type": "code",
   "execution_count": null,
   "id": "52c07ed5",
   "metadata": {},
   "outputs": [],
   "source": [
    "Question 2: Dictionary Manipulation\n",
    "\n",
    "Create two dictionaries: dict1 with keys \"a\", \"b\", and \"c\" mapping to values 1, 2, and 3, and dict2 with keys \"b\", \"c\", and \"d\" mapping to values 4, 5, and 6.\n",
    "Merge dict2 into dict1 to update the values of common keys, and add the missing keys.\n",
    "Calculate the sum of all values in the merged dictionary."
   ]
  },
  {
   "cell_type": "code",
   "execution_count": null,
   "id": "eb270a7e",
   "metadata": {},
   "outputs": [],
   "source": [
    "# 1.\n",
    "dict1 = {\"a\": 1, \"b\": 2, \"c\": 3}\n",
    "dict2 = {\"b\": 4, \"c\": 5, \"d\": 6}\n",
    "\n",
    "# 2.\n",
    "dict1.update(dict2)\n",
    "\n",
    "# 3.\n",
    "total_sum = sum(dict1.values())\n",
    "print(\"Sum of values:\", total_sum)\n"
   ]
  },
  {
   "cell_type": "code",
   "execution_count": null,
   "id": "15822cdd",
   "metadata": {},
   "outputs": [],
   "source": [
    "Question 3: Dictionary Iteration\n",
    "\n",
    "Create a dictionary with at least 5 key-value pairs of your choice.\n",
    "Write a loop to iterate through the dictionary and print each key and its corresponding value."
   ]
  },
  {
   "cell_type": "code",
   "execution_count": null,
   "id": "91c5630b",
   "metadata": {},
   "outputs": [],
   "source": [
    "# 1.\n",
    "my_dict = {\"apple\": 2, \"banana\": 3, \"orange\": 4, \"grape\": 5, \"kiwi\": 2}\n",
    "\n",
    "# 2.\n",
    "for key, value in my_dict.items():\n",
    "    print(key, \"->\", value)\n"
   ]
  },
  {
   "cell_type": "code",
   "execution_count": null,
   "id": "a658f267",
   "metadata": {},
   "outputs": [],
   "source": [
    "Question 4: Dictionary Manipulation and Comprehension\n",
    "\n",
    "Create a dictionary with the numbers from 1 to 10 as keys and their squares as values.\n",
    "Use a dictionary comprehension to create a new dictionary containing only the items with even keys."
   ]
  },
  {
   "cell_type": "code",
   "execution_count": null,
   "id": "076c55b9",
   "metadata": {},
   "outputs": [],
   "source": [
    "# 1.\n",
    "squares_dict = {x: x**2 for x in range(1, 11)}\n",
    "\n",
    "# 2.\n",
    "even_squares_dict = {key: value for key, value in squares_dict.items() if key % 2 == 0}\n"
   ]
  },
  {
   "cell_type": "code",
   "execution_count": null,
   "id": "98a70a67",
   "metadata": {},
   "outputs": [],
   "source": [
    "Question 5: Nested Dictionaries\n",
    "\n",
    "Create a nested dictionary representing a simple student database. Each student should have a name, age, and a list of subjects they are enrolled in along with their respective grades.\n",
    "Print the name and average grade of each student."
   ]
  },
  {
   "cell_type": "code",
   "execution_count": null,
   "id": "a27513a6",
   "metadata": {},
   "outputs": [],
   "source": [
    "# 1.\n",
    "students = {\n",
    "    \"Alice\": {\"age\": 20, \"subjects\": {\"Math\": 85, \"Science\": 92, \"History\": 78}},\n",
    "    \"Bob\": {\"age\": 21, \"subjects\": {\"Math\": 70, \"Science\": 68, \"History\": 75}},\n",
    "    \"Eve\": {\"age\": 19, \"subjects\": {\"Math\": 95, \"Science\": 88, \"History\": 92}}\n",
    "}\n",
    "\n",
    "# 2.\n",
    "for student, info in students.items():\n",
    "    grades = info[\"subjects\"].values()\n",
    "    avg_grade = sum(grades) / len(grades)\n",
    "    print(f\"{student}: Average Grade = {avg_grade:.2f}\")\n"
   ]
  },
  {
   "cell_type": "code",
   "execution_count": null,
   "id": "7b4fb739",
   "metadata": {},
   "outputs": [],
   "source": [
    "Question 6: Dictionary Methods\n",
    "\n",
    "Create a dictionary with some key-value pairs.\n",
    "Use the keys(), values(), and items() methods to get the keys, values, and items of the dictionary, and print them."
   ]
  },
  {
   "cell_type": "code",
   "execution_count": null,
   "id": "010fc5e0",
   "metadata": {},
   "outputs": [],
   "source": [
    "# 1.\n",
    "my_dict = {\"a\": 1, \"b\": 2, \"c\": 3, \"d\": 4}\n",
    "\n",
    "# 2.\n",
    "print(\"Keys:\", my_dict.keys())\n",
    "print(\"Values:\", my_dict.values())\n",
    "print(\"Items:\", my_dict.items())\n"
   ]
  },
  {
   "cell_type": "code",
   "execution_count": null,
   "id": "dcb399b6",
   "metadata": {},
   "outputs": [],
   "source": [
    "Question 7: Advanced Dictionary Manipulation\n",
    "\n",
    "Given a list of words, create a dictionary where the keys are the words and the values are the frequencies of each word in the list.\n",
    "Find the word with the highest frequency and print it along with its frequency."
   ]
  },
  {
   "cell_type": "code",
   "execution_count": null,
   "id": "3a718957",
   "metadata": {},
   "outputs": [],
   "source": [
    "# 1.\n",
    "word_list = [\"apple\", \"banana\", \"apple\", \"orange\", \"banana\", \"apple\", \"grape\"]\n",
    "word_freq_dict = {}\n",
    "for word in word_list:\n",
    "    word_freq_dict[word] = word_freq_dict.get(word, 0) + 1\n",
    "\n",
    "# 2.\n",
    "most_common_word = max(word_freq_dict, key=word_freq_dict.get)\n",
    "print(f\"Most common word: {most_common_word}, Frequency: {word_freq_dict[most_common_word]}\")\n"
   ]
  },
  {
   "cell_type": "code",
   "execution_count": null,
   "id": "e9c0fc0a",
   "metadata": {},
   "outputs": [],
   "source": [
    "Question 8: Dictionary of Lists and Sorting\n",
    "\n",
    "Create a dictionary that maps a country to a list of its top 5 cities by population.\n",
    "Print the countries and their cities in descending order of the population of the first city in each list."
   ]
  },
  {
   "cell_type": "code",
   "execution_count": null,
   "id": "b29ceb8e",
   "metadata": {},
   "outputs": [],
   "source": [
    "# 1.\n",
    "countries = {\n",
    "    \"USA\": [\"New York\", \"Los Angeles\", \"Chicago\", \"Houston\", \"Phoenix\"],\n",
    "    \"China\": [\"Shanghai\", \"Beijing\", \"Guangzhou\", \"Shenzhen\", \"Tianjin\"],\n",
    "    \"India\": [\"Mumbai\", \"Delhi\", \"Bangalore\", \"Hyderabad\", \"Chennai\"]\n",
    "}\n",
    "\n",
    "# 2.\n",
    "sorted_countries = sorted(countries.items(), key=lambda x: len(x[1]), reverse=True)\n",
    "for country, cities in sorted_countries:\n",
    "    print(f\"{country}: {cities[0]} (Population: {len(cities[0])})\")\n"
   ]
  },
  {
   "cell_type": "code",
   "execution_count": null,
   "id": "8b4debd5",
   "metadata": {},
   "outputs": [],
   "source": [
    "Question 9: Dictionary Default Values and Counting Letters\n",
    "\n",
    "Given a text, create a dictionary to count the occurrences of each letter (case-insensitive).\n",
    "Print the letters in alphabetical order along with their counts."
   ]
  },
  {
   "cell_type": "code",
   "execution_count": null,
   "id": "5f92b7e2",
   "metadata": {},
   "outputs": [],
   "source": [
    "# 1.\n",
    "text = \"Hello, world! This is a sample text.\"\n",
    "letter_count = {}\n",
    "for char in text:\n",
    "    if char.isalpha():\n",
    "        char_lower = char.lower()\n",
    "        letter_count[char_lower] = letter_count.get(char_lower, 0) + 1\n",
    "\n",
    "# 2.\n",
    "sorted_letters = sorted(letter_count.items())\n",
    "for letter, count in sorted_letters:\n",
    "    print(f\"{letter}: {count}\")\n"
   ]
  },
  {
   "cell_type": "code",
   "execution_count": null,
   "id": "8fd42a85",
   "metadata": {},
   "outputs": [],
   "source": [
    "Question 10: Dictionary Manipulation and Comprehension\n",
    "\n",
    "Create a list of names. Use a dictionary comprehension to create a dictionary where the keys are the names and the values are the lengths of the corresponding names."
   ]
  },
  {
   "cell_type": "code",
   "execution_count": null,
   "id": "1241d4a6",
   "metadata": {},
   "outputs": [],
   "source": [
    "# 1.\n",
    "names = [\"Alice\", \"Bob\", \"Charlie\", \"David\", \"Eve\"]\n",
    "name_lengths = {name: len(name) for name in names}\n"
   ]
  },
  {
   "cell_type": "code",
   "execution_count": null,
   "id": "94987f26",
   "metadata": {},
   "outputs": [],
   "source": [
    "Question 11: Nested Dictionaries and Averages\n",
    "\n",
    "Create a nested dictionary to store information about courses and their students. Each course should have a list of students with their respective grades.\n",
    "Calculate the average grade for each course and print the results."
   ]
  },
  {
   "cell_type": "code",
   "execution_count": null,
   "id": "85b2302f",
   "metadata": {},
   "outputs": [],
   "source": [
    "# 1.\n",
    "courses = {\n",
    "    \"Math\": {\"Alice\": 85, \"Bob\": 92, \"Eve\": 78},\n",
    "    \"Science\": {\"Alice\": 70, \"Charlie\": 68, \"David\": 75},\n",
    "    \"History\": {\"Bob\": 95, \"Eve\": 88, \"David\": 92}\n",
    "}\n",
    "\n",
    "# 2.\n",
    "for course, students in courses.items():\n",
    "    grades = students.values()\n",
    "    avg_grade = sum(grades) / len(grades)\n",
    "    print(f\"Average grade for {course}: {avg_grade:.2f}\")\n"
   ]
  },
  {
   "cell_type": "code",
   "execution_count": null,
   "id": "27a5cc32",
   "metadata": {},
   "outputs": [],
   "source": [
    "Question 12: Dictionary and String Manipulation\n",
    "\n",
    "Write a function that takes a string as input and returns a dictionary where the keys are the characters in the string and the values are the counts of each character.\n",
    "Test your function with a sample string and print the resulting dictionary."
   ]
  },
  {
   "cell_type": "code",
   "execution_count": null,
   "id": "80e803da",
   "metadata": {},
   "outputs": [],
   "source": [
    "# 1.\n",
    "def count_characters(input_string):\n",
    "    char_count = {}\n",
    "    for char in input_string:\n",
    "        char_count[char] = char_count.get(char, 0) + 1\n",
    "    return char_count\n",
    "\n",
    "# 2.\n",
    "sample_string = \"programming\"\n",
    "result_dict = count_characters(sample_string)\n",
    "print(result_dict)\n"
   ]
  },
  {
   "cell_type": "code",
   "execution_count": null,
   "id": "77d43fbe",
   "metadata": {},
   "outputs": [],
   "source": [
    "Question 13: Dictionary Filtering and Transformation\n",
    "\n",
    "Given a dictionary of products and their prices, create a new dictionary containing only products with prices less than a certain threshold.\n",
    "Create another dictionary where the product names are the keys and the prices are discounted by 10%."
   ]
  },
  {
   "cell_type": "code",
   "execution_count": null,
   "id": "635a6f4d",
   "metadata": {},
   "outputs": [],
   "source": [
    "# 1.\n",
    "products = {\n",
    "    \"apple\": 1.25,\n",
    "    \"banana\": 0.75,\n",
    "    \"orange\": 0.90,\n",
    "    \"grape\": 2.50,\n",
    "    \"kiwi\": 1.10\n",
    "}\n",
    "\n",
    "threshold = 1.00\n",
    "affordable_products = {product: price for product, price in products.items() if price < threshold}\n",
    "\n",
    "# 2.\n",
    "discounted_products = {product: price * 0.9 for product, price in products.items()}\n"
   ]
  },
  {
   "cell_type": "code",
   "execution_count": null,
   "id": "0a0c8321",
   "metadata": {},
   "outputs": [],
   "source": [
    "Question 14: Dictionary Operations and Sorting\n",
    "\n",
    "Create a dictionary that maps company names to their revenue for a certain year.\n",
    "Find the top N companies with the highest revenue and print their names along with their revenue, sorted by revenue."
   ]
  },
  {
   "cell_type": "code",
   "execution_count": null,
   "id": "f271d884",
   "metadata": {},
   "outputs": [],
   "source": [
    "# 1.\n",
    "company_revenue = {\n",
    "    \"Apple\": 260.17,\n",
    "    \"Amazon\": 386.06,\n",
    "    \"Microsoft\": 168.09,\n",
    "    \"Alphabet\": 182.53,\n",
    "    \"Facebook\": 85.97\n",
    "}\n",
    "\n",
    "# 2.\n",
    "top_n = 3\n",
    "sorted_companies = sorted(company_revenue.items(), key=lambda x: x[1], reverse=True)[:top_n]\n",
    "for company, revenue in sorted_companies:\n",
    "    print(f\"{company}: ${revenue} billion\")\n"
   ]
  },
  {
   "cell_type": "code",
   "execution_count": null,
   "id": "7f307511",
   "metadata": {},
   "outputs": [],
   "source": [
    "Question 15: Nested Dictionaries and Aggregation\n",
    "\n",
    "Create a nested dictionary representing sales data for different products in various regions. Each region's sales data should include quarterly sales figures.\n",
    "Calculate the total sales for each product and the total sales for each region."
   ]
  },
  {
   "cell_type": "code",
   "execution_count": null,
   "id": "ccffffba",
   "metadata": {},
   "outputs": [],
   "source": [
    "# 1.\n",
    "sales_data = {\n",
    "    \"ProductA\": {\n",
    "        \"North\": [100, 150, 120, 170],\n",
    "        \"South\": [80, 110, 90, 130]\n",
    "    },\n",
    "    \"ProductB\": {\n",
    "        \"North\": [50, 60, 70, 55],\n",
    "        \"South\": [30, 40, 35, 50]\n",
    "    }\n",
    "}\n",
    "\n",
    "# 2.\n",
    "product_total_sales = {product: sum(sum(region_sales) for region_sales in data.values()) for product, data in sales_data.items()}\n",
    "region_total_sales = {region: sum(data[region][quarter] for product, data in sales_data.items()) for region in sales_data[\"ProductA\"]}\n"
   ]
  },
  {
   "cell_type": "code",
   "execution_count": null,
   "id": "f7de1540",
   "metadata": {},
   "outputs": [],
   "source": [
    "Question 16: Dictionary of Objects and Filtering\n",
    "\n",
    "Create a dictionary of objects representing books with attributes like title, author, and price.\n",
    "Write a function that takes the dictionary and a maximum price as arguments and returns a list of book titles that are within the price range."
   ]
  },
  {
   "cell_type": "code",
   "execution_count": null,
   "id": "7f44558a",
   "metadata": {},
   "outputs": [],
   "source": [
    "# 1.\n",
    "class Book:\n",
    "    def __init__(self, title, author, price):\n",
    "        self.title = title\n",
    "        self.author = author\n",
    "        self.price = price\n",
    "\n",
    "books = {\n",
    "    \"BookA\": Book(\"Title A\", \"Author A\", 25.00),\n",
    "    \"BookB\": Book(\"Title B\", \"Author B\", 19.99),\n",
    "    \"BookC\": Book(\"Title C\", \"Author C\", 35.50)\n",
    "}\n",
    "\n",
    "# 2.\n",
    "def filter_books_by_price(book_dict, max_price):\n",
    "    return [book.title for book in book_dict.values() if book.price <= max_price]\n",
    "\n",
    "max_allowed_price = 30.00\n",
    "affordable_books = filter_books_by_price(books, max_allowed_price)\n"
   ]
  },
  {
   "cell_type": "code",
   "execution_count": null,
   "id": "08a40243",
   "metadata": {},
   "outputs": [],
   "source": []
  },
  {
   "cell_type": "code",
   "execution_count": null,
   "id": "c2d7fbfe",
   "metadata": {},
   "outputs": [],
   "source": []
  },
  {
   "cell_type": "code",
   "execution_count": null,
   "id": "ed413d53",
   "metadata": {},
   "outputs": [],
   "source": [
    "Question 1: Set Basics\n",
    "\n",
    "Create an empty set called my_set.\n",
    "Add the numbers 1, 2, and 3 to the set.\n",
    "Remove the number 2 from the set.\n",
    "Check if the number 3 exists in the set."
   ]
  },
  {
   "cell_type": "code",
   "execution_count": null,
   "id": "b180d296",
   "metadata": {},
   "outputs": [],
   "source": [
    "# 1.\n",
    "my_set = set()\n",
    "\n",
    "# 2.\n",
    "my_set.add(1)\n",
    "my_set.add(2)\n",
    "my_set.add(3)\n",
    "\n",
    "# 3.\n",
    "my_set.remove(2)\n",
    "\n",
    "# 4.\n",
    "if 3 in my_set:\n",
    "    print(\"Number 3 exists in the set.\")\n",
    "else:\n",
    "    print(\"Number 3 does not exist in the set.\")\n"
   ]
  },
  {
   "cell_type": "code",
   "execution_count": null,
   "id": "a81f84be",
   "metadata": {},
   "outputs": [],
   "source": [
    "Question 2: Set Operations\n",
    "\n",
    "Create two sets: set1 with elements 1, 2, 3, and 4, and set2 with elements 3, 4, 5, and 6.\n",
    "Find the union of set1 and set2.\n",
    "Find the intersection of set1 and set2.\n",
    "Find the elements that are in set1 but not in set2."
   ]
  },
  {
   "cell_type": "code",
   "execution_count": null,
   "id": "be6519a3",
   "metadata": {},
   "outputs": [],
   "source": [
    "# 1.\n",
    "set1 = {1, 2, 3, 4}\n",
    "set2 = {3, 4, 5, 6}\n",
    "\n",
    "# 2.\n",
    "union_set = set1.union(set2)\n",
    "\n",
    "# 3.\n",
    "intersection_set = set1.intersection(set2)\n",
    "\n",
    "# 4.\n",
    "difference_set = set1.difference(set2)\n"
   ]
  },
  {
   "cell_type": "code",
   "execution_count": null,
   "id": "7e430bbb",
   "metadata": {},
   "outputs": [],
   "source": [
    "Question 3: Set Comprehension\n",
    "\n",
    "Create a set containing the squares of numbers from 1 to 10 using a set comprehension."
   ]
  },
  {
   "cell_type": "code",
   "execution_count": null,
   "id": "77c5cc4c",
   "metadata": {},
   "outputs": [],
   "source": [
    "# 1.\n",
    "squares_set = {x**2 for x in range(1, 11)}\n"
   ]
  },
  {
   "cell_type": "code",
   "execution_count": null,
   "id": "27886837",
   "metadata": {},
   "outputs": [],
   "source": [
    "Question 4: Set Manipulation\n",
    "\n",
    "Given two lists list1 and list2, find the common elements between the two lists and create a set from them."
   ]
  },
  {
   "cell_type": "code",
   "execution_count": null,
   "id": "a0408794",
   "metadata": {},
   "outputs": [],
   "source": [
    "# 1.\n",
    "list1 = [1, 2, 3, 4, 5]\n",
    "list2 = [3, 4, 5, 6, 7]\n",
    "\n",
    "common_elements = set(list1) & set(list2)\n"
   ]
  },
  {
   "cell_type": "code",
   "execution_count": null,
   "id": "9f4e13ae",
   "metadata": {},
   "outputs": [],
   "source": [
    "Question 5: Set Membership and Subset Check\n",
    "\n",
    "Create a set called main_set with elements 1, 2, 3, 4, and 5.\n",
    "Check if the set {2, 4} is a subset of main_set.\n",
    "Check if the set {2, 6} is a subset of main_set."
   ]
  },
  {
   "cell_type": "code",
   "execution_count": null,
   "id": "fff33279",
   "metadata": {},
   "outputs": [],
   "source": [
    "# 1.\n",
    "main_set = {1, 2, 3, 4, 5}\n",
    "\n",
    "# 2.\n",
    "if {2, 4}.issubset(main_set):\n",
    "    print(\"{2, 4} is a subset of main_set.\")\n",
    "else:\n",
    "    print(\"{2, 4} is not a subset of main_set.\")\n",
    "\n",
    "# 3.\n",
    "if {2, 6}.issubset(main_set):\n",
    "    print(\"{2, 6} is a subset of main_set.\")\n",
    "else:\n",
    "    print(\"{2, 6} is not a subset of main_set.\")\n"
   ]
  },
  {
   "cell_type": "code",
   "execution_count": null,
   "id": "ae1ecbe2",
   "metadata": {},
   "outputs": [],
   "source": [
    "Question 6: Set Manipulation and Comparison\n",
    "\n",
    "Create two sets: set1 with elements 1, 2, 3, and 4, and set2 with elements 3, 4, 5, and 6.\n",
    "Find the elements that are in set1 but not in set2.\n",
    "Find the elements that are either in set1 or set2, but not in both."
   ]
  },
  {
   "cell_type": "code",
   "execution_count": null,
   "id": "134b413d",
   "metadata": {},
   "outputs": [],
   "source": [
    "# 1.\n",
    "set1 = {1, 2, 3, 4}\n",
    "set2 = {3, 4, 5, 6}\n",
    "\n",
    "# 2.\n",
    "exclusive_elements_set1 = set1.difference(set2)\n",
    "\n",
    "# 3.\n",
    "symmetric_difference = set1.symmetric_difference(set2)\n"
   ]
  },
  {
   "cell_type": "code",
   "execution_count": null,
   "id": "171d1675",
   "metadata": {},
   "outputs": [],
   "source": [
    "Question 7: Set Conversion and Iteration\n",
    "\n",
    "Given a list of numbers, create a set containing the unique elements from the list.\n",
    "Convert the set back to a list and sort the list in ascending order."
   ]
  },
  {
   "cell_type": "code",
   "execution_count": null,
   "id": "222c9687",
   "metadata": {},
   "outputs": [],
   "source": [
    "# 1.\n",
    "numbers_list = [3, 1, 2, 4, 3, 5, 2]\n",
    "unique_numbers_set = set(numbers_list)\n",
    "\n",
    "# 2.\n",
    "sorted_numbers_list = sorted(list(unique_numbers_set))\n"
   ]
  },
  {
   "cell_type": "code",
   "execution_count": null,
   "id": "65c03467",
   "metadata": {},
   "outputs": [],
   "source": [
    "Question 8: Set Comprehension\n",
    "\n",
    "Create a set containing the lengths of words in a given sentence using set comprehension."
   ]
  },
  {
   "cell_type": "code",
   "execution_count": null,
   "id": "c8520b45",
   "metadata": {},
   "outputs": [],
   "source": [
    "# 1.\n",
    "sentence = \"This is a sample sentence for set comprehension.\"\n",
    "word_lengths_set = {len(word) for word in sentence.split()}\n"
   ]
  },
  {
   "cell_type": "code",
   "execution_count": null,
   "id": "978dabb1",
   "metadata": {},
   "outputs": [],
   "source": [
    "Question 9: Set Operations and Modifying Sets\n",
    "\n",
    "Create a set containing numbers from 1 to 10.\n",
    "Remove all even numbers from the set.\n",
    "Add the numbers 11, 12, and 13 to the set.\n",
    "Calculate the sum of all numbers in the set."
   ]
  },
  {
   "cell_type": "code",
   "execution_count": null,
   "id": "60dd8385",
   "metadata": {},
   "outputs": [],
   "source": [
    "# 1.\n",
    "number_set = set(range(1, 11))\n",
    "\n",
    "# 2.\n",
    "even_numbers = {number for number in number_set if number % 2 == 0}\n",
    "number_set.difference_update(even_numbers)\n",
    "\n",
    "# 3.\n",
    "number_set.update({11, 12, 13})\n",
    "\n",
    "# 4.\n",
    "sum_of_numbers = sum(number_set)\n"
   ]
  },
  {
   "cell_type": "code",
   "execution_count": null,
   "id": "244d5c53",
   "metadata": {},
   "outputs": [],
   "source": [
    "Question 10: Set Intersection and Difference\n",
    "\n",
    "Create two sets: set1 with elements \"apple\", \"banana\", \"cherry\", and \"date\", and set2 with elements \"cherry\", \"date\", \"elderberry\", and \"fig\".\n",
    "Find the common elements between set1 and set2.\n",
    "Find the elements that are in set1 but not in set2."
   ]
  },
  {
   "cell_type": "code",
   "execution_count": null,
   "id": "53302594",
   "metadata": {},
   "outputs": [],
   "source": [
    "# 1.\n",
    "set1 = {\"apple\", \"banana\", \"cherry\", \"date\"}\n",
    "set2 = {\"cherry\", \"date\", \"elderberry\", \"fig\"}\n",
    "\n",
    "# 2.\n",
    "common_elements = set1.intersection(set2)\n",
    "\n",
    "# 3.\n",
    "exclusive_elements_set1 = set1.difference(set2)\n"
   ]
  },
  {
   "cell_type": "code",
   "execution_count": null,
   "id": "ab24a116",
   "metadata": {},
   "outputs": [],
   "source": [
    "Question 11: Advanced Set Operations and Mapping\n",
    "\n",
    "Create two sets: set1 with elements 1, 2, 3, 4, and 5, and set2 with elements 4, 5, 6, 7, and 8.\n",
    "Find the elements that are exclusive to each set (present in one set but not in the other).\n",
    "Find the union of the two sets.\n",
    "Create a dictionary where the keys are the elements from set1 and the values are the corresponding elements from set2."
   ]
  },
  {
   "cell_type": "code",
   "execution_count": null,
   "id": "efc2110a",
   "metadata": {},
   "outputs": [],
   "source": [
    "# 1.\n",
    "set1 = {1, 2, 3, 4, 5}\n",
    "set2 = {4, 5, 6, 7, 8}\n",
    "\n",
    "# 2.\n",
    "exclusive_elements = set1.symmetric_difference(set2)\n",
    "\n",
    "# 3.\n",
    "union_set = set1.union(set2)\n",
    "\n",
    "# 4.\n",
    "set_mapping = {elem1: elem2 for elem1, elem2 in zip(set1, set2)}\n"
   ]
  },
  {
   "cell_type": "code",
   "execution_count": null,
   "id": "e1c34084",
   "metadata": {},
   "outputs": [],
   "source": [
    "Question 12: Advanced Set Comprehension\n",
    "\n",
    "Given a list of sentences, create a set containing all unique words in lowercase from the sentences, excluding common English stop words.\n",
    "Count the frequency of each word in the set across all sentences and create a dictionary with words as keys and their frequencies as values."
   ]
  },
  {
   "cell_type": "code",
   "execution_count": null,
   "id": "1a1b5d4a",
   "metadata": {},
   "outputs": [],
   "source": [
    "import re\n",
    "from collections import Counter\n",
    "\n",
    "# Sample list of sentences\n",
    "sentences = [\n",
    "    \"This is a sample sentence.\",\n",
    "    \"Another sentence for testing.\",\n",
    "    \"Sample sentences are fun to work with.\"\n",
    "]\n",
    "\n",
    "# Common English stop words\n",
    "stop_words = {\"this\", \"is\", \"a\", \"for\", \"to\", \"with\", \"are\"}\n",
    "\n",
    "# 1.\n",
    "unique_words = {word.lower() for sentence in sentences for word in re.findall(r'\\w+', sentence) if word.lower() not in stop_words}\n",
    "\n",
    "# 2.\n",
    "word_frequencies = Counter(word.lower() for sentence in sentences for word in re.findall(r'\\w+', sentence))\n"
   ]
  },
  {
   "cell_type": "code",
   "execution_count": null,
   "id": "c4334022",
   "metadata": {},
   "outputs": [],
   "source": [
    "Question 13: Advanced Set Manipulation and Filtering\n",
    "\n",
    "Create a set containing random integers between 1 and 100.\n",
    "Find all prime numbers in the set.\n",
    "Remove all numbers that are divisible by 3.\n",
    "Create a new set containing the squares of the remaining numbers."
   ]
  },
  {
   "cell_type": "code",
   "execution_count": null,
   "id": "c6d5b059",
   "metadata": {},
   "outputs": [],
   "source": [
    "import random\n",
    "\n",
    "# 1.\n",
    "random_integers_set = {random.randint(1, 100) for _ in range(20)}\n",
    "\n",
    "# 2.\n",
    "def is_prime(n):\n",
    "    if n <= 1:\n",
    "        return False\n",
    "    for i in range(2, int(n**0.5) + 1):\n",
    "        if n % i == 0:\n",
    "            return False\n",
    "    return True\n",
    "\n",
    "prime_numbers = {num for num in random_integers_set if is_prime(num)}\n",
    "\n",
    "# 3.\n",
    "non_divisible_by_3 = {num for num in random_integers_set if num % 3 != 0}\n",
    "\n",
    "# 4.\n",
    "squares_set = {num**2 for num in non_divisible_by_3}\n"
   ]
  },
  {
   "cell_type": "code",
   "execution_count": null,
   "id": "dbdd9188",
   "metadata": {},
   "outputs": [],
   "source": []
  }
 ],
 "metadata": {
  "kernelspec": {
   "display_name": "Python 3",
   "language": "python",
   "name": "python3"
  },
  "language_info": {
   "codemirror_mode": {
    "name": "ipython",
    "version": 3
   },
   "file_extension": ".py",
   "mimetype": "text/x-python",
   "name": "python",
   "nbconvert_exporter": "python",
   "pygments_lexer": "ipython3",
   "version": "3.8.8"
  }
 },
 "nbformat": 4,
 "nbformat_minor": 5
}
