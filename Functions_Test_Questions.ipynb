{
 "cells": [
  {
   "cell_type": "markdown",
   "id": "ed91923a",
   "metadata": {},
   "source": [
    "Question 1: Function Basics\n",
    "\n",
    "Define a function called greet that takes a name as an argument and prints a greeting message with the name."
   ]
  },
  {
   "cell_type": "code",
   "execution_count": 1,
   "id": "6a1f5207",
   "metadata": {},
   "outputs": [
    {
     "name": "stdout",
     "output_type": "stream",
     "text": [
      "Hello, Alice!\n"
     ]
    }
   ],
   "source": [
    "def greet(name):\n",
    "    print(f\"Hello, {name}!\")\n",
    "\n",
    "# Calling the function\n",
    "greet(\"Alice\")\n"
   ]
  },
  {
   "cell_type": "markdown",
   "id": "9d673227",
   "metadata": {},
   "source": [
    "Question 2: Function with Return Value\n",
    "\n",
    "Define a function called square that takes a number as an argument and returns its square."
   ]
  },
  {
   "cell_type": "code",
   "execution_count": 2,
   "id": "4e04e00a",
   "metadata": {},
   "outputs": [
    {
     "name": "stdout",
     "output_type": "stream",
     "text": [
      "25\n"
     ]
    }
   ],
   "source": [
    "def square(number):\n",
    "    return number ** 2\n",
    "\n",
    "# Calling the function\n",
    "result = square(5)\n",
    "print(result)  # Output: 25\n"
   ]
  },
  {
   "cell_type": "markdown",
   "id": "e3f5c8cb",
   "metadata": {},
   "source": [
    "Question 3: Function with Default Parameter\n",
    "\n",
    "Define a function called power that takes a base and an exponent as arguments, with the exponent having a default value of 2. The function should return the result of raising the base to the exponent."
   ]
  },
  {
   "cell_type": "code",
   "execution_count": 3,
   "id": "7ba600af",
   "metadata": {},
   "outputs": [
    {
     "name": "stdout",
     "output_type": "stream",
     "text": [
      "9\n",
      "8\n"
     ]
    }
   ],
   "source": [
    "def power(base, exponent=2):\n",
    "    return base ** exponent\n",
    "\n",
    "# Calling the function\n",
    "result1 = power(3)\n",
    "result2 = power(2, 3)\n",
    "print(result1)  # Output: 9\n",
    "print(result2)  # Output: 8\n"
   ]
  },
  {
   "cell_type": "markdown",
   "id": "a228bbb6",
   "metadata": {},
   "source": [
    "Question 4: Recursive Function\n",
    "\n",
    "Define a recursive function called factorial that calculates the factorial of a given positive integer."
   ]
  },
  {
   "cell_type": "code",
   "execution_count": 4,
   "id": "55170fb9",
   "metadata": {},
   "outputs": [
    {
     "name": "stdout",
     "output_type": "stream",
     "text": [
      "120\n"
     ]
    }
   ],
   "source": [
    "def factorial(n):\n",
    "    if n == 0 or n == 1:\n",
    "        return 1\n",
    "    else:\n",
    "        return n * factorial(n - 1)\n",
    "\n",
    "# Calling the function\n",
    "result = factorial(5)\n",
    "print(result)  # Output: 120\n"
   ]
  },
  {
   "cell_type": "markdown",
   "id": "01859ce8",
   "metadata": {},
   "source": [
    "Question 5: Function with Variable Number of Arguments\n",
    "\n",
    "Define a function called calculate_sum that takes any number of arguments and returns their sum."
   ]
  },
  {
   "cell_type": "code",
   "execution_count": 5,
   "id": "373ea743",
   "metadata": {},
   "outputs": [
    {
     "name": "stdout",
     "output_type": "stream",
     "text": [
      "6\n",
      "22\n"
     ]
    }
   ],
   "source": [
    "def calculate_sum(*args):\n",
    "    return sum(args)\n",
    "\n",
    "# Calling the function\n",
    "result1 = calculate_sum(1, 2, 3)\n",
    "result2 = calculate_sum(4, 5, 6, 7)\n",
    "print(result1)  # Output: 6\n",
    "print(result2)  # Output: 22\n"
   ]
  },
  {
   "cell_type": "markdown",
   "id": "336fd1b6",
   "metadata": {},
   "source": [
    "Question 6: Function with Keyword Arguments\n",
    "\n",
    "Define a function called print_info that takes the following arguments: name, age, and city. The function should print a formatted information message."
   ]
  },
  {
   "cell_type": "code",
   "execution_count": 6,
   "id": "3632b977",
   "metadata": {},
   "outputs": [
    {
     "name": "stdout",
     "output_type": "stream",
     "text": [
      "Name: Alice, Age: 25, City: New York\n"
     ]
    }
   ],
   "source": [
    "def print_info(name, age, city):\n",
    "    print(f\"Name: {name}, Age: {age}, City: {city}\")\n",
    "\n",
    "# Calling the function with keyword arguments\n",
    "print_info(name=\"Alice\", age=25, city=\"New York\")\n"
   ]
  },
  {
   "cell_type": "markdown",
   "id": "a164df56",
   "metadata": {},
   "source": [
    "Question 7: Lambda Function\n",
    "\n",
    "Create a lambda function that calculates the square of a given number."
   ]
  },
  {
   "cell_type": "code",
   "execution_count": 7,
   "id": "8bedf44a",
   "metadata": {},
   "outputs": [
    {
     "name": "stdout",
     "output_type": "stream",
     "text": [
      "16\n"
     ]
    }
   ],
   "source": [
    "square = lambda x: x ** 2\n",
    "\n",
    "# Using the lambda function\n",
    "result = square(4)\n",
    "print(result)  # Output: 16\n"
   ]
  },
  {
   "cell_type": "markdown",
   "id": "90711b4a",
   "metadata": {},
   "source": [
    "Question 8: Function Returning Multiple Values\n",
    "\n",
    "Define a function called calculate_stats that takes a list of numbers and returns the sum, average, minimum, and maximum of the numbers."
   ]
  },
  {
   "cell_type": "code",
   "execution_count": 8,
   "id": "1dec7212",
   "metadata": {},
   "outputs": [
    {
     "name": "stdout",
     "output_type": "stream",
     "text": [
      "75 15.0 5 25\n"
     ]
    }
   ],
   "source": [
    "def calculate_stats(numbers):\n",
    "    total = sum(numbers)\n",
    "    average = total / len(numbers)\n",
    "    minimum = min(numbers)\n",
    "    maximum = max(numbers)\n",
    "    return total, average, minimum, maximum\n",
    "\n",
    "# Calling the function\n",
    "numbers_list = [5, 10, 15, 20, 25]\n",
    "total_sum, avg, min_value, max_value = calculate_stats(numbers_list)\n",
    "print(total_sum, avg, min_value, max_value)\n"
   ]
  },
  {
   "cell_type": "markdown",
   "id": "8846c9f0",
   "metadata": {},
   "source": [
    "Question 9: Higher-Order Function\n",
    "\n",
    "Define a function called apply_operation that takes two numbers and a function as arguments. The function should apply the given function to the two numbers and return the result."
   ]
  },
  {
   "cell_type": "code",
   "execution_count": 9,
   "id": "4a0eac0c",
   "metadata": {},
   "outputs": [
    {
     "name": "stdout",
     "output_type": "stream",
     "text": [
      "8 8 24\n"
     ]
    }
   ],
   "source": [
    "def apply_operation(a, b, operation):\n",
    "    return operation(a, b)\n",
    "\n",
    "# Defining the operation functions\n",
    "add = lambda x, y: x + y\n",
    "subtract = lambda x, y: x - y\n",
    "multiply = lambda x, y: x * y\n",
    "\n",
    "# Using the higher-order function\n",
    "result1 = apply_operation(5, 3, add)\n",
    "result2 = apply_operation(10, 2, subtract)\n",
    "result3 = apply_operation(4, 6, multiply)\n",
    "print(result1, result2, result3)\n"
   ]
  },
  {
   "cell_type": "markdown",
   "id": "0c145bb7",
   "metadata": {},
   "source": [
    "Question 10: Decorator Function\n",
    "\n",
    "Define a decorator function called print_args that prints the arguments and keyword arguments of a given function before and after calling it."
   ]
  },
  {
   "cell_type": "code",
   "execution_count": 10,
   "id": "e9fc55ca",
   "metadata": {},
   "outputs": [
    {
     "name": "stdout",
     "output_type": "stream",
     "text": [
      "Arguments: (3, 5)\n",
      "Keyword Arguments: {}\n",
      "Function Result: 8\n"
     ]
    },
    {
     "data": {
      "text/plain": [
       "8"
      ]
     },
     "execution_count": 10,
     "metadata": {},
     "output_type": "execute_result"
    }
   ],
   "source": [
    "def print_args(func):\n",
    "    def wrapper(*args, **kwargs):\n",
    "        print(\"Arguments:\", args)\n",
    "        print(\"Keyword Arguments:\", kwargs)\n",
    "        result = func(*args, **kwargs)\n",
    "        print(\"Function Result:\", result)\n",
    "        return result\n",
    "    return wrapper\n",
    "\n",
    "# Applying the decorator\n",
    "@print_args\n",
    "def add(a, b):\n",
    "    return a + b\n",
    "\n",
    "add(3, 5)\n"
   ]
  },
  {
   "cell_type": "markdown",
   "id": "2e61122c",
   "metadata": {},
   "source": [
    "Question 11: Nested Functions\n",
    "\n",
    "Define a function called outer_function that takes a parameter x. Inside outer_function, define another function called inner_function that takes a parameter y. The inner_function should return the sum of x and y."
   ]
  },
  {
   "cell_type": "code",
   "execution_count": 11,
   "id": "27179d3c",
   "metadata": {},
   "outputs": [
    {
     "name": "stdout",
     "output_type": "stream",
     "text": [
      "8\n"
     ]
    }
   ],
   "source": [
    "def outer_function(x):\n",
    "    def inner_function(y):\n",
    "        return x + y\n",
    "    return inner_function\n",
    "\n",
    "# Using the nested functions\n",
    "add_5 = outer_function(5)\n",
    "result = add_5(3)\n",
    "print(result)  # Output: 8\n"
   ]
  },
  {
   "cell_type": "markdown",
   "id": "b42cd9f0",
   "metadata": {},
   "source": [
    "Question 12: Recursion and Memoization\n",
    "\n",
    "Implement a recursive function called fibonacci that calculates the nth Fibonacci number. Use memoization to improve performance."
   ]
  },
  {
   "cell_type": "code",
   "execution_count": 12,
   "id": "0a346dff",
   "metadata": {},
   "outputs": [
    {
     "name": "stdout",
     "output_type": "stream",
     "text": [
      "55\n"
     ]
    }
   ],
   "source": [
    "def fibonacci(n, memo={}):\n",
    "    if n in memo:\n",
    "        return memo[n]\n",
    "    if n <= 2:\n",
    "        return 1\n",
    "    memo[n] = fibonacci(n - 1, memo) + fibonacci(n - 2, memo)\n",
    "    return memo[n]\n",
    "\n",
    "# Using the fibonacci function\n",
    "result = fibonacci(10)\n",
    "print(result)  # Output: 55\n"
   ]
  },
  {
   "cell_type": "markdown",
   "id": "5a4da829",
   "metadata": {},
   "source": [
    "Question 13: Generator Function\n",
    "\n",
    "Define a generator function called countdown that takes a number as an argument and yields a countdown from that number to 1."
   ]
  },
  {
   "cell_type": "code",
   "execution_count": 13,
   "id": "5fbdc737",
   "metadata": {},
   "outputs": [
    {
     "name": "stdout",
     "output_type": "stream",
     "text": [
      "5\n",
      "4\n",
      "3\n",
      "2\n",
      "1\n"
     ]
    }
   ],
   "source": [
    "def countdown(n):\n",
    "    while n > 0:\n",
    "        yield n\n",
    "        n -= 1\n",
    "\n",
    "# Using the generator\n",
    "for number in countdown(5):\n",
    "    print(number)\n"
   ]
  },
  {
   "cell_type": "markdown",
   "id": "4c81fec5",
   "metadata": {},
   "source": [
    "Question 14: Anonymous Function in Map and Filter\n",
    "\n",
    "Create a list of numbers. Use the map function and a lambda function to square each number in the list.\n",
    "Use the filter function and a lambda function to keep only the even numbers from the list."
   ]
  },
  {
   "cell_type": "code",
   "execution_count": 14,
   "id": "8616f4d8",
   "metadata": {},
   "outputs": [],
   "source": [
    "# 1.\n",
    "numbers_list = [1, 2, 3, 4, 5]\n",
    "squared_numbers = list(map(lambda x: x**2, numbers_list))\n",
    "\n",
    "# 2.\n",
    "even_numbers = list(filter(lambda x: x % 2 == 0, numbers_list))\n"
   ]
  },
  {
   "cell_type": "markdown",
   "id": "ab2e9fd0",
   "metadata": {},
   "source": [
    "Question 15: Exception Handling in Function\n",
    "\n",
    "Define a function called divide that takes two numbers as arguments and returns the result of dividing the first number by the second number. Handle the ZeroDivisionError exception."
   ]
  },
  {
   "cell_type": "code",
   "execution_count": 15,
   "id": "4caa687d",
   "metadata": {},
   "outputs": [
    {
     "name": "stdout",
     "output_type": "stream",
     "text": [
      "Error: Division by zero is not allowed.\n",
      "5.0\n",
      "None\n"
     ]
    }
   ],
   "source": [
    "def divide(a, b):\n",
    "    try:\n",
    "        result = a / b\n",
    "    except ZeroDivisionError:\n",
    "        print(\"Error: Division by zero is not allowed.\")\n",
    "        return None\n",
    "    return result\n",
    "\n",
    "# Using the divide function\n",
    "result1 = divide(10, 2)\n",
    "result2 = divide(8, 0)\n",
    "print(result1)  # Output: 5.0\n",
    "print(result2)  # Output: None\n"
   ]
  },
  {
   "cell_type": "markdown",
   "id": "87974823",
   "metadata": {},
   "source": [
    "Question 16: Function with Generator Expression\n",
    "\n",
    "Define a function called even_squares that takes a list of numbers and returns a generator that yields the squares of the even numbers in the list."
   ]
  },
  {
   "cell_type": "code",
   "execution_count": 16,
   "id": "e9f81346",
   "metadata": {},
   "outputs": [
    {
     "name": "stdout",
     "output_type": "stream",
     "text": [
      "4\n",
      "16\n",
      "36\n"
     ]
    }
   ],
   "source": [
    "def even_squares(numbers):\n",
    "    for num in numbers:\n",
    "        if num % 2 == 0:\n",
    "            yield num ** 2\n",
    "\n",
    "# Using the generator function\n",
    "numbers_list = [1, 2, 3, 4, 5, 6]\n",
    "even_squares_generator = even_squares(numbers_list)\n",
    "for square in even_squares_generator:\n",
    "    print(square)\n"
   ]
  },
  {
   "cell_type": "markdown",
   "id": "27b26519",
   "metadata": {},
   "source": [
    "Question 17: Function Closure\n",
    "\n",
    "Define a function called counter that returns a closure function. The closure should count and return the number of times it's been called."
   ]
  },
  {
   "cell_type": "code",
   "execution_count": 17,
   "id": "5cd654f9",
   "metadata": {},
   "outputs": [
    {
     "name": "stdout",
     "output_type": "stream",
     "text": [
      "1\n",
      "2\n"
     ]
    }
   ],
   "source": [
    "def counter():\n",
    "    count = 0\n",
    "    def inner():\n",
    "        nonlocal count\n",
    "        count += 1\n",
    "        return count\n",
    "    return inner\n",
    "\n",
    "# Creating and using the closure function\n",
    "increment = counter()\n",
    "print(increment())  # Output: 1\n",
    "print(increment())  # Output: 2\n"
   ]
  },
  {
   "cell_type": "markdown",
   "id": "e131c687",
   "metadata": {},
   "source": [
    "Question 18: Function Decorator with Arguments\n",
    "\n",
    "Define a decorator function called repeat that takes an integer argument n. The decorator should repeat the decorated function's execution n times."
   ]
  },
  {
   "cell_type": "code",
   "execution_count": 18,
   "id": "70e29d19",
   "metadata": {},
   "outputs": [
    {
     "name": "stdout",
     "output_type": "stream",
     "text": [
      "Hello, Alice!\n",
      "Hello, Alice!\n",
      "Hello, Alice!\n"
     ]
    }
   ],
   "source": [
    "def repeat(n):\n",
    "    def decorator(func):\n",
    "        def wrapper(*args, **kwargs):\n",
    "            for _ in range(n):\n",
    "                result = func(*args, **kwargs)\n",
    "            return result\n",
    "        return wrapper\n",
    "    return decorator\n",
    "\n",
    "# Applying the decorator with arguments\n",
    "@repeat(n=3)\n",
    "def greet(name):\n",
    "    print(f\"Hello, {name}!\")\n",
    "\n",
    "greet(\"Alice\")\n"
   ]
  },
  {
   "cell_type": "markdown",
   "id": "a0f11925",
   "metadata": {},
   "source": [
    "Question 19: Function Composition\n",
    "\n",
    "Define three functions: add_two, square, and subtract_one. Create a composed function that applies these functions in sequence: add_two, square, and then subtract_one."
   ]
  },
  {
   "cell_type": "code",
   "execution_count": 19,
   "id": "9cbf4584",
   "metadata": {},
   "outputs": [
    {
     "name": "stdout",
     "output_type": "stream",
     "text": [
      "24\n"
     ]
    }
   ],
   "source": [
    "def add_two(x):\n",
    "    return x + 2\n",
    "\n",
    "def square(x):\n",
    "    return x ** 2\n",
    "\n",
    "def subtract_one(x):\n",
    "    return x - 1\n",
    "\n",
    "def composed_function(x):\n",
    "    return subtract_one(square(add_two(x)))\n",
    "\n",
    "result = composed_function(3)\n",
    "print(result)  # Output: 16\n"
   ]
  },
  {
   "cell_type": "markdown",
   "id": "4ea99fc0",
   "metadata": {},
   "source": [
    "Question 20: Function Memoization with LRU Cache\n",
    "\n",
    "Define a function called fibonacci that calculates the nth Fibonacci number. Use the functools.lru_cache decorator for memoization."
   ]
  },
  {
   "cell_type": "code",
   "execution_count": 20,
   "id": "0e8e5453",
   "metadata": {},
   "outputs": [
    {
     "name": "stdout",
     "output_type": "stream",
     "text": [
      "55\n"
     ]
    }
   ],
   "source": [
    "import functools\n",
    "\n",
    "@functools.lru_cache(maxsize=None)\n",
    "def fibonacci(n):\n",
    "    if n <= 2:\n",
    "        return 1\n",
    "    return fibonacci(n - 1) + fibonacci(n - 2)\n",
    "\n",
    "# Using the fibonacci function\n",
    "result = fibonacci(10)\n",
    "print(result)  # Output: 55\n"
   ]
  },
  {
   "cell_type": "markdown",
   "id": "5f579c3d",
   "metadata": {},
   "source": [
    "Question 21: Function with Variable Scope\n",
    "\n",
    "Define a function called calculate_total that takes a list of prices and a discount percentage as arguments. Calculate the total cost after applying the discount."
   ]
  },
  {
   "cell_type": "code",
   "execution_count": 21,
   "id": "a3fdda3b",
   "metadata": {},
   "outputs": [
    {
     "name": "stdout",
     "output_type": "stream",
     "text": [
      "85.0\n"
     ]
    }
   ],
   "source": [
    "def calculate_total(prices, discount_percentage):\n",
    "    total = sum(prices)\n",
    "    discount = total * (discount_percentage / 100)\n",
    "    discounted_total = total - discount\n",
    "    return discounted_total\n",
    "\n",
    "# Using the function\n",
    "prices_list = [10, 20, 30, 40]\n",
    "discount_percentage = 15\n",
    "total_cost = calculate_total(prices_list, discount_percentage)\n",
    "print(total_cost)\n"
   ]
  },
  {
   "cell_type": "markdown",
   "id": "4cf4af19",
   "metadata": {},
   "source": [
    "Question 22: Function Composition and Mapping\n",
    "\n",
    "Define a function called increment that takes a number and returns its increment.\n",
    "Define a function called double that takes a number and returns its double.\n",
    "Create a list of numbers. Use the map function to apply the increment function followed by the double function to each number in the list."
   ]
  },
  {
   "cell_type": "code",
   "execution_count": 22,
   "id": "6555a358",
   "metadata": {},
   "outputs": [
    {
     "name": "stdout",
     "output_type": "stream",
     "text": [
      "[4, 6, 8, 10, 12]\n"
     ]
    }
   ],
   "source": [
    "def increment(x):\n",
    "    return x + 1\n",
    "\n",
    "def double(x):\n",
    "    return x * 2\n",
    "\n",
    "numbers_list = [1, 2, 3, 4, 5]\n",
    "result_list = list(map(double, map(increment, numbers_list)))\n",
    "print(result_list)\n"
   ]
  },
  {
   "cell_type": "markdown",
   "id": "dd33b23f",
   "metadata": {},
   "source": [
    "Question 23: Function with Closure and Memoization\n",
    "\n",
    "Define a function called power_of_n that returns a closure function. The closure should take a number x as an argument and return x raised to the power of n, where n is provided when creating the closure."
   ]
  },
  {
   "cell_type": "code",
   "execution_count": 23,
   "id": "3b185a96",
   "metadata": {},
   "outputs": [
    {
     "name": "stdout",
     "output_type": "stream",
     "text": [
      "25\n",
      "27\n"
     ]
    }
   ],
   "source": [
    "def power_of_n(n):\n",
    "    def inner(x):\n",
    "        return x ** n\n",
    "    return inner\n",
    "\n",
    "# Using the closure function\n",
    "square = power_of_n(2)\n",
    "cube = power_of_n(3)\n",
    "result1 = square(5)\n",
    "result2 = cube(3)\n",
    "print(result1)  # Output: 25\n",
    "print(result2)  # Output: 27\n"
   ]
  },
  {
   "cell_type": "markdown",
   "id": "1bff929e",
   "metadata": {},
   "source": [
    "Question 24: Generator Function with Filtering\n",
    "\n",
    "Define a generator function called even_squares that takes a list of numbers and yields the squares of the even numbers in the list."
   ]
  },
  {
   "cell_type": "code",
   "execution_count": 24,
   "id": "b92be0f6",
   "metadata": {},
   "outputs": [
    {
     "name": "stdout",
     "output_type": "stream",
     "text": [
      "4\n",
      "16\n",
      "36\n"
     ]
    }
   ],
   "source": [
    "def even_squares(numbers):\n",
    "    for num in numbers:\n",
    "        if num % 2 == 0:\n",
    "            yield num ** 2\n",
    "\n",
    "# Using the generator function\n",
    "numbers_list = [1, 2, 3, 4, 5, 6]\n",
    "even_squares_generator = even_squares(numbers_list)\n",
    "for square in even_squares_generator:\n",
    "    print(square)\n"
   ]
  },
  {
   "cell_type": "markdown",
   "id": "237233ff",
   "metadata": {},
   "source": [
    "Question 25: Function Composition and Reducing\n",
    "\n",
    "Define a function called multiply that takes two numbers and returns their product.\n",
    "Define a function called sum_of_squares that takes a list of numbers and returns the sum of their squares.\n",
    "Create a list of numbers and calculate the sum of the squares of the even numbers using the multiply and sum_of_squares functions."
   ]
  },
  {
   "cell_type": "code",
   "execution_count": 25,
   "id": "0174cc66",
   "metadata": {},
   "outputs": [
    {
     "name": "stdout",
     "output_type": "stream",
     "text": [
      "56\n"
     ]
    }
   ],
   "source": [
    "def multiply(x, y):\n",
    "    return x * y\n",
    "\n",
    "def sum_of_squares(numbers):\n",
    "    return sum([x ** 2 for x in numbers])\n",
    "\n",
    "numbers_list = [1, 2, 3, 4, 5, 6]\n",
    "even_numbers = [num for num in numbers_list if num % 2 == 0]\n",
    "result = sum_of_squares(even_numbers)\n",
    "print(result)\n"
   ]
  },
  {
   "cell_type": "markdown",
   "id": "ae9b62ad",
   "metadata": {},
   "source": [
    "Question 26: Function with Nested Lists\n",
    "\n",
    "Define a function called flatten that takes a nested list as input and returns a flat list containing all the elements."
   ]
  },
  {
   "cell_type": "code",
   "execution_count": 26,
   "id": "eb8b177c",
   "metadata": {},
   "outputs": [
    {
     "name": "stdout",
     "output_type": "stream",
     "text": [
      "[1, 2, 3, 4, 5, 6]\n"
     ]
    }
   ],
   "source": [
    "def flatten(nested_list):\n",
    "    flat_list = []\n",
    "    for sublist in nested_list:\n",
    "        if isinstance(sublist, list):\n",
    "            flat_list.extend(flatten(sublist))\n",
    "        else:\n",
    "            flat_list.append(sublist)\n",
    "    return flat_list\n",
    "\n",
    "# Using the function\n",
    "nested_list = [1, [2, 3, [4, 5]], 6]\n",
    "result = flatten(nested_list)\n",
    "print(result)\n"
   ]
  },
  {
   "cell_type": "markdown",
   "id": "78c52f98",
   "metadata": {},
   "source": [
    "Question 27: Function Composition and Mapping\n",
    "\n",
    "Define a function called square that returns the square of a number.\n",
    "Define a function called negate that returns the negation of a number.\n",
    "Create a list of numbers. Use the map function to apply the square function followed by the negate function to each number in the list."
   ]
  },
  {
   "cell_type": "code",
   "execution_count": 27,
   "id": "75120c8d",
   "metadata": {},
   "outputs": [
    {
     "name": "stdout",
     "output_type": "stream",
     "text": [
      "[-1, -4, -9, -16, -25]\n"
     ]
    }
   ],
   "source": [
    "def square(x):\n",
    "    return x ** 2\n",
    "\n",
    "def negate(x):\n",
    "    return -x\n",
    "\n",
    "numbers_list = [1, 2, 3, 4, 5]\n",
    "result_list = list(map(negate, map(square, numbers_list)))\n",
    "print(result_list)\n"
   ]
  },
  {
   "cell_type": "markdown",
   "id": "128a1744",
   "metadata": {},
   "source": [
    "Question 28: Function with Default Arguments and Keyword Arguments\n",
    "\n",
    "Define a function called create_person that takes a name and age as arguments. Provide a default value of 25 for the age.\n",
    "Call the function with a name and age, and then call it again with just a name."
   ]
  },
  {
   "cell_type": "code",
   "execution_count": 28,
   "id": "492c6a09",
   "metadata": {},
   "outputs": [
    {
     "name": "stdout",
     "output_type": "stream",
     "text": [
      "{'name': 'Alice', 'age': 30}\n",
      "{'name': 'Bob', 'age': 25}\n"
     ]
    }
   ],
   "source": [
    "def create_person(name, age=25):\n",
    "    return {\"name\": name, \"age\": age}\n",
    "\n",
    "# Using the function\n",
    "person1 = create_person(\"Alice\", 30)\n",
    "person2 = create_person(\"Bob\")\n",
    "print(person1)\n",
    "print(person2)\n"
   ]
  },
  {
   "cell_type": "markdown",
   "id": "7608e18c",
   "metadata": {},
   "source": [
    "Question 29: Recursive Function and Memoization\n",
    "\n",
    "Define a recursive function called fibonacci that calculates the nth Fibonacci number using memoization."
   ]
  },
  {
   "cell_type": "code",
   "execution_count": 29,
   "id": "eaa5313b",
   "metadata": {},
   "outputs": [
    {
     "name": "stdout",
     "output_type": "stream",
     "text": [
      "55\n"
     ]
    }
   ],
   "source": [
    "def fibonacci(n, memo={}):\n",
    "    if n in memo:\n",
    "        return memo[n]\n",
    "    if n <= 2:\n",
    "        return 1\n",
    "    memo[n] = fibonacci(n - 1, memo) + fibonacci(n - 2, memo)\n",
    "    return memo[n]\n",
    "\n",
    "# Using the fibonacci function\n",
    "result = fibonacci(10)\n",
    "print(result)\n"
   ]
  },
  {
   "cell_type": "markdown",
   "id": "1a38d31a",
   "metadata": {},
   "source": [
    "Question 30: Function with Lambda and Filtering\n",
    "\n",
    "Create a list of numbers. Use the filter function and a lambda function to keep only the odd numbers from the list."
   ]
  },
  {
   "cell_type": "code",
   "execution_count": 30,
   "id": "32ad63c6",
   "metadata": {},
   "outputs": [
    {
     "name": "stdout",
     "output_type": "stream",
     "text": [
      "[1, 3, 5, 7, 9]\n"
     ]
    }
   ],
   "source": [
    "numbers_list = [1, 2, 3, 4, 5, 6, 7, 8, 9, 10]\n",
    "odd_numbers = list(filter(lambda x: x % 2 != 0, numbers_list))\n",
    "print(odd_numbers)\n"
   ]
  },
  {
   "cell_type": "markdown",
   "id": "8738ad80",
   "metadata": {},
   "source": [
    "Question 31: Function with Dynamic Parameters\n",
    "\n",
    "Define a function called calculate that takes a mathematical expression as a string and returns the result of evaluating the expression. The expression can contain basic arithmetic operations (+, -, *, /) and parentheses."
   ]
  },
  {
   "cell_type": "code",
   "execution_count": 31,
   "id": "6bcae4fd",
   "metadata": {},
   "outputs": [
    {
     "name": "stdout",
     "output_type": "stream",
     "text": [
      "14\n"
     ]
    }
   ],
   "source": [
    "def calculate(expression):\n",
    "    return eval(expression)\n",
    "\n",
    "# Using the function\n",
    "result = calculate(\"2 * (3 + 4)\")\n",
    "print(result)\n"
   ]
  },
  {
   "cell_type": "markdown",
   "id": "b59ccb29",
   "metadata": {},
   "source": [
    "Question 32: Function Decorator with Parameters\n",
    "\n",
    "Define a decorator function called repeat that takes an integer parameter n. The decorator should repeat the decorated function's execution n times."
   ]
  },
  {
   "cell_type": "code",
   "execution_count": 32,
   "id": "d45933e6",
   "metadata": {},
   "outputs": [
    {
     "name": "stdout",
     "output_type": "stream",
     "text": [
      "Hello, Alice!\n",
      "Hello, Alice!\n",
      "Hello, Alice!\n"
     ]
    }
   ],
   "source": [
    "def repeat(n):\n",
    "    def decorator(func):\n",
    "        def wrapper(*args, **kwargs):\n",
    "            for _ in range(n):\n",
    "                result = func(*args, **kwargs)\n",
    "            return result\n",
    "        return wrapper\n",
    "    return decorator\n",
    "\n",
    "# Applying the decorator with parameters\n",
    "@repeat(n=3)\n",
    "def greet(name):\n",
    "    print(f\"Hello, {name}!\")\n",
    "\n",
    "greet(\"Alice\")\n"
   ]
  },
  {
   "cell_type": "markdown",
   "id": "909909df",
   "metadata": {},
   "source": [
    "Question 33: Currying Function\n",
    "\n",
    "Define a function called curry that takes a function as an argument and returns a curried version of the function. The curried function should accept arguments one at a time until all arguments are provided, and then return the final result."
   ]
  },
  {
   "cell_type": "code",
   "execution_count": 33,
   "id": "130db93e",
   "metadata": {},
   "outputs": [
    {
     "name": "stdout",
     "output_type": "stream",
     "text": [
      "6\n"
     ]
    }
   ],
   "source": [
    "def curry(func):\n",
    "    def curried(*args):\n",
    "        if len(args) >= func.__code__.co_argcount:\n",
    "            return func(*args)\n",
    "        return lambda *more_args: curried(*(args + more_args))\n",
    "    return curried\n",
    "\n",
    "# Using the curry function\n",
    "@curry\n",
    "def add(x, y, z):\n",
    "    return x + y + z\n",
    "\n",
    "result = add(1)(2)(3)\n",
    "print(result)\n"
   ]
  },
  {
   "cell_type": "markdown",
   "id": "4f2359f7",
   "metadata": {},
   "source": [
    "Question 34: Function with Context Manager\n",
    "\n",
    "Define a function called read_file that takes a filename as an argument and uses a context manager to read and print the contents of the file."
   ]
  },
  {
   "cell_type": "code",
   "execution_count": 34,
   "id": "fae52b7f",
   "metadata": {},
   "outputs": [
    {
     "name": "stdout",
     "output_type": "stream",
     "text": [
      "This is a sample file.\n",
      "We are learning file Handling in Python.\n"
     ]
    }
   ],
   "source": [
    "def read_file(filename):\n",
    "    with open(filename, 'r') as file:\n",
    "        content = file.read()\n",
    "        print(content)\n",
    "\n",
    "# Using the function\n",
    "read_file(\"example.txt\")\n"
   ]
  },
  {
   "cell_type": "markdown",
   "id": "1720d856",
   "metadata": {},
   "source": [
    "Question 35: Function with Caching and Memoization\n",
    "\n",
    "Implement a decorator function called cached that caches the results of function calls using a dictionary. The cached results should persist across multiple calls."
   ]
  },
  {
   "cell_type": "code",
   "execution_count": 35,
   "id": "d73acd8c",
   "metadata": {},
   "outputs": [
    {
     "name": "stdout",
     "output_type": "stream",
     "text": [
      "55\n"
     ]
    }
   ],
   "source": [
    "def cached(func):\n",
    "    cache = {}\n",
    "    def wrapper(*args, **kwargs):\n",
    "        if args in cache:\n",
    "            return cache[args]\n",
    "        result = func(*args, **kwargs)\n",
    "        cache[args] = result\n",
    "        return result\n",
    "    return wrapper\n",
    "\n",
    "# Applying the cached decorator\n",
    "@cached\n",
    "def fibonacci(n):\n",
    "    if n <= 2:\n",
    "        return 1\n",
    "    return fibonacci(n - 1) + fibonacci(n - 2)\n",
    "\n",
    "result = fibonacci(10)\n",
    "print(result)\n"
   ]
  },
  {
   "cell_type": "markdown",
   "id": "9b480e7b",
   "metadata": {},
   "source": [
    "Question 36: Function with Keyword-Only Arguments\n",
    "\n",
    "Define a function called calculate_invoice that calculates the total invoice amount. The function should take subtotal, tax_rate, and discount as keyword-only arguments. If no discount is provided, it should default to 0. If no tax rate is provided, it should default to 0.08 (8%)."
   ]
  },
  {
   "cell_type": "code",
   "execution_count": 36,
   "id": "e98dcde8",
   "metadata": {},
   "outputs": [
    {
     "name": "stdout",
     "output_type": "stream",
     "text": [
      "90.00000000000001\n"
     ]
    }
   ],
   "source": [
    "def calculate_invoice(subtotal, *, tax_rate=0.08, discount=0):\n",
    "    total = subtotal * (1 + tax_rate) - discount\n",
    "    return total\n",
    "\n",
    "# Using the function\n",
    "total_amount = calculate_invoice(100, tax_rate=0.1, discount=20)\n",
    "print(total_amount)\n"
   ]
  },
  {
   "cell_type": "markdown",
   "id": "6ea11c88",
   "metadata": {},
   "source": [
    "Question 37: Function Composition and Mapping with Lambdas\n",
    "\n",
    "Define a list of strings containing numbers. Use the map function and lambda functions to convert each string to an integer, then find the sum of the squares of the even numbers."
   ]
  },
  {
   "cell_type": "code",
   "execution_count": 37,
   "id": "935dc0c8",
   "metadata": {},
   "outputs": [
    {
     "name": "stdout",
     "output_type": "stream",
     "text": [
      "56\n"
     ]
    }
   ],
   "source": [
    "numbers_strings = [\"1\", \"2\", \"3\", \"4\", \"5\", \"6\"]\n",
    "numbers_integers = list(map(int, numbers_strings))\n",
    "even_numbers = filter(lambda x: x % 2 == 0, numbers_integers)\n",
    "sum_of_squares = sum(map(lambda x: x**2, even_numbers))\n",
    "print(sum_of_squares)\n"
   ]
  },
  {
   "cell_type": "markdown",
   "id": "a1b718f5",
   "metadata": {},
   "source": [
    "Question 38: Function Decorator with Logging\n",
    "\n",
    "Define a decorator function called log_function that logs the arguments and result of a decorated function when it's called."
   ]
  },
  {
   "cell_type": "code",
   "execution_count": 38,
   "id": "9a5fc376",
   "metadata": {},
   "outputs": [
    {
     "name": "stdout",
     "output_type": "stream",
     "text": [
      "Function 'add' called with arguments: (3, 5), {}\n",
      "Result: 8\n"
     ]
    }
   ],
   "source": [
    "def log_function(func):\n",
    "    def wrapper(*args, **kwargs):\n",
    "        result = func(*args, **kwargs)\n",
    "        print(f\"Function '{func.__name__}' called with arguments: {args}, {kwargs}\")\n",
    "        print(f\"Result: {result}\")\n",
    "        return result\n",
    "    return wrapper\n",
    "\n",
    "# Applying the log_function decorator\n",
    "@log_function\n",
    "def add(a, b):\n",
    "    return a + b\n",
    "\n",
    "result = add(3, 5)\n"
   ]
  },
  {
   "cell_type": "markdown",
   "id": "fb20355e",
   "metadata": {},
   "source": [
    "Question 39: Function with Variable-Length Keyword Arguments\n",
    "\n",
    "Define a function called print_properties that takes keyword arguments representing properties of an object. The function should print each property with its value."
   ]
  },
  {
   "cell_type": "code",
   "execution_count": 39,
   "id": "5ae50635",
   "metadata": {},
   "outputs": [
    {
     "name": "stdout",
     "output_type": "stream",
     "text": [
      "name: Alice\n",
      "age: 25\n",
      "city: New York\n"
     ]
    }
   ],
   "source": [
    "def print_properties(**kwargs):\n",
    "    for property_name, value in kwargs.items():\n",
    "        print(f\"{property_name}: {value}\")\n",
    "\n",
    "# Using the function\n",
    "print_properties(name=\"Alice\", age=25, city=\"New York\")\n"
   ]
  },
  {
   "cell_type": "markdown",
   "id": "cd565536",
   "metadata": {},
   "source": [
    "Question 40: Generator Function with Filtering and Mapping\n",
    "\n",
    "Define a generator function called filtered_square_generator that takes a list of numbers as input. The generator should yield the square of each odd number in the list."
   ]
  },
  {
   "cell_type": "code",
   "execution_count": 40,
   "id": "25fb90e2",
   "metadata": {},
   "outputs": [
    {
     "name": "stdout",
     "output_type": "stream",
     "text": [
      "1\n",
      "9\n",
      "25\n",
      "49\n"
     ]
    }
   ],
   "source": [
    "def filtered_square_generator(numbers):\n",
    "    for num in numbers:\n",
    "        if num % 2 != 0:\n",
    "            yield num ** 2\n",
    "\n",
    "# Using the generator function\n",
    "numbers_list = [1, 2, 3, 4, 5, 6, 7]\n",
    "filtered_squares = filtered_square_generator(numbers_list)\n",
    "for square in filtered_squares:\n",
    "    print(square)\n"
   ]
  },
  {
   "cell_type": "code",
   "execution_count": null,
   "id": "bd59b179",
   "metadata": {},
   "outputs": [],
   "source": []
  },
  {
   "cell_type": "code",
   "execution_count": null,
   "id": "fdd45291",
   "metadata": {},
   "outputs": [],
   "source": []
  },
  {
   "cell_type": "code",
   "execution_count": null,
   "id": "344d22b8",
   "metadata": {},
   "outputs": [],
   "source": []
  },
  {
   "cell_type": "code",
   "execution_count": null,
   "id": "63a62c7e",
   "metadata": {},
   "outputs": [],
   "source": []
  }
 ],
 "metadata": {
  "kernelspec": {
   "display_name": "Python 3",
   "language": "python",
   "name": "python3"
  },
  "language_info": {
   "codemirror_mode": {
    "name": "ipython",
    "version": 3
   },
   "file_extension": ".py",
   "mimetype": "text/x-python",
   "name": "python",
   "nbconvert_exporter": "python",
   "pygments_lexer": "ipython3",
   "version": "3.8.8"
  }
 },
 "nbformat": 4,
 "nbformat_minor": 5
}
