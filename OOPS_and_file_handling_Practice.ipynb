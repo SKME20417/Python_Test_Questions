{
 "cells": [
  {
   "cell_type": "code",
   "execution_count": 26,
   "id": "416b3102",
   "metadata": {},
   "outputs": [
    {
     "ename": "SyntaxError",
     "evalue": "invalid syntax (<ipython-input-26-4d86edbdd673>, line 1)",
     "output_type": "error",
     "traceback": [
      "\u001b[1;36m  File \u001b[1;32m\"<ipython-input-26-4d86edbdd673>\"\u001b[1;36m, line \u001b[1;32m1\u001b[0m\n\u001b[1;33m    Question 1:\u001b[0m\n\u001b[1;37m             ^\u001b[0m\n\u001b[1;31mSyntaxError\u001b[0m\u001b[1;31m:\u001b[0m invalid syntax\n"
     ]
    }
   ],
   "source": [
    "Question 1:\n",
    "What is Object-Oriented Programming (OOP) in Python, and why is it important?\n",
    "\n",
    "Solution 1:\n",
    "Object-Oriented Programming (OOP) is a programming paradigm that uses objects and \n",
    "classes to organize and structure code. In Python, everything is an object, and OOP is a fundamental concept. \n",
    "It is important because it promotes code reusability, modularity, and helps manage complexity in larger programs.\n",
    "\n"
   ]
  },
  {
   "cell_type": "code",
   "execution_count": null,
   "id": "59c3946b",
   "metadata": {},
   "outputs": [],
   "source": []
  },
  {
   "cell_type": "code",
   "execution_count": 27,
   "id": "ed389f64",
   "metadata": {},
   "outputs": [
    {
     "ename": "SyntaxError",
     "evalue": "invalid syntax (<ipython-input-27-7abe9a30b174>, line 1)",
     "output_type": "error",
     "traceback": [
      "\u001b[1;36m  File \u001b[1;32m\"<ipython-input-27-7abe9a30b174>\"\u001b[1;36m, line \u001b[1;32m1\u001b[0m\n\u001b[1;33m    Question 2:\u001b[0m\n\u001b[1;37m             ^\u001b[0m\n\u001b[1;31mSyntaxError\u001b[0m\u001b[1;31m:\u001b[0m invalid syntax\n"
     ]
    }
   ],
   "source": [
    "Question 2:\n",
    "What is a class in Python, and how do you define one?\n",
    "\n",
    "Solution 2:\n",
    "    \n",
    "A class in Python is a blueprint for creating objects. \n",
    "It defines the attributes (data) and methods (functions) that the objects of the class will have. \n",
    "To define a class in Python, you use the class keyword followed by the class name and a colon. \n",
    "\n",
    "Here's an example:\n",
    "\n",
    "class Car:\n",
    "    def __init__(self, make, model):\n",
    "        self.make = make\n",
    "        self.model = model\n"
   ]
  },
  {
   "cell_type": "code",
   "execution_count": 28,
   "id": "88ae9067",
   "metadata": {},
   "outputs": [
    {
     "ename": "SyntaxError",
     "evalue": "invalid syntax (<ipython-input-28-f34c757e7ef3>, line 1)",
     "output_type": "error",
     "traceback": [
      "\u001b[1;36m  File \u001b[1;32m\"<ipython-input-28-f34c757e7ef3>\"\u001b[1;36m, line \u001b[1;32m1\u001b[0m\n\u001b[1;33m    Question 3:\u001b[0m\n\u001b[1;37m             ^\u001b[0m\n\u001b[1;31mSyntaxError\u001b[0m\u001b[1;31m:\u001b[0m invalid syntax\n"
     ]
    }
   ],
   "source": [
    "Question 3:\n",
    "Explain the concept of inheritance in Python. Provide an example.\n",
    "\n",
    "Solution 3:\n",
    "Inheritance is a fundamental OOP concept in Python, where a new class (subclass or derived class)\n",
    "can inherit attributes and methods from an existing class (superclass or base class).\n",
    "It allows for code reuse and the creation of more specialized classes.\n",
    "\n",
    "Here's an example:\n",
    "\n",
    "class Animal:\n",
    "    def __init__(self, name):\n",
    "        self.name = name\n",
    "\n",
    "class Dog(Animal):\n",
    "    def bark(self):\n",
    "        return f\"{self.name} barks!\"\n",
    "    \n",
    "In this example, the Dog class inherits the name attribute from the Animal class and adds its own method bark.\n",
    "\n",
    "\n"
   ]
  },
  {
   "cell_type": "code",
   "execution_count": 29,
   "id": "df9463b6",
   "metadata": {},
   "outputs": [
    {
     "ename": "SyntaxError",
     "evalue": "invalid syntax (<ipython-input-29-6b55e9f88177>, line 1)",
     "output_type": "error",
     "traceback": [
      "\u001b[1;36m  File \u001b[1;32m\"<ipython-input-29-6b55e9f88177>\"\u001b[1;36m, line \u001b[1;32m1\u001b[0m\n\u001b[1;33m    Question 4:\u001b[0m\n\u001b[1;37m             ^\u001b[0m\n\u001b[1;31mSyntaxError\u001b[0m\u001b[1;31m:\u001b[0m invalid syntax\n"
     ]
    }
   ],
   "source": [
    "Question 4:\n",
    "What is encapsulation, and how is it achieved in Python?\n",
    "\n",
    "Solution 4:\n",
    "Encapsulation is the concept of bundling data (attributes) and the methods (functions)\n",
    "that operate on that data into a single unit, known as a class. In Python,\n",
    "encapsulation is achieved by using private and protected attributes and methods.\n",
    "Private attributes are denoted by a double underscore __, and protected attributes \n",
    "are denoted by a single underscore _. These attributes are not meant to be accessed \n",
    "directly from outside the class.\n",
    "\n",
    "Here's an example:\n",
    "\n",
    "class Student:\n",
    "    def __init__(self, name, roll_number):\n",
    "        self.__name = name  # Private attribute\n",
    "        self._roll_number = roll_number  # Protected attribute\n",
    "\n",
    "    def get_name(self):\n",
    "        return self.__name\n",
    "\n",
    "    def set_name(self, new_name):\n",
    "        if len(new_name) > 0:\n",
    "            self.__name = new_name\n",
    "        else:\n",
    "            print(\"Name cannot be empty!\")\n",
    "\n",
    "student = Student(\"Alice\", 12345)\n",
    "print(student.get_name())  # Accessing private attribute via a method\n"
   ]
  },
  {
   "cell_type": "code",
   "execution_count": 30,
   "id": "48786672",
   "metadata": {},
   "outputs": [
    {
     "ename": "SyntaxError",
     "evalue": "invalid syntax (<ipython-input-30-28f6133c1a1e>, line 1)",
     "output_type": "error",
     "traceback": [
      "\u001b[1;36m  File \u001b[1;32m\"<ipython-input-30-28f6133c1a1e>\"\u001b[1;36m, line \u001b[1;32m1\u001b[0m\n\u001b[1;33m    Question 5:\u001b[0m\n\u001b[1;37m             ^\u001b[0m\n\u001b[1;31mSyntaxError\u001b[0m\u001b[1;31m:\u001b[0m invalid syntax\n"
     ]
    }
   ],
   "source": [
    "Question 5:\n",
    "What is method overriding in Python? Provide an example.\n",
    "\n",
    "Solution 5:\n",
    "Method overriding is a concept in OOP where a subclass provides a specific implementation\n",
    "of a method that is already defined in its superclass. \n",
    "This allows the subclass to customize the behavior of the inherited method. \n",
    "\n",
    "Here's an example:\n",
    "\n",
    "class Shape:\n",
    "    def area(self):\n",
    "        pass\n",
    "\n",
    "class Circle(Shape):\n",
    "    def __init__(self, radius):\n",
    "        self.radius = radius\n",
    "\n",
    "    def area(self):\n",
    "        return 3.14 * self.radius * self.radius\n",
    "    \n",
    "In this example, the Circle class overrides the area method from the Shape \n",
    "class to calculate the area of a circle with a given radius.\n",
    "\n",
    "These questions and solutions cover some fundamental aspects of Object-Oriented Programming in Python.\n",
    "You can use them for studying and practicing OOP in Python.\n"
   ]
  },
  {
   "cell_type": "code",
   "execution_count": 31,
   "id": "a4b884e2",
   "metadata": {},
   "outputs": [
    {
     "ename": "SyntaxError",
     "evalue": "invalid syntax (<ipython-input-31-37f1a08bd67a>, line 1)",
     "output_type": "error",
     "traceback": [
      "\u001b[1;36m  File \u001b[1;32m\"<ipython-input-31-37f1a08bd67a>\"\u001b[1;36m, line \u001b[1;32m1\u001b[0m\n\u001b[1;33m    Question 1:\u001b[0m\n\u001b[1;37m             ^\u001b[0m\n\u001b[1;31mSyntaxError\u001b[0m\u001b[1;31m:\u001b[0m invalid syntax\n"
     ]
    }
   ],
   "source": [
    "Question 1:\n",
    "Create a Python class called Rectangle with attributes length and width. \n",
    "Implement methods to calculate the area and perimeter of the rectangle.\n",
    "\n",
    "class Rectangle:\n",
    "    def __init__(self, length, width):\n",
    "        self.length = length\n",
    "        self.width = width\n",
    "\n",
    "    def area(self):\n",
    "        return self.length * self.width\n",
    "\n",
    "    def perimeter(self):\n",
    "        return 2 * (self.length + self.width)\n",
    "\n",
    "# Usage\n",
    "rectangle = Rectangle(5, 3)\n",
    "print(\"Area:\", rectangle.area())\n",
    "print(\"Perimeter:\", rectangle.perimeter())\n"
   ]
  },
  {
   "cell_type": "code",
   "execution_count": 32,
   "id": "b31645d2",
   "metadata": {},
   "outputs": [
    {
     "ename": "SyntaxError",
     "evalue": "invalid syntax (<ipython-input-32-5179f49c683c>, line 1)",
     "output_type": "error",
     "traceback": [
      "\u001b[1;36m  File \u001b[1;32m\"<ipython-input-32-5179f49c683c>\"\u001b[1;36m, line \u001b[1;32m1\u001b[0m\n\u001b[1;33m    Question 2:\u001b[0m\n\u001b[1;37m             ^\u001b[0m\n\u001b[1;31mSyntaxError\u001b[0m\u001b[1;31m:\u001b[0m invalid syntax\n"
     ]
    }
   ],
   "source": [
    "Question 2:\n",
    "Create a Python class called Employee with attributes name, salary, and role.\n",
    "Implement a method to give a salary raise to an employee.\n",
    "\n",
    "class Employee:\n",
    "    def __init__(self, name, salary, role):\n",
    "        self.name = name\n",
    "        self.salary = salary\n",
    "        self.role = role\n",
    "\n",
    "    def give_raise(self, amount):\n",
    "        self.salary += amount\n",
    "\n",
    "# Usage\n",
    "employee = Employee(\"Alice\", 50000, \"Manager\")\n",
    "print(\"Current Salary:\", employee.salary)\n",
    "employee.give_raise(5000)\n",
    "print(\"New Salary after Raise:\", employee.salary)\n",
    "\n",
    "\n"
   ]
  },
  {
   "cell_type": "code",
   "execution_count": 33,
   "id": "44b94a77",
   "metadata": {},
   "outputs": [
    {
     "ename": "SyntaxError",
     "evalue": "invalid syntax (<ipython-input-33-e25165850af6>, line 1)",
     "output_type": "error",
     "traceback": [
      "\u001b[1;36m  File \u001b[1;32m\"<ipython-input-33-e25165850af6>\"\u001b[1;36m, line \u001b[1;32m1\u001b[0m\n\u001b[1;33m    Question 3:\u001b[0m\n\u001b[1;37m             ^\u001b[0m\n\u001b[1;31mSyntaxError\u001b[0m\u001b[1;31m:\u001b[0m invalid syntax\n"
     ]
    }
   ],
   "source": [
    "Question 3:\n",
    "Create a Python class called BankAccount with attributes account_number and balance.\n",
    "Implement methods to deposit and withdraw money from the account while keeping track of the balance.\n",
    "\n",
    "class BankAccount:\n",
    "    def __init__(self, account_number, balance):\n",
    "        self.account_number = account_number\n",
    "        self.balance = balance\n",
    "\n",
    "    def deposit(self, amount):\n",
    "        if amount > 0:\n",
    "            self.balance += amount\n",
    "            print(f\"Deposited ${amount}. New balance: ${self.balance}\")\n",
    "        else:\n",
    "            print(\"Invalid deposit amount.\")\n",
    "\n",
    "    def withdraw(self, amount):\n",
    "        if amount > 0 and amount <= self.balance:\n",
    "            self.balance -= amount\n",
    "            print(f\"Withdrew ${amount}. New balance: ${self.balance}\")\n",
    "        else:\n",
    "            print(\"Invalid withdrawal amount or insufficient balance.\")\n",
    "\n",
    "# Usage\n",
    "account = BankAccount(\"123456\", 1000)\n",
    "account.deposit(500)\n",
    "account.withdraw(200)\n",
    "account.withdraw(1500)\n"
   ]
  },
  {
   "cell_type": "code",
   "execution_count": 34,
   "id": "6644e813",
   "metadata": {},
   "outputs": [
    {
     "ename": "SyntaxError",
     "evalue": "invalid syntax (<ipython-input-34-44145a5a59c2>, line 1)",
     "output_type": "error",
     "traceback": [
      "\u001b[1;36m  File \u001b[1;32m\"<ipython-input-34-44145a5a59c2>\"\u001b[1;36m, line \u001b[1;32m1\u001b[0m\n\u001b[1;33m    Question 4:\u001b[0m\n\u001b[1;37m             ^\u001b[0m\n\u001b[1;31mSyntaxError\u001b[0m\u001b[1;31m:\u001b[0m invalid syntax\n"
     ]
    }
   ],
   "source": [
    "Question 4:\n",
    "Create a Python class hierarchy for shapes, including Circle and Rectangle.\n",
    "Implement a method to calculate the area of each shape.\n",
    "\n",
    "class Shape:\n",
    "    def area(self):\n",
    "        pass\n",
    "\n",
    "class Circle(Shape):\n",
    "    def __init__(self, radius):\n",
    "        self.radius = radius\n",
    "\n",
    "    def area(self):\n",
    "        return 3.14 * self.radius * self.radius\n",
    "\n",
    "class Rectangle(Shape):\n",
    "    def __init__(self, length, width):\n",
    "        self.length = length\n",
    "        self.width = width\n",
    "\n",
    "    def area(self):\n",
    "        return self.length * self.width\n",
    "\n",
    "# Usage\n",
    "circle = Circle(5)\n",
    "rectangle = Rectangle(4, 6)\n",
    "print(\"Circle Area:\", circle.area())\n",
    "print(\"Rectangle Area:\", rectangle.area())\n",
    "\n",
    "These programming questions and solutions demonstrate various OOP concepts in Python,\n",
    "including classes, attributes, methods, and inheritance. \n",
    "You can use them to practice and deepen your understanding of OOP in Python.\n",
    "\n",
    "\n"
   ]
  },
  {
   "cell_type": "code",
   "execution_count": 35,
   "id": "3b91bb9b",
   "metadata": {},
   "outputs": [
    {
     "ename": "SyntaxError",
     "evalue": "invalid syntax (<ipython-input-35-365ec1fe49c6>, line 1)",
     "output_type": "error",
     "traceback": [
      "\u001b[1;36m  File \u001b[1;32m\"<ipython-input-35-365ec1fe49c6>\"\u001b[1;36m, line \u001b[1;32m1\u001b[0m\n\u001b[1;33m    Question 5:\u001b[0m\n\u001b[1;37m             ^\u001b[0m\n\u001b[1;31mSyntaxError\u001b[0m\u001b[1;31m:\u001b[0m invalid syntax\n"
     ]
    }
   ],
   "source": [
    "Question 5:\n",
    "Create a Python class called Book with attributes title, author, and\n",
    "publication_year. Implement a method to display the book's details.\n",
    "\n",
    "class Book:\n",
    "    def __init__(self, title, author, publication_year):\n",
    "        self.title = title\n",
    "        self.author = author\n",
    "        self.publication_year = publication_year\n",
    "\n",
    "    def display_details(self):\n",
    "        print(f\"Title: {self.title}\")\n",
    "        print(f\"Author: {self.author}\")\n",
    "        print(f\"Publication Year: {self.publication_year}\")\n",
    "\n",
    "# Usage\n",
    "book = Book(\"The Great Gatsby\", \"F. Scott Fitzgerald\", 1925)\n",
    "book.display_details()\n"
   ]
  },
  {
   "cell_type": "code",
   "execution_count": 36,
   "id": "35195cfe",
   "metadata": {},
   "outputs": [
    {
     "ename": "SyntaxError",
     "evalue": "invalid syntax (<ipython-input-36-a0e1e7ad9112>, line 1)",
     "output_type": "error",
     "traceback": [
      "\u001b[1;36m  File \u001b[1;32m\"<ipython-input-36-a0e1e7ad9112>\"\u001b[1;36m, line \u001b[1;32m1\u001b[0m\n\u001b[1;33m    Question 6:\u001b[0m\n\u001b[1;37m             ^\u001b[0m\n\u001b[1;31mSyntaxError\u001b[0m\u001b[1;31m:\u001b[0m invalid syntax\n"
     ]
    }
   ],
   "source": [
    "Question 6:\n",
    "Create a Python class called Student with attributes name, age, and grades.\n",
    "Implement a method to calculate the average grade for a student.\n",
    "\n",
    "class Student:\n",
    "    def __init__(self, name, age, grades):\n",
    "        self.name = name\n",
    "        self.age = age\n",
    "        self.grades = grades\n",
    "\n",
    "    def calculate_average_grade(self):\n",
    "        if len(self.grades) > 0:\n",
    "            return sum(self.grades) / len(self.grades)\n",
    "        else:\n",
    "            return 0  # Return 0 if there are no grades\n",
    "\n",
    "# Usage\n",
    "student = Student(\"Alice\", 20, [85, 90, 78, 92])\n",
    "average_grade = student.calculate_average_grade()\n",
    "print(f\"{student.name}'s Average Grade: {average_grade}\")\n"
   ]
  },
  {
   "cell_type": "code",
   "execution_count": 37,
   "id": "6973e6de",
   "metadata": {},
   "outputs": [
    {
     "ename": "SyntaxError",
     "evalue": "invalid syntax (<ipython-input-37-d2c2a4610753>, line 1)",
     "output_type": "error",
     "traceback": [
      "\u001b[1;36m  File \u001b[1;32m\"<ipython-input-37-d2c2a4610753>\"\u001b[1;36m, line \u001b[1;32m1\u001b[0m\n\u001b[1;33m    Question 7:\u001b[0m\n\u001b[1;37m             ^\u001b[0m\n\u001b[1;31mSyntaxError\u001b[0m\u001b[1;31m:\u001b[0m invalid syntax\n"
     ]
    }
   ],
   "source": [
    "Question 7:\n",
    "Create a Python class called Bank that manages multiple BankAccount objects. \n",
    "Implement methods to add an account, remove an account, and display the total balance across all accounts.\n",
    "\n",
    "class Bank:\n",
    "    def __init__(self):\n",
    "        self.accounts = []\n",
    "\n",
    "    def add_account(self, account):\n",
    "        self.accounts.append(account)\n",
    "\n",
    "    def remove_account(self, account):\n",
    "        if account in self.accounts:\n",
    "            self.accounts.remove(account)\n",
    "\n",
    "    def total_balance(self):\n",
    "        total = 0\n",
    "        for account in self.accounts:\n",
    "            total += account.balance\n",
    "        return total\n",
    "\n",
    "# Usage\n",
    "account1 = BankAccount(\"123456\", 1000)\n",
    "account2 = BankAccount(\"789012\", 1500)\n",
    "\n",
    "bank = Bank()\n",
    "bank.add_account(account1)\n",
    "bank.add_account(account2)\n",
    "\n",
    "print(\"Total Balance across Accounts:\", bank.total_balance())\n"
   ]
  },
  {
   "cell_type": "code",
   "execution_count": 38,
   "id": "5e57b5ad",
   "metadata": {},
   "outputs": [
    {
     "ename": "SyntaxError",
     "evalue": "invalid syntax (<ipython-input-38-ee28769b73ba>, line 1)",
     "output_type": "error",
     "traceback": [
      "\u001b[1;36m  File \u001b[1;32m\"<ipython-input-38-ee28769b73ba>\"\u001b[1;36m, line \u001b[1;32m1\u001b[0m\n\u001b[1;33m    Question 8:\u001b[0m\n\u001b[1;37m             ^\u001b[0m\n\u001b[1;31mSyntaxError\u001b[0m\u001b[1;31m:\u001b[0m invalid syntax\n"
     ]
    }
   ],
   "source": [
    "Question 8:\n",
    "Create a Python class called Shape with attributes name and color. \n",
    "Then, create subclasses like Circle, Rectangle, and Triangle that inherit from Shape.\n",
    "Implement a method to display the name and color of each shape.\n",
    "\n",
    "class Shape:\n",
    "    def __init__(self, name, color):\n",
    "        self.name = name\n",
    "        self.color = color\n",
    "\n",
    "    def display_details(self):\n",
    "        print(f\"Name: {self.name}\")\n",
    "        print(f\"Color: {self.color}\")\n",
    "\n",
    "class Circle(Shape):\n",
    "    def __init__(self, name, color, radius):\n",
    "        super().__init__(name, color)\n",
    "        self.radius = radius\n",
    "\n",
    "class Rectangle(Shape):\n",
    "    def __init__(self, name, color, length, width):\n",
    "        super().__init__(name, color)\n",
    "        self.length = length\n",
    "        self.width = width\n",
    "\n",
    "class Triangle(Shape):\n",
    "    def __init__(self, name, color, base, height):\n",
    "        super().__init__(name, color)\n",
    "        self.base = base\n",
    "        self.height = height\n",
    "\n",
    "# Usage\n",
    "circle = Circle(\"Circle\", \"Red\", 5)\n",
    "rectangle = Rectangle(\"Rectangle\", \"Blue\", 4, 6)\n",
    "triangle = Triangle(\"Triangle\", \"Green\", 3, 4)\n",
    "\n",
    "circle.display_details()\n",
    "rectangle.display_details()\n",
    "triangle.display_details()\n",
    "\n",
    "\n",
    "These additional programming questions and solutions further explore OOP concepts in Python, including class hierarchies, method implementations, and class interactions. You can use them to practice and solidify your understanding of OOP.\n",
    "\n"
   ]
  },
  {
   "cell_type": "code",
   "execution_count": 39,
   "id": "fe5d2859",
   "metadata": {},
   "outputs": [
    {
     "ename": "SyntaxError",
     "evalue": "invalid syntax (<ipython-input-39-acd44b9c108d>, line 1)",
     "output_type": "error",
     "traceback": [
      "\u001b[1;36m  File \u001b[1;32m\"<ipython-input-39-acd44b9c108d>\"\u001b[1;36m, line \u001b[1;32m1\u001b[0m\n\u001b[1;33m    Question 9:\u001b[0m\n\u001b[1;37m             ^\u001b[0m\n\u001b[1;31mSyntaxError\u001b[0m\u001b[1;31m:\u001b[0m invalid syntax\n"
     ]
    }
   ],
   "source": [
    "Question 9:\n",
    "Create a Python class called Library that manages a collection of books.\n",
    "Implement methods to add books, remove books, and display the list of available books.\n",
    "\n",
    "class Library:\n",
    "    def __init__(self):\n",
    "        self.books = []\n",
    "\n",
    "    def add_book(self, book):\n",
    "        self.books.append(book)\n",
    "\n",
    "    def remove_book(self, book):\n",
    "        if book in self.books:\n",
    "            self.books.remove(book)\n",
    "\n",
    "    def display_books(self):\n",
    "        print(\"Available Books:\")\n",
    "        for book in self.books:\n",
    "            print(f\"{book.title} by {book.author}\")\n",
    "\n",
    "class Book:\n",
    "    def __init__(self, title, author):\n",
    "        self.title = title\n",
    "        self.author = author\n",
    "\n",
    "# Usage\n",
    "library = Library()\n",
    "book1 = Book(\"The Catcher in the Rye\", \"J.D. Salinger\")\n",
    "book2 = Book(\"To Kill a Mockingbird\", \"Harper Lee\")\n",
    "\n",
    "library.add_book(book1)\n",
    "library.add_book(book2)\n",
    "\n",
    "library.display_books()\n",
    "library.remove_book(book1)\n",
    "library.display_books()\n"
   ]
  },
  {
   "cell_type": "code",
   "execution_count": 40,
   "id": "808462d4",
   "metadata": {},
   "outputs": [
    {
     "ename": "SyntaxError",
     "evalue": "invalid syntax (<ipython-input-40-24ffe870180a>, line 1)",
     "output_type": "error",
     "traceback": [
      "\u001b[1;36m  File \u001b[1;32m\"<ipython-input-40-24ffe870180a>\"\u001b[1;36m, line \u001b[1;32m1\u001b[0m\n\u001b[1;33m    Question 10:\u001b[0m\n\u001b[1;37m             ^\u001b[0m\n\u001b[1;31mSyntaxError\u001b[0m\u001b[1;31m:\u001b[0m invalid syntax\n"
     ]
    }
   ],
   "source": [
    "Question 10:\n",
    "Create a Python class called Bank with a dictionary attribute that maps account numbers to BankAccount objects.\n",
    "Implement methods to add an account, remove an account, and display the account balances.\n",
    "\n",
    "class Bank:\n",
    "    def __init__(self):\n",
    "        self.accounts = {}\n",
    "\n",
    "    def add_account(self, account):\n",
    "        self.accounts[account.account_number] = account\n",
    "\n",
    "    def remove_account(self, account_number):\n",
    "        if account_number in self.accounts:\n",
    "            del self.accounts[account_number]\n",
    "\n",
    "    def display_balances(self):\n",
    "        print(\"Account Balances:\")\n",
    "        for account_number, account in self.accounts.items():\n",
    "            print(f\"Account {account_number}: ${account.balance}\")\n",
    "\n",
    "class BankAccount:\n",
    "    def __init__(self, account_number, balance):\n",
    "        self.account_number = account_number\n",
    "        self.balance = balance\n",
    "\n",
    "# Usage\n",
    "bank = Bank()\n",
    "account1 = BankAccount(\"123456\", 1000)\n",
    "account2 = BankAccount(\"789012\", 1500)\n",
    "\n",
    "bank.add_account(account1)\n",
    "bank.add_account(account2)\n",
    "\n",
    "bank.display_balances()\n",
    "bank.remove_account(\"123456\")\n",
    "bank.display_balances()\n"
   ]
  },
  {
   "cell_type": "code",
   "execution_count": 41,
   "id": "867729af",
   "metadata": {},
   "outputs": [
    {
     "ename": "SyntaxError",
     "evalue": "invalid syntax (<ipython-input-41-ee131d21dfbf>, line 1)",
     "output_type": "error",
     "traceback": [
      "\u001b[1;36m  File \u001b[1;32m\"<ipython-input-41-ee131d21dfbf>\"\u001b[1;36m, line \u001b[1;32m1\u001b[0m\n\u001b[1;33m    Question 11:\u001b[0m\n\u001b[1;37m             ^\u001b[0m\n\u001b[1;31mSyntaxError\u001b[0m\u001b[1;31m:\u001b[0m invalid syntax\n"
     ]
    }
   ],
   "source": [
    "Question 11:\n",
    "Create a Python class called Triangle with attributes a, b, and c representing the lengths of its sides.\n",
    "Implement a method to check if the triangle is equilateral (all sides are of equal length),\n",
    "isosceles (two sides are of equal length), or scalene (all sides are of different lengths).\n",
    "\n",
    "class Triangle:\n",
    "    def __init__(self, a, b, c):\n",
    "        self.a = a\n",
    "        self.b = b\n",
    "        self.c = c\n",
    "\n",
    "    def triangle_type(self):\n",
    "        if self.a == self.b == self.c:\n",
    "            return \"Equilateral Triangle\"\n",
    "        elif self.a == self.b or self.a == self.c or self.b == self.c:\n",
    "            return \"Isosceles Triangle\"\n",
    "        else:\n",
    "            return \"Scalene Triangle\"\n",
    "\n",
    "# Usage\n",
    "triangle1 = Triangle(5, 5, 5)\n",
    "triangle2 = Triangle(4, 4, 3)\n",
    "triangle3 = Triangle(3, 4, 5)\n",
    "\n",
    "print(triangle1.triangle_type())\n",
    "print(triangle2.triangle_type())\n",
    "print(triangle3.triangle_type())\n"
   ]
  },
  {
   "cell_type": "code",
   "execution_count": 42,
   "id": "c1e824f5",
   "metadata": {},
   "outputs": [
    {
     "ename": "SyntaxError",
     "evalue": "invalid syntax (<ipython-input-42-176be4aa79f7>, line 1)",
     "output_type": "error",
     "traceback": [
      "\u001b[1;36m  File \u001b[1;32m\"<ipython-input-42-176be4aa79f7>\"\u001b[1;36m, line \u001b[1;32m1\u001b[0m\n\u001b[1;33m    Question 12:\u001b[0m\n\u001b[1;37m             ^\u001b[0m\n\u001b[1;31mSyntaxError\u001b[0m\u001b[1;31m:\u001b[0m invalid syntax\n"
     ]
    }
   ],
   "source": [
    "Question 12:\n",
    "Create a Python class called Person with attributes name and age. \n",
    "Implement a method to compare the ages of two people and determine who is older.\n",
    "\n",
    "class Person:\n",
    "    def __init__(self, name, age):\n",
    "        self.name = name\n",
    "        self.age = age\n",
    "\n",
    "    def compare_age(self, other_person):\n",
    "        if self.age < other_person.age:\n",
    "            return f\"{self.name} is younger than {other_person.name}.\"\n",
    "        elif self.age > other_person.age:\n",
    "            return f\"{self.name} is older than {other_person.name}.\"\n",
    "        else:\n",
    "            return f\"{self.name} and {other_person.name} are of the same age.\"\n",
    "\n",
    "# Usage\n",
    "person1 = Person(\"Alice\", 25)\n",
    "person2 = Person(\"Bob\", 30)\n",
    "\n",
    "print(person1.compare_age(person2))\n"
   ]
  },
  {
   "cell_type": "code",
   "execution_count": 43,
   "id": "8df4641d",
   "metadata": {},
   "outputs": [
    {
     "ename": "SyntaxError",
     "evalue": "invalid syntax (<ipython-input-43-6151a4973149>, line 1)",
     "output_type": "error",
     "traceback": [
      "\u001b[1;36m  File \u001b[1;32m\"<ipython-input-43-6151a4973149>\"\u001b[1;36m, line \u001b[1;32m1\u001b[0m\n\u001b[1;33m    Question 13:\u001b[0m\n\u001b[1;37m             ^\u001b[0m\n\u001b[1;31mSyntaxError\u001b[0m\u001b[1;31m:\u001b[0m invalid syntax\n"
     ]
    }
   ],
   "source": [
    "Question 13:\n",
    "Create a Python class called Student with attributes name, age, and courses. \n",
    "Implement methods to add courses, remove courses, and display the list of courses for a student.\n",
    "\n",
    "class Student:\n",
    "    def __init__(self, name, age):\n",
    "        self.name = name\n",
    "        self.age = age\n",
    "        self.courses = []\n",
    "\n",
    "    def add_course(self, course):\n",
    "        self.courses.append(course)\n",
    "\n",
    "    def remove_course(self, course):\n",
    "        if course in self.courses:\n",
    "            self.courses.remove(course)\n",
    "\n",
    "    def display_courses(self):\n",
    "        print(f\"Courses for {self.name}:\")\n",
    "        for course in self.courses:\n",
    "            print(course)\n",
    "\n",
    "# Usage\n",
    "student = Student(\"Alice\", 20)\n",
    "student.add_course(\"Math\")\n",
    "student.add_course(\"History\")\n",
    "student.add_course(\"Physics\")\n",
    "\n",
    "student.display_courses()\n",
    "\n",
    "student.remove_course(\"History\")\n",
    "student.display_courses()\n"
   ]
  },
  {
   "cell_type": "code",
   "execution_count": 44,
   "id": "19717f62",
   "metadata": {},
   "outputs": [
    {
     "ename": "SyntaxError",
     "evalue": "invalid syntax (<ipython-input-44-059de076ed69>, line 1)",
     "output_type": "error",
     "traceback": [
      "\u001b[1;36m  File \u001b[1;32m\"<ipython-input-44-059de076ed69>\"\u001b[1;36m, line \u001b[1;32m1\u001b[0m\n\u001b[1;33m    Question 14:\u001b[0m\n\u001b[1;37m             ^\u001b[0m\n\u001b[1;31mSyntaxError\u001b[0m\u001b[1;31m:\u001b[0m invalid syntax\n"
     ]
    }
   ],
   "source": [
    "Question 14:\n",
    "Create a Python class called BankAccount with attributes account_number and balance.\n",
    "Implement methods to deposit, withdraw, and transfer money between two accounts.\n",
    "\n",
    "class BankAccount:\n",
    "    def __init__(self, account_number, balance):\n",
    "        self.account_number = account_number\n",
    "        self.balance = balance\n",
    "\n",
    "    def deposit(self, amount):\n",
    "        if amount > 0:\n",
    "            self.balance += amount\n",
    "            return f\"Deposited ${amount}. New balance: ${self.balance}\"\n",
    "        else:\n",
    "            return \"Invalid deposit amount.\"\n",
    "\n",
    "    def withdraw(self, amount):\n",
    "        if amount > 0 and amount <= self.balance:\n",
    "            self.balance -= amount\n",
    "            return f\"Withdrew ${amount}. New balance: ${self.balance}\"\n",
    "        else:\n",
    "            return \"Invalid withdrawal amount or insufficient balance.\"\n",
    "\n",
    "    def transfer(self, other_account, amount):\n",
    "        if amount > 0 and amount <= self.balance:\n",
    "            self.balance -= amount\n",
    "            other_account.balance += amount\n",
    "            return f\"Transferred ${amount} to Account {other_account.account_number}. Your balance: ${self.balance}\"\n",
    "        else:\n",
    "            return \"Invalid transfer amount or insufficient balance.\"\n",
    "\n",
    "# Usage\n",
    "account1 = BankAccount(\"123456\", 1000)\n",
    "account2 = BankAccount(\"789012\", 1500)\n",
    "\n",
    "print(account1.deposit(500))\n",
    "print(account1.withdraw(200))\n",
    "\n",
    "print(account1.transfer(account2, 300))\n",
    "\n",
    "print(\"Account 1 Balance:\", account1.balance)\n",
    "print(\"Account 2 Balance:\", account2.balance)\n"
   ]
  },
  {
   "cell_type": "code",
   "execution_count": null,
   "id": "3458c52a",
   "metadata": {},
   "outputs": [],
   "source": []
  },
  {
   "cell_type": "code",
   "execution_count": 45,
   "id": "5cae82bc",
   "metadata": {},
   "outputs": [
    {
     "ename": "SyntaxError",
     "evalue": "invalid syntax (<ipython-input-45-35a2ad55f760>, line 1)",
     "output_type": "error",
     "traceback": [
      "\u001b[1;36m  File \u001b[1;32m\"<ipython-input-45-35a2ad55f760>\"\u001b[1;36m, line \u001b[1;32m1\u001b[0m\n\u001b[1;33m    Question 15:\u001b[0m\n\u001b[1;37m             ^\u001b[0m\n\u001b[1;31mSyntaxError\u001b[0m\u001b[1;31m:\u001b[0m invalid syntax\n"
     ]
    }
   ],
   "source": [
    "Question 15:\n",
    "Create a Python class called Shape with attributes name and color.\n",
    "Implement a method to calculate and return the area of the shape (specifically for rectangles and circles).\n",
    "\n",
    "class Shape:\n",
    "    def __init__(self, name, color):\n",
    "        self.name = name\n",
    "        self.color = color\n",
    "\n",
    "    def area(self):\n",
    "        pass\n",
    "\n",
    "class Circle(Shape):\n",
    "    def __init__(self, name, color, radius):\n",
    "        super().__init__(name, color)\n",
    "        self.radius = radius\n",
    "\n",
    "    def area(self):\n",
    "        return 3.14 * self.radius * self.radius\n",
    "\n",
    "class Rectangle(Shape):\n",
    "    def __init__(self, name, color, length, width):\n",
    "        super().__init__(name, color)\n",
    "        self.length = length\n",
    "        self.width = width\n",
    "\n",
    "    def area(self):\n",
    "        return self.length * self.width\n",
    "\n",
    "# Usage\n",
    "circle = Circle(\"Circle\", \"Red\", 5)\n",
    "rectangle = Rectangle(\"Rectangle\", \"Blue\", 4, 6)\n",
    "\n",
    "print(\"Circle Area:\", circle.area())\n",
    "print(\"Rectangle Area:\", rectangle.area())\n"
   ]
  },
  {
   "cell_type": "code",
   "execution_count": null,
   "id": "668697da",
   "metadata": {},
   "outputs": [],
   "source": []
  },
  {
   "cell_type": "code",
   "execution_count": 46,
   "id": "5e525887",
   "metadata": {},
   "outputs": [
    {
     "ename": "SyntaxError",
     "evalue": "invalid syntax (<ipython-input-46-742ea166b524>, line 1)",
     "output_type": "error",
     "traceback": [
      "\u001b[1;36m  File \u001b[1;32m\"<ipython-input-46-742ea166b524>\"\u001b[1;36m, line \u001b[1;32m1\u001b[0m\n\u001b[1;33m    Question 16:\u001b[0m\n\u001b[1;37m             ^\u001b[0m\n\u001b[1;31mSyntaxError\u001b[0m\u001b[1;31m:\u001b[0m invalid syntax\n"
     ]
    }
   ],
   "source": [
    "Question 16:\n",
    "Create a Python class called Movie with attributes title, genre, and rating.\n",
    "Implement a method to display the movie's details and another method to check if \n",
    "the movie is suitable for children (rated G or PG).\n",
    "\n",
    "class Movie:\n",
    "    def __init__(self, title, genre, rating):\n",
    "        self.title = title\n",
    "        self.genre = genre\n",
    "        self.rating = rating\n",
    "\n",
    "    def display_details(self):\n",
    "        print(f\"Title: {self.title}\")\n",
    "        print(f\"Genre: {self.genre}\")\n",
    "        print(f\"Rating: {self.rating}\")\n",
    "\n",
    "    def suitable_for_children(self):\n",
    "        return self.rating in [\"G\", \"PG\"]\n",
    "\n",
    "# Usage\n",
    "movie1 = Movie(\"The Lion King\", \"Animation\", \"G\")\n",
    "movie2 = Movie(\"Jurassic Park\", \"Science Fiction\", \"PG-13\")\n",
    "\n",
    "movie1.display_details()\n",
    "print(\"Suitable for Children:\", movie1.suitable_for_children())\n",
    "\n",
    "movie2.display_details()\n",
    "print(\"Suitable for Children:\", movie2.suitable_for_children())\n"
   ]
  },
  {
   "cell_type": "code",
   "execution_count": null,
   "id": "9ebd2b8b",
   "metadata": {},
   "outputs": [],
   "source": []
  },
  {
   "cell_type": "code",
   "execution_count": 47,
   "id": "fe3ea8fb",
   "metadata": {},
   "outputs": [
    {
     "ename": "SyntaxError",
     "evalue": "invalid syntax (<ipython-input-47-af8c15b49e82>, line 1)",
     "output_type": "error",
     "traceback": [
      "\u001b[1;36m  File \u001b[1;32m\"<ipython-input-47-af8c15b49e82>\"\u001b[1;36m, line \u001b[1;32m1\u001b[0m\n\u001b[1;33m    Question 17:\u001b[0m\n\u001b[1;37m             ^\u001b[0m\n\u001b[1;31mSyntaxError\u001b[0m\u001b[1;31m:\u001b[0m invalid syntax\n"
     ]
    }
   ],
   "source": [
    "Question 17:\n",
    "Create a Python class called Bank that manages multiple BankAccount objects.\n",
    "Implement methods to calculate the total interest earned on all accounts and to find\n",
    "the account with the highest balance.\n",
    "\n",
    "class Bank:\n",
    "    def __init__(self):\n",
    "        self.accounts = []\n",
    "\n",
    "    def add_account(self, account):\n",
    "        self.accounts.append(account)\n",
    "\n",
    "    def total_interest_earned(self):\n",
    "        total_interest = 0\n",
    "        for account in self.accounts:\n",
    "            total_interest += account.calculate_interest()\n",
    "        return total_interest\n",
    "\n",
    "    def find_highest_balance_account(self):\n",
    "        if not self.accounts:\n",
    "            return None\n",
    "        return max(self.accounts, key=lambda account: account.balance)\n",
    "\n",
    "class BankAccount:\n",
    "    def __init__(self, account_number, balance, interest_rate):\n",
    "        self.account_number = account_number\n",
    "        self.balance = balance\n",
    "        self.interest_rate = interest_rate\n",
    "\n",
    "    def calculate_interest(self):\n",
    "        return (self.balance * self.interest_rate) / 100\n",
    "\n",
    "# Usage\n",
    "account1 = BankAccount(\"123456\", 1000, 5)\n",
    "account2 = BankAccount(\"789012\", 1500, 4)\n",
    "account3 = BankAccount(\"345678\", 2000, 6)\n",
    "\n",
    "bank = Bank()\n",
    "bank.add_account(account1)\n",
    "bank.add_account(account2)\n",
    "bank.add_account(account3)\n",
    "\n",
    "print(\"Total Interest Earned:\", bank.total_interest_earned())\n",
    "\n",
    "highest_balance_account = bank.find_highest_balance_account()\n",
    "if highest_balance_account:\n",
    "    print(f\"Highest Balance Account: {highest_balance_account.account_number} with ${highest_balance_account.balance}\")\n",
    "else:\n",
    "    print(\"No accounts found.\")\n"
   ]
  },
  {
   "cell_type": "code",
   "execution_count": null,
   "id": "90576227",
   "metadata": {},
   "outputs": [],
   "source": []
  },
  {
   "cell_type": "code",
   "execution_count": 48,
   "id": "f5d1bdb1",
   "metadata": {},
   "outputs": [
    {
     "ename": "SyntaxError",
     "evalue": "invalid syntax (<ipython-input-48-63b5d47fc22c>, line 1)",
     "output_type": "error",
     "traceback": [
      "\u001b[1;36m  File \u001b[1;32m\"<ipython-input-48-63b5d47fc22c>\"\u001b[1;36m, line \u001b[1;32m1\u001b[0m\n\u001b[1;33m    Question 18:\u001b[0m\n\u001b[1;37m             ^\u001b[0m\n\u001b[1;31mSyntaxError\u001b[0m\u001b[1;31m:\u001b[0m invalid syntax\n"
     ]
    }
   ],
   "source": [
    "Question 18:\n",
    "Create a Python class called Inventory to manage a list of products. \n",
    "Implement methods to add products, remove products, display the list of products,\n",
    "and calculate the total value of the inventory.\n",
    "\n",
    "class Product:\n",
    "    def __init__(self, name, price, quantity):\n",
    "        self.name = name\n",
    "        self.price = price\n",
    "        self.quantity = quantity\n",
    "\n",
    "    def calculate_value(self):\n",
    "        return self.price * self.quantity\n",
    "\n",
    "class Inventory:\n",
    "    def __init__(self):\n",
    "        self.products = []\n",
    "\n",
    "    def add_product(self, product):\n",
    "        self.products.append(product)\n",
    "\n",
    "    def remove_product(self, product_name):\n",
    "        for product in self.products:\n",
    "            if product.name == product_name:\n",
    "                self.products.remove(product)\n",
    "                break\n",
    "\n",
    "    def display_products(self):\n",
    "        print(\"Inventory Products:\")\n",
    "        for product in self.products:\n",
    "            print(f\"{product.name} - Price: ${product.price}, Quantity: {product.quantity}\")\n",
    "\n",
    "    def total_inventory_value(self):\n",
    "        total_value = 0\n",
    "        for product in self.products:\n",
    "            total_value += product.calculate_value()\n",
    "        return total_value\n",
    "\n",
    "# Usage\n",
    "product1 = Product(\"Laptop\", 800, 5)\n",
    "product2 = Product(\"Phone\", 500, 10)\n",
    "product3 = Product(\"Tablet\", 300, 8)\n",
    "\n",
    "inventory = Inventory()\n",
    "inventory.add_product(product1)\n",
    "inventory.add_product(product2)\n",
    "inventory.add_product(product3)\n",
    "\n",
    "inventory.display_products()\n",
    "print(\"Total Inventory Value: $\", inventory.total_inventory_value())\n"
   ]
  },
  {
   "cell_type": "code",
   "execution_count": null,
   "id": "6e170562",
   "metadata": {},
   "outputs": [],
   "source": []
  },
  {
   "cell_type": "code",
   "execution_count": 49,
   "id": "d9dd1f3e",
   "metadata": {},
   "outputs": [
    {
     "ename": "SyntaxError",
     "evalue": "invalid syntax (<ipython-input-49-2883a3d79f5f>, line 1)",
     "output_type": "error",
     "traceback": [
      "\u001b[1;36m  File \u001b[1;32m\"<ipython-input-49-2883a3d79f5f>\"\u001b[1;36m, line \u001b[1;32m1\u001b[0m\n\u001b[1;33m    Question 19:\u001b[0m\n\u001b[1;37m             ^\u001b[0m\n\u001b[1;31mSyntaxError\u001b[0m\u001b[1;31m:\u001b[0m invalid syntax\n"
     ]
    }
   ],
   "source": [
    "Question 19:\n",
    "Create a Python class called Library that manages a collection of books, \n",
    "including their availability. Implement methods to borrow a book, return a book,\n",
    "and display the list of available books.\n",
    "\n",
    "class Book:\n",
    "    def __init__(self, title, author):\n",
    "        self.title = title\n",
    "        self.author = author\n",
    "        self.available = True\n",
    "\n",
    "class Library:\n",
    "    def __init__(self):\n",
    "        self.books = []\n",
    "\n",
    "    def add_book(self, book):\n",
    "        self.books.append(book)\n",
    "\n",
    "    def borrow_book(self, title):\n",
    "        for book in self.books:\n",
    "            if book.title == title and book.available:\n",
    "                book.available = False\n",
    "                return f\"Borrowed '{title}'.\"\n",
    "        return f\"'{title}' is not available for borrowing.\"\n",
    "\n",
    "    def return_book(self, title):\n",
    "        for book in self.books:\n",
    "            if book.title == title and not book.available:\n",
    "                book.available = True\n",
    "                return f\"Returned '{title}'.\"\n",
    "        return f\"'{title}' was not borrowed from this library.\"\n",
    "\n",
    "    def display_available_books(self):\n",
    "        print(\"Available Books:\")\n",
    "        for book in self.books:\n",
    "            if book.available:\n",
    "                print(f\"{book.title} by {book.author}\")\n",
    "\n",
    "# Usage\n",
    "book1 = Book(\"The Catcher in the Rye\", \"J.D. Salinger\")\n",
    "book2 = Book(\"To Kill a Mockingbird\", \"Harper Lee\")\n",
    "\n",
    "library = Library()\n",
    "library.add_book(book1)\n",
    "library.add_book(book2)\n",
    "\n",
    "print(library.borrow_book(\"The Catcher in the Rye\"))\n",
    "print(library.borrow_book(\"The Great Gatsby\"))\n",
    "\n",
    "print(library.return_book(\"To Kill a Mockingbird\"))\n",
    "print(library.return_book(\"The Great Gatsby\"))\n",
    "\n",
    "library.display_available_books()\n"
   ]
  },
  {
   "cell_type": "code",
   "execution_count": null,
   "id": "2f08eb24",
   "metadata": {},
   "outputs": [],
   "source": []
  },
  {
   "cell_type": "code",
   "execution_count": 50,
   "id": "4dcd84fb",
   "metadata": {},
   "outputs": [
    {
     "ename": "SyntaxError",
     "evalue": "invalid syntax (<ipython-input-50-6cccbfc70d5e>, line 1)",
     "output_type": "error",
     "traceback": [
      "\u001b[1;36m  File \u001b[1;32m\"<ipython-input-50-6cccbfc70d5e>\"\u001b[1;36m, line \u001b[1;32m1\u001b[0m\n\u001b[1;33m    Question 20:\u001b[0m\n\u001b[1;37m             ^\u001b[0m\n\u001b[1;31mSyntaxError\u001b[0m\u001b[1;31m:\u001b[0m invalid syntax\n"
     ]
    }
   ],
   "source": [
    "Question 20:\n",
    "Create a Python class called Shape with attributes name and color.\n",
    "Implement a method to calculate and return the perimeter of various shapes (rectangles, circles, and triangles). \n",
    "Allow for flexibility in the number of arguments required for perimeter calculation.\n",
    "\n",
    "class Shape:\n",
    "    def __init__(self, name, color):\n",
    "        self.name = name\n",
    "        self.color = color\n",
    "\n",
    "    def perimeter(self, *args):\n",
    "        if self.name == \"Rectangle\" and len(args) == 2:\n",
    "            return 2 * (args[0] + args[1])\n",
    "        elif self.name == \"Circle\" and len(args) == 1:\n",
    "            return 2 * 3.14 * args[0]\n",
    "        elif self.name == \"Triangle\" and len(args) == 3:\n",
    "            return sum(args)\n",
    "        else:\n",
    "            return \"Invalid number of arguments for perimeter calculation.\"\n",
    "\n",
    "# Usage\n",
    "rectangle = Shape(\"Rectangle\", \"Blue\")\n",
    "circle = Shape(\"Circle\", \"Red\")\n",
    "triangle = Shape(\"Triangle\", \"Green\")\n",
    "\n",
    "print(\"Rectangle Perimeter:\", rectangle.perimeter(4, 6))\n",
    "print(\"Circle Perimeter:\", circle.perimeter(5))\n",
    "print(\"Triangle Perimeter:\", triangle.perimeter(3, 4, 5))\n"
   ]
  },
  {
   "cell_type": "code",
   "execution_count": 51,
   "id": "51e1c49b",
   "metadata": {},
   "outputs": [
    {
     "ename": "SyntaxError",
     "evalue": "invalid syntax (<ipython-input-51-fac565735705>, line 1)",
     "output_type": "error",
     "traceback": [
      "\u001b[1;36m  File \u001b[1;32m\"<ipython-input-51-fac565735705>\"\u001b[1;36m, line \u001b[1;32m1\u001b[0m\n\u001b[1;33m    Question 21:\u001b[0m\n\u001b[1;37m             ^\u001b[0m\n\u001b[1;31mSyntaxError\u001b[0m\u001b[1;31m:\u001b[0m invalid syntax\n"
     ]
    }
   ],
   "source": [
    "Question 21:\n",
    "Create a Python class called Employee with attributes name and salary. \n",
    "Implement methods to calculate and apply annual salary raises based on performance ratings (Excellent, Good, Average).\n",
    "\n",
    "class Employee:\n",
    "    def __init__(self, name, salary):\n",
    "        self.name = name\n",
    "        self.salary = salary\n",
    "\n",
    "    def apply_raise(self, performance_rating):\n",
    "        if performance_rating == \"Excellent\":\n",
    "            self.salary += 0.1 * self.salary\n",
    "        elif performance_rating == \"Good\":\n",
    "            self.salary += 0.07 * self.salary\n",
    "        elif performance_rating == \"Average\":\n",
    "            self.salary += 0.05 * self.salary\n",
    "        else:\n",
    "            return \"Invalid performance rating.\"\n",
    "\n",
    "# Usage\n",
    "employee1 = Employee(\"Alice\", 50000)\n",
    "employee2 = Employee(\"Bob\", 60000)\n",
    "\n",
    "employee1.apply_raise(\"Excellent\")\n",
    "employee2.apply_raise(\"Good\")\n",
    "\n",
    "print(\"Employee 1 Salary:\", employee1.salary)\n",
    "print(\"Employee 2 Salary:\", employee2.salary)\n"
   ]
  },
  {
   "cell_type": "code",
   "execution_count": null,
   "id": "7e3b4fe1",
   "metadata": {},
   "outputs": [],
   "source": []
  },
  {
   "cell_type": "code",
   "execution_count": 52,
   "id": "2a818032",
   "metadata": {},
   "outputs": [
    {
     "ename": "SyntaxError",
     "evalue": "invalid syntax (<ipython-input-52-2a43b5b64222>, line 1)",
     "output_type": "error",
     "traceback": [
      "\u001b[1;36m  File \u001b[1;32m\"<ipython-input-52-2a43b5b64222>\"\u001b[1;36m, line \u001b[1;32m1\u001b[0m\n\u001b[1;33m    Question 22:\u001b[0m\n\u001b[1;37m             ^\u001b[0m\n\u001b[1;31mSyntaxError\u001b[0m\u001b[1;31m:\u001b[0m invalid syntax\n"
     ]
    }
   ],
   "source": [
    "Question 22:\n",
    "Create a Python class called Bank that manages accounts with different types (SavingsAccount and CheckingAccount).\n",
    "Implement methods to calculate and display the total interest earned by all \n",
    "accounts and to find the account with the highest balance.\n",
    "\n",
    "class Bank:\n",
    "    def __init__(self):\n",
    "        self.accounts = []\n",
    "\n",
    "    def add_account(self, account):\n",
    "        self.accounts.append(account)\n",
    "\n",
    "    def total_interest_earned(self):\n",
    "        total_interest = 0\n",
    "        for account in self.accounts:\n",
    "            total_interest += account.calculate_interest()\n",
    "        return total_interest\n",
    "\n",
    "    def find_highest_balance_account(self):\n",
    "        if not self.accounts:\n",
    "            return None\n",
    "        return max(self.accounts, key=lambda account: account.balance)\n",
    "\n",
    "class Account:\n",
    "    def __init__(self, account_number, balance, interest_rate):\n",
    "        self.account_number = account_number\n",
    "        self.balance = balance\n",
    "        self.interest_rate = interest_rate\n",
    "\n",
    "    def calculate_interest(self):\n",
    "        return (self.balance * self.interest_rate) / 100\n",
    "\n",
    "class SavingsAccount(Account):\n",
    "    pass\n",
    "\n",
    "class CheckingAccount(Account):\n",
    "    pass\n",
    "\n",
    "# Usage\n",
    "savings_account = SavingsAccount(\"123456\", 10000, 3.5)\n",
    "checking_account = CheckingAccount(\"789012\", 5000, 2.0)\n",
    "\n",
    "bank = Bank()\n",
    "bank.add_account(savings_account)\n",
    "bank.add_account(checking_account)\n",
    "\n",
    "print(\"Total Interest Earned:\", bank.total_interest_earned())\n",
    "\n",
    "highest_balance_account = bank.find_highest_balance_account()\n",
    "if highest_balance_account:\n",
    "    print(f\"Highest Balance Account: {highest_balance_account.account_number} with ${highest_balance_account.balance}\")\n",
    "else:\n",
    "    print(\"No accounts found.\")\n"
   ]
  },
  {
   "cell_type": "code",
   "execution_count": null,
   "id": "ff6f8fcd",
   "metadata": {},
   "outputs": [],
   "source": []
  },
  {
   "cell_type": "code",
   "execution_count": 53,
   "id": "410c80a4",
   "metadata": {},
   "outputs": [],
   "source": [
    "# File Handling"
   ]
  },
  {
   "cell_type": "code",
   "execution_count": 54,
   "id": "57249757",
   "metadata": {},
   "outputs": [
    {
     "ename": "SyntaxError",
     "evalue": "invalid syntax (<ipython-input-54-bda719e83e3f>, line 1)",
     "output_type": "error",
     "traceback": [
      "\u001b[1;36m  File \u001b[1;32m\"<ipython-input-54-bda719e83e3f>\"\u001b[1;36m, line \u001b[1;32m1\u001b[0m\n\u001b[1;33m    Question 1:\u001b[0m\n\u001b[1;37m             ^\u001b[0m\n\u001b[1;31mSyntaxError\u001b[0m\u001b[1;31m:\u001b[0m invalid syntax\n"
     ]
    }
   ],
   "source": [
    "Question 1:\n",
    "Write a Python program to create a new text file called \"my_file.txt\" and write the following content to it:\n",
    "    \n",
    "Hello, World!\n",
    "This is a test file.\n",
    "\n",
    "\n",
    "# Open the file in write mode and write the content\n",
    "with open(\"my_file.txt\", \"w\") as file:\n",
    "    file.write(\"Hello, World!\\n\")\n",
    "    file.write(\"This is a test file.\\n\")\n"
   ]
  },
  {
   "cell_type": "code",
   "execution_count": null,
   "id": "980d95e5",
   "metadata": {},
   "outputs": [],
   "source": []
  },
  {
   "cell_type": "code",
   "execution_count": 55,
   "id": "ec0c2d48",
   "metadata": {},
   "outputs": [
    {
     "ename": "SyntaxError",
     "evalue": "invalid syntax (<ipython-input-55-b7be3ed59bf3>, line 1)",
     "output_type": "error",
     "traceback": [
      "\u001b[1;36m  File \u001b[1;32m\"<ipython-input-55-b7be3ed59bf3>\"\u001b[1;36m, line \u001b[1;32m1\u001b[0m\n\u001b[1;33m    Question 2:\u001b[0m\n\u001b[1;37m             ^\u001b[0m\n\u001b[1;31mSyntaxError\u001b[0m\u001b[1;31m:\u001b[0m invalid syntax\n"
     ]
    }
   ],
   "source": [
    "Question 2:\n",
    "Write a Python program to read and display the contents of the \"my_file.txt\" file created in Question 1.\n",
    "\n",
    "# Open the file in read mode and display its contents\n",
    "with open(\"my_file.txt\", \"r\") as file:\n",
    "    content = file.read()\n",
    "    print(content)\n"
   ]
  },
  {
   "cell_type": "code",
   "execution_count": null,
   "id": "3825398f",
   "metadata": {},
   "outputs": [],
   "source": []
  },
  {
   "cell_type": "code",
   "execution_count": 56,
   "id": "2c23a3f9",
   "metadata": {},
   "outputs": [
    {
     "ename": "SyntaxError",
     "evalue": "invalid syntax (<ipython-input-56-39644f6b5e11>, line 1)",
     "output_type": "error",
     "traceback": [
      "\u001b[1;36m  File \u001b[1;32m\"<ipython-input-56-39644f6b5e11>\"\u001b[1;36m, line \u001b[1;32m1\u001b[0m\n\u001b[1;33m    Question 3:\u001b[0m\n\u001b[1;37m             ^\u001b[0m\n\u001b[1;31mSyntaxError\u001b[0m\u001b[1;31m:\u001b[0m invalid syntax\n"
     ]
    }
   ],
   "source": [
    "Question 3:\n",
    "Write a Python program to append the following text to the \"my_file.txt\" file created in Question 1:\n",
    "    \n",
    "Appending this text to the file.\n",
    "\n",
    "\n",
    "# Open the file in append mode and add the text\n",
    "with open(\"my_file.txt\", \"a\") as file:\n",
    "    file.write(\"Appending this text to the file.\\n\")\n"
   ]
  },
  {
   "cell_type": "code",
   "execution_count": null,
   "id": "75c55e71",
   "metadata": {},
   "outputs": [],
   "source": []
  },
  {
   "cell_type": "code",
   "execution_count": 57,
   "id": "aa55883e",
   "metadata": {},
   "outputs": [
    {
     "ename": "SyntaxError",
     "evalue": "invalid syntax (<ipython-input-57-88de4aaf23bd>, line 1)",
     "output_type": "error",
     "traceback": [
      "\u001b[1;36m  File \u001b[1;32m\"<ipython-input-57-88de4aaf23bd>\"\u001b[1;36m, line \u001b[1;32m1\u001b[0m\n\u001b[1;33m    Question 4:\u001b[0m\n\u001b[1;37m             ^\u001b[0m\n\u001b[1;31mSyntaxError\u001b[0m\u001b[1;31m:\u001b[0m invalid syntax\n"
     ]
    }
   ],
   "source": [
    "Question 4:\n",
    "Write a Python program to read and display the contents of the \"my_file.txt\" file after appending in Question 3.\n",
    "\n",
    "# Open the file in read mode and display its contents\n",
    "with open(\"my_file.txt\", \"r\") as file:\n",
    "    content = file.read()\n",
    "    print(content)\n"
   ]
  },
  {
   "cell_type": "code",
   "execution_count": null,
   "id": "b6d23f2d",
   "metadata": {},
   "outputs": [],
   "source": []
  },
  {
   "cell_type": "code",
   "execution_count": 58,
   "id": "487fbab8",
   "metadata": {},
   "outputs": [
    {
     "ename": "SyntaxError",
     "evalue": "invalid syntax (<ipython-input-58-6a033df01ce2>, line 1)",
     "output_type": "error",
     "traceback": [
      "\u001b[1;36m  File \u001b[1;32m\"<ipython-input-58-6a033df01ce2>\"\u001b[1;36m, line \u001b[1;32m1\u001b[0m\n\u001b[1;33m    Question 5:\u001b[0m\n\u001b[1;37m             ^\u001b[0m\n\u001b[1;31mSyntaxError\u001b[0m\u001b[1;31m:\u001b[0m invalid syntax\n"
     ]
    }
   ],
   "source": [
    "Question 5:\n",
    "Write a Python program to count the number of lines in the \"my_file.txt\" file.\n",
    "\n",
    "# Open the file in read mode and count the lines\n",
    "with open(\"my_file.txt\", \"r\") as file:\n",
    "    line_count = sum(1 for line in file)\n",
    "    print(f\"Number of lines in the file: {line_count}\")\n"
   ]
  },
  {
   "cell_type": "code",
   "execution_count": null,
   "id": "b3e3443f",
   "metadata": {},
   "outputs": [],
   "source": []
  },
  {
   "cell_type": "code",
   "execution_count": 59,
   "id": "0337586d",
   "metadata": {},
   "outputs": [
    {
     "ename": "SyntaxError",
     "evalue": "invalid syntax (<ipython-input-59-edbf6e64021d>, line 1)",
     "output_type": "error",
     "traceback": [
      "\u001b[1;36m  File \u001b[1;32m\"<ipython-input-59-edbf6e64021d>\"\u001b[1;36m, line \u001b[1;32m1\u001b[0m\n\u001b[1;33m    Question 6:\u001b[0m\n\u001b[1;37m             ^\u001b[0m\n\u001b[1;31mSyntaxError\u001b[0m\u001b[1;31m:\u001b[0m invalid syntax\n"
     ]
    }
   ],
   "source": [
    "Question 6:\n",
    "Write a Python program to search for a specific word (e.g., \"test\") in the \"my_file.txt\" file and\n",
    "display the line numbers where it appears.\n",
    "\n",
    "# Open the file in read mode and search for the word\n",
    "word_to_search = \"test\"\n",
    "with open(\"my_file.txt\", \"r\") as file:\n",
    "    lines = file.readlines()\n",
    "    for line_number, line in enumerate(lines, start=1):\n",
    "        if word_to_search in line:\n",
    "            print(f\"Found '{word_to_search}' on line {line_number}: {line.strip()}\")\n"
   ]
  },
  {
   "cell_type": "code",
   "execution_count": null,
   "id": "482a2923",
   "metadata": {},
   "outputs": [],
   "source": []
  },
  {
   "cell_type": "code",
   "execution_count": 60,
   "id": "a8895d91",
   "metadata": {},
   "outputs": [
    {
     "ename": "SyntaxError",
     "evalue": "invalid syntax (<ipython-input-60-46e8790962e4>, line 1)",
     "output_type": "error",
     "traceback": [
      "\u001b[1;36m  File \u001b[1;32m\"<ipython-input-60-46e8790962e4>\"\u001b[1;36m, line \u001b[1;32m1\u001b[0m\n\u001b[1;33m    Question 7:\u001b[0m\n\u001b[1;37m             ^\u001b[0m\n\u001b[1;31mSyntaxError\u001b[0m\u001b[1;31m:\u001b[0m invalid syntax\n"
     ]
    }
   ],
   "source": [
    "Question 7:\n",
    "Write a Python program to create a new text file called \"numbers.txt\" and write numbers from 1 to 10 on separate lines.\n",
    "\n",
    "# Open the file in write mode and write numbers from 1 to 10\n",
    "with open(\"numbers.txt\", \"w\") as file:\n",
    "    for number in range(1, 11):\n",
    "        file.write(f\"{number}\\n\")\n"
   ]
  },
  {
   "cell_type": "code",
   "execution_count": null,
   "id": "1ac3b131",
   "metadata": {},
   "outputs": [],
   "source": []
  },
  {
   "cell_type": "code",
   "execution_count": 61,
   "id": "14bdb7ff",
   "metadata": {},
   "outputs": [
    {
     "ename": "SyntaxError",
     "evalue": "invalid syntax (<ipython-input-61-799b2f7a2955>, line 1)",
     "output_type": "error",
     "traceback": [
      "\u001b[1;36m  File \u001b[1;32m\"<ipython-input-61-799b2f7a2955>\"\u001b[1;36m, line \u001b[1;32m1\u001b[0m\n\u001b[1;33m    Question 8:\u001b[0m\n\u001b[1;37m             ^\u001b[0m\n\u001b[1;31mSyntaxError\u001b[0m\u001b[1;31m:\u001b[0m invalid syntax\n"
     ]
    }
   ],
   "source": [
    "Question 8:\n",
    "Write a Python program to read and display the contents of the \"numbers.txt\" file created in Question 7, \n",
    "calculating the sum of the numbers.\n",
    "\n",
    "# Open the file in read mode, display its contents, and calculate the sum\n",
    "with open(\"numbers.txt\", \"r\") as file:\n",
    "    content = file.read()\n",
    "    numbers = [int(line.strip()) for line in content.split('\\n') if line.strip()]\n",
    "    print(\"Numbers in the file:\")\n",
    "    for number in numbers:\n",
    "        print(number)\n",
    "    print(\"Sum of the numbers:\", sum(numbers))\n"
   ]
  },
  {
   "cell_type": "code",
   "execution_count": null,
   "id": "7184db3e",
   "metadata": {},
   "outputs": [],
   "source": []
  },
  {
   "cell_type": "code",
   "execution_count": 62,
   "id": "a2def21a",
   "metadata": {},
   "outputs": [
    {
     "ename": "SyntaxError",
     "evalue": "invalid syntax (<ipython-input-62-c20d511baf16>, line 1)",
     "output_type": "error",
     "traceback": [
      "\u001b[1;36m  File \u001b[1;32m\"<ipython-input-62-c20d511baf16>\"\u001b[1;36m, line \u001b[1;32m1\u001b[0m\n\u001b[1;33m    Question 9:\u001b[0m\n\u001b[1;37m             ^\u001b[0m\n\u001b[1;31mSyntaxError\u001b[0m\u001b[1;31m:\u001b[0m invalid syntax\n"
     ]
    }
   ],
   "source": [
    "Question 9:\n",
    "Write a Python program to copy the contents of one text file, \"source.txt,\" to another text file, \"destination.txt.\"\n",
    "\n",
    "# Open the source and destination files and copy the contents\n",
    "with open(\"source.txt\", \"r\") as source_file, open(\"destination.txt\", \"w\") as destination_file:\n",
    "    content = source_file.read()\n",
    "    destination_file.write(content)\n"
   ]
  },
  {
   "cell_type": "code",
   "execution_count": null,
   "id": "590cbc53",
   "metadata": {},
   "outputs": [],
   "source": []
  },
  {
   "cell_type": "code",
   "execution_count": 63,
   "id": "fdb623b7",
   "metadata": {},
   "outputs": [
    {
     "ename": "SyntaxError",
     "evalue": "invalid syntax (<ipython-input-63-4a657fa915b1>, line 1)",
     "output_type": "error",
     "traceback": [
      "\u001b[1;36m  File \u001b[1;32m\"<ipython-input-63-4a657fa915b1>\"\u001b[1;36m, line \u001b[1;32m1\u001b[0m\n\u001b[1;33m    Question 10:\u001b[0m\n\u001b[1;37m             ^\u001b[0m\n\u001b[1;31mSyntaxError\u001b[0m\u001b[1;31m:\u001b[0m invalid syntax\n"
     ]
    }
   ],
   "source": [
    "Question 10:\n",
    "Write a Python program to read a CSV file called \"data.csv\" containing the following data and\n",
    "display it in a tabular format:\n",
    "    \n",
    "Name, Age, City\n",
    "Alice, 25, New York\n",
    "Bob, 30, Los Angeles\n",
    "Charlie, 22, Chicago\n",
    "\n",
    "\n",
    "import csv\n",
    "\n",
    "# Read and display the CSV data\n",
    "with open(\"data.csv\", \"r\") as csv_file:\n",
    "    csv_reader = csv.DictReader(csv_file)\n",
    "    print(\"{:<10} {:<5} {:<15}\".format(\"Name\", \"Age\", \"City\"))\n",
    "    for row in csv_reader:\n",
    "        print(\"{:<10} {:<5} {:<15}\".format(row[\"Name\"], row[\"Age\"], row[\"City\"]))\n"
   ]
  },
  {
   "cell_type": "code",
   "execution_count": null,
   "id": "4d6bc276",
   "metadata": {},
   "outputs": [],
   "source": []
  },
  {
   "cell_type": "code",
   "execution_count": null,
   "id": "84f7d7fe",
   "metadata": {},
   "outputs": [],
   "source": [
    "Question 11:\n",
    "Write a Python program to write data to a CSV file called \"output.csv\" containing the following data:\n",
    "\n",
    "\n",
    "Name, Age, City\n",
    "David, 28, Boston\n",
    "Eva, 35, San Francisco\n",
    "\n",
    "\n",
    "import csv\n",
    "\n",
    "# Write data to the CSV file\n",
    "data = [\n",
    "    {\"Name\": \"David\", \"Age\": 28, \"City\": \"Boston\"},\n",
    "    {\"Name\": \"Eva\", \"Age\": 35, \"City\": \"San Francisco\"}\n",
    "]\n",
    "\n",
    "with open(\"output.csv\", \"w\", newline='') as csv_file:\n",
    "    fieldnames = [\"Name\", \"Age\", \"City\"]\n",
    "    csv_writer = csv.DictWriter(csv_file, fieldnames=fieldnames)\n",
    "    csv_writer.writeheader()\n",
    "    csv_writer.writerows(data)\n"
   ]
  },
  {
   "cell_type": "code",
   "execution_count": null,
   "id": "858dac5c",
   "metadata": {},
   "outputs": [],
   "source": []
  },
  {
   "cell_type": "code",
   "execution_count": 64,
   "id": "5e7777d5",
   "metadata": {},
   "outputs": [
    {
     "ename": "SyntaxError",
     "evalue": "invalid syntax (<ipython-input-64-6743ee3f29cb>, line 1)",
     "output_type": "error",
     "traceback": [
      "\u001b[1;36m  File \u001b[1;32m\"<ipython-input-64-6743ee3f29cb>\"\u001b[1;36m, line \u001b[1;32m1\u001b[0m\n\u001b[1;33m    Question 12:\u001b[0m\n\u001b[1;37m             ^\u001b[0m\n\u001b[1;31mSyntaxError\u001b[0m\u001b[1;31m:\u001b[0m invalid syntax\n"
     ]
    }
   ],
   "source": [
    "Question 12:\n",
    "Write a Python program to read a JSON file called \"data.json\" containing the following data and display it:\n",
    "    \n",
    "{\n",
    "    \"name\": \"Alice\",\n",
    "    \"age\": 25,\n",
    "    \"city\": \"New York\"\n",
    "}\n",
    "\n",
    "\n",
    "import json\n",
    "\n",
    "# Read and display the JSON data\n",
    "with open(\"data.json\", \"r\") as json_file:\n",
    "    data = json.load(json_file)\n",
    "    print(\"Name:\", data[\"name\"])\n",
    "    print(\"Age:\", data[\"age\"])\n",
    "    print(\"City:\", data[\"city\"])\n"
   ]
  },
  {
   "cell_type": "code",
   "execution_count": null,
   "id": "a708294f",
   "metadata": {},
   "outputs": [],
   "source": []
  },
  {
   "cell_type": "code",
   "execution_count": null,
   "id": "ff395989",
   "metadata": {},
   "outputs": [],
   "source": [
    "Question 13:\n",
    "Write a Python program to write data to a JSON file called \"output.json\" containing the following data:\n",
    "    \n",
    "{\n",
    "    \"name\": \"Bob\",\n",
    "    \"age\": 30,\n",
    "    \"city\": \"Los Angeles\"\n",
    "}\n",
    "\n",
    "import json\n",
    "\n",
    "# Write data to the JSON file\n",
    "data = {\n",
    "    \"name\": \"Bob\",\n",
    "    \"age\": 30,\n",
    "    \"city\": \"Los Angeles\"\n",
    "}\n",
    "\n",
    "with open(\"output.json\", \"w\") as json_file:\n",
    "    json.dump(data, json_file)\n"
   ]
  },
  {
   "cell_type": "code",
   "execution_count": null,
   "id": "e46855d0",
   "metadata": {},
   "outputs": [],
   "source": []
  },
  {
   "cell_type": "code",
   "execution_count": 65,
   "id": "f77647da",
   "metadata": {},
   "outputs": [
    {
     "ename": "SyntaxError",
     "evalue": "invalid syntax (<ipython-input-65-7faf51ec8fe6>, line 1)",
     "output_type": "error",
     "traceback": [
      "\u001b[1;36m  File \u001b[1;32m\"<ipython-input-65-7faf51ec8fe6>\"\u001b[1;36m, line \u001b[1;32m1\u001b[0m\n\u001b[1;33m    Question 14:\u001b[0m\n\u001b[1;37m             ^\u001b[0m\n\u001b[1;31mSyntaxError\u001b[0m\u001b[1;31m:\u001b[0m invalid syntax\n"
     ]
    }
   ],
   "source": [
    "Question 14:\n",
    "Write a Python program to find and display all files in a given directory and its \n",
    "subdirectories with a .txt file extension.\n",
    "\n",
    "import os\n",
    "\n",
    "def find_txt_files(directory):\n",
    "    for root, _, files in os.walk(directory):\n",
    "        for file in files:\n",
    "            if file.endswith(\".txt\"):\n",
    "                print(os.path.join(root, file))\n",
    "\n",
    "# Usage\n",
    "find_txt_files(\"/path/to/your/directory\")\n"
   ]
  },
  {
   "cell_type": "code",
   "execution_count": null,
   "id": "a326f083",
   "metadata": {},
   "outputs": [],
   "source": []
  },
  {
   "cell_type": "code",
   "execution_count": 66,
   "id": "e25e1de2",
   "metadata": {},
   "outputs": [
    {
     "ename": "SyntaxError",
     "evalue": "invalid syntax (<ipython-input-66-baba198372e8>, line 1)",
     "output_type": "error",
     "traceback": [
      "\u001b[1;36m  File \u001b[1;32m\"<ipython-input-66-baba198372e8>\"\u001b[1;36m, line \u001b[1;32m1\u001b[0m\n\u001b[1;33m    Question 15:\u001b[0m\n\u001b[1;37m             ^\u001b[0m\n\u001b[1;31mSyntaxError\u001b[0m\u001b[1;31m:\u001b[0m invalid syntax\n"
     ]
    }
   ],
   "source": [
    "Question 15:\n",
    "Write a Python program to read a binary file called \"binary_data.bin\" and display its content in hexadecimal format.\n",
    "\n",
    "def display_binary_file_content(file_path):\n",
    "    with open(file_path, \"rb\") as binary_file:\n",
    "        data = binary_file.read()\n",
    "        hex_data = ' '.join(format(byte, '02x') for byte in data)\n",
    "        print(hex_data)\n",
    "\n",
    "# Usage\n",
    "display_binary_file_content(\"binary_data.bin\")\n"
   ]
  },
  {
   "cell_type": "code",
   "execution_count": null,
   "id": "e7b23652",
   "metadata": {},
   "outputs": [],
   "source": []
  },
  {
   "cell_type": "code",
   "execution_count": null,
   "id": "799a35dd",
   "metadata": {},
   "outputs": [],
   "source": [
    "Question 16:\n",
    "Write a Python program to search for a specific word in all .txt files within a given directory and\n",
    "its subdirectories. Display the file names and line numbers where the word is found.\n",
    "\n",
    "import os\n",
    "\n",
    "def search_word_in_files(directory, word_to_search):\n",
    "    for root, _, files in os.walk(directory):\n",
    "        for file in files:\n",
    "            if file.endswith(\".txt\"):\n",
    "                file_path = os.path.join(root, file)\n",
    "                with open(file_path, \"r\") as text_file:\n",
    "                    for line_number, line in enumerate(text_file, start=1):\n",
    "                        if word_to_search in line:\n",
    "                            print(f\"Found '{word_to_search}' in {file_path} (line {line_number}): {line.strip()}\")\n",
    "\n",
    "# Usage\n",
    "search_word_in_files(\"/path/to/your/directory\", \"search_word\")\n"
   ]
  },
  {
   "cell_type": "code",
   "execution_count": null,
   "id": "faaea623",
   "metadata": {},
   "outputs": [],
   "source": []
  },
  {
   "cell_type": "code",
   "execution_count": 67,
   "id": "bf2b2a26",
   "metadata": {},
   "outputs": [
    {
     "ename": "SyntaxError",
     "evalue": "invalid syntax (<ipython-input-67-967a343b369a>, line 1)",
     "output_type": "error",
     "traceback": [
      "\u001b[1;36m  File \u001b[1;32m\"<ipython-input-67-967a343b369a>\"\u001b[1;36m, line \u001b[1;32m1\u001b[0m\n\u001b[1;33m    Question 17:\u001b[0m\n\u001b[1;37m             ^\u001b[0m\n\u001b[1;31mSyntaxError\u001b[0m\u001b[1;31m:\u001b[0m invalid syntax\n"
     ]
    }
   ],
   "source": [
    "Question 17:\n",
    "Write a Python program to create a compressed archive (ZIP file) of all .txt files in a given directory\n",
    "and its subdirectories.\n",
    "\n",
    "import os\n",
    "import zipfile\n",
    "\n",
    "def create_zip_archive(directory):\n",
    "    with zipfile.ZipFile(\"archive.zip\", \"w\", zipfile.ZIP_DEFLATED) as archive:\n",
    "        for root, _, files in os.walk(directory):\n",
    "            for file in files:\n",
    "                if file.endswith(\".txt\"):\n",
    "                    file_path = os.path.join(root, file)\n",
    "                    archive.write(file_path, os.path.relpath(file_path, directory))\n",
    "\n",
    "# Usage\n",
    "create_zip_archive(\"/path/to/your/directory\")\n"
   ]
  },
  {
   "cell_type": "code",
   "execution_count": null,
   "id": "efaf6678",
   "metadata": {},
   "outputs": [],
   "source": []
  },
  {
   "cell_type": "code",
   "execution_count": null,
   "id": "ab7fafe1",
   "metadata": {},
   "outputs": [],
   "source": [
    "Question 18:\n",
    "Write a Python program to create a new text file called \"employees.txt\" and add the following employee records to it:\n",
    "    \n",
    "EmployeeID, Name, Department, Salary\n",
    "101, Alice, HR, 50000\n",
    "102, Bob, Engineering, 60000\n",
    "103, Charlie, Sales, 55000\n",
    "\n",
    "# Create a new text file and add employee records\n",
    "with open(\"employees.txt\", \"w\") as file:\n",
    "    file.write(\"EmployeeID, Name, Department, Salary\\n\")\n",
    "    file.write(\"101, Alice, HR, 50000\\n\")\n",
    "    file.write(\"102, Bob, Engineering, 60000\\n\")\n",
    "    file.write(\"103, Charlie, Sales, 55000\\n\")\n"
   ]
  },
  {
   "cell_type": "code",
   "execution_count": null,
   "id": "26e03eae",
   "metadata": {},
   "outputs": [],
   "source": []
  },
  {
   "cell_type": "code",
   "execution_count": 68,
   "id": "e28e666a",
   "metadata": {},
   "outputs": [
    {
     "ename": "SyntaxError",
     "evalue": "invalid syntax (<ipython-input-68-d63fe7bb5025>, line 1)",
     "output_type": "error",
     "traceback": [
      "\u001b[1;36m  File \u001b[1;32m\"<ipython-input-68-d63fe7bb5025>\"\u001b[1;36m, line \u001b[1;32m1\u001b[0m\n\u001b[1;33m    Question 19:\u001b[0m\n\u001b[1;37m             ^\u001b[0m\n\u001b[1;31mSyntaxError\u001b[0m\u001b[1;31m:\u001b[0m invalid syntax\n"
     ]
    }
   ],
   "source": [
    "Question 19:\n",
    "Write a Python program to read and display the employee records from the \"employees.txt\" file created in Question 18.\n",
    "\n",
    "# Read and display employee records from the file\n",
    "with open(\"employees.txt\", \"r\") as file:\n",
    "    content = file.read()\n",
    "    print(content)\n"
   ]
  },
  {
   "cell_type": "code",
   "execution_count": null,
   "id": "84c08c60",
   "metadata": {},
   "outputs": [],
   "source": []
  },
  {
   "cell_type": "code",
   "execution_count": null,
   "id": "20ff3f99",
   "metadata": {},
   "outputs": [],
   "source": [
    "Question 20:\n",
    "Write a Python program to update the salary of an employee with EmployeeID 102 in the \"employees.txt\" file to 65000.\n",
    "\n",
    "# Update the salary of an employee\n",
    "employee_id_to_update = \"102\"\n",
    "new_salary = \"65000\"\n",
    "\n",
    "with open(\"employees.txt\", \"r\") as file:\n",
    "    lines = file.readlines()\n",
    "\n",
    "with open(\"employees.txt\", \"w\") as file:\n",
    "    for line in lines:\n",
    "        if employee_id_to_update in line:\n",
    "            updated_line = line.replace(\"60000\", new_salary)\n",
    "            file.write(updated_line)\n",
    "        else:\n",
    "            file.write(line)\n"
   ]
  },
  {
   "cell_type": "code",
   "execution_count": null,
   "id": "bb71d58f",
   "metadata": {},
   "outputs": [],
   "source": []
  },
  {
   "cell_type": "code",
   "execution_count": null,
   "id": "d06f4c5f",
   "metadata": {},
   "outputs": [],
   "source": [
    "Question 21:\n",
    "Write a Python program to delete the record of the employee with EmployeeID 101 from the \"employees.txt\" file.\n",
    "\n",
    "# Delete the record of an employee\n",
    "employee_id_to_delete = \"101\"\n",
    "\n",
    "with open(\"employees.txt\", \"r\") as file:\n",
    "    lines = file.readlines()\n",
    "\n",
    "with open(\"employees.txt\", \"w\") as file:\n",
    "    for line in lines:\n",
    "        if employee_id_to_delete not in line:\n",
    "            file.write(line)\n"
   ]
  },
  {
   "cell_type": "code",
   "execution_count": null,
   "id": "46545eaf",
   "metadata": {},
   "outputs": [],
   "source": []
  },
  {
   "cell_type": "code",
   "execution_count": 69,
   "id": "13a4183b",
   "metadata": {},
   "outputs": [
    {
     "ename": "SyntaxError",
     "evalue": "invalid syntax (<ipython-input-69-67aa1f624de3>, line 1)",
     "output_type": "error",
     "traceback": [
      "\u001b[1;36m  File \u001b[1;32m\"<ipython-input-69-67aa1f624de3>\"\u001b[1;36m, line \u001b[1;32m1\u001b[0m\n\u001b[1;33m    Question 22:\u001b[0m\n\u001b[1;37m             ^\u001b[0m\n\u001b[1;31mSyntaxError\u001b[0m\u001b[1;31m:\u001b[0m invalid syntax\n"
     ]
    }
   ],
   "source": [
    "Question 22:\n",
    "Write a Python program to create a CSV file called \"products.csv\" and add the following product records to it:\n",
    "    \n",
    "ProductID, ProductName, Price\n",
    "1, Laptop, 800\n",
    "2, Smartphone, 500\n",
    "3, Tablet, 300\n",
    "\n",
    "\n",
    "import csv\n",
    "\n",
    "# Create a new CSV file and add product records\n",
    "data = [\n",
    "    {\"ProductID\": \"1\", \"ProductName\": \"Laptop\", \"Price\": \"800\"},\n",
    "    {\"ProductID\": \"2\", \"ProductName\": \"Smartphone\", \"Price\": \"500\"},\n",
    "    {\"ProductID\": \"3\", \"ProductName\": \"Tablet\", \"Price\": \"300\"}\n",
    "]\n",
    "\n",
    "with open(\"products.csv\", \"w\", newline='') as csv_file:\n",
    "    fieldnames = [\"ProductID\", \"ProductName\", \"Price\"]\n",
    "    csv_writer = csv.DictWriter(csv_file, fieldnames=fieldnames)\n",
    "    csv_writer.writeheader()\n",
    "    csv_writer.writerows(data)\n"
   ]
  },
  {
   "cell_type": "code",
   "execution_count": null,
   "id": "13501950",
   "metadata": {},
   "outputs": [],
   "source": []
  },
  {
   "cell_type": "code",
   "execution_count": null,
   "id": "1a8db993",
   "metadata": {},
   "outputs": [],
   "source": [
    "Question 23:\n",
    "Write a Python program to read and display the product records from the \"products.csv\" file created in Question 22.\n",
    "\n",
    "import csv\n",
    "\n",
    "# Read and display product records from the CSV file\n",
    "with open(\"products.csv\", \"r\") as csv_file:\n",
    "    csv_reader = csv.DictReader(csv_file)\n",
    "    for row in csv_reader:\n",
    "        print(f\"Product ID: {row['ProductID']}\")\n",
    "        print(f\"Product Name: {row['ProductName']}\")\n",
    "        print(f\"Price: ${row['Price']}\\n\")\n"
   ]
  },
  {
   "cell_type": "code",
   "execution_count": null,
   "id": "c9b6326b",
   "metadata": {},
   "outputs": [],
   "source": []
  },
  {
   "cell_type": "code",
   "execution_count": 70,
   "id": "50153227",
   "metadata": {},
   "outputs": [
    {
     "ename": "SyntaxError",
     "evalue": "invalid syntax (<ipython-input-70-46c92f4d18f2>, line 1)",
     "output_type": "error",
     "traceback": [
      "\u001b[1;36m  File \u001b[1;32m\"<ipython-input-70-46c92f4d18f2>\"\u001b[1;36m, line \u001b[1;32m1\u001b[0m\n\u001b[1;33m    1. Create (C):\u001b[0m\n\u001b[1;37m       ^\u001b[0m\n\u001b[1;31mSyntaxError\u001b[0m\u001b[1;31m:\u001b[0m invalid syntax\n"
     ]
    }
   ],
   "source": [
    "1. Create (C):\n",
    "\n",
    "Operation: Adding a new contact to the address book.\n",
    "Example: You want to add a new contact named \"John Doe\" with the phone number \"+1-123-456-7890\" and\n",
    "email \"john@example.com\" to your address book.\n",
    "\n",
    "Python Implementation:\n",
    "\n",
    "def create_contact(address_book, name, phone_number, email):\n",
    "    new_contact = {\n",
    "        \"name\": name,\n",
    "        \"phone_number\": phone_number,\n",
    "        \"email\": email\n",
    "    }\n",
    "    address_book.append(new_contact)\n",
    "\n",
    "\n"
   ]
  },
  {
   "cell_type": "code",
   "execution_count": null,
   "id": "614be5dd",
   "metadata": {},
   "outputs": [],
   "source": []
  },
  {
   "cell_type": "code",
   "execution_count": 71,
   "id": "b3f74a35",
   "metadata": {},
   "outputs": [
    {
     "ename": "SyntaxError",
     "evalue": "invalid syntax (<ipython-input-71-d62fcc720f0a>, line 1)",
     "output_type": "error",
     "traceback": [
      "\u001b[1;36m  File \u001b[1;32m\"<ipython-input-71-d62fcc720f0a>\"\u001b[1;36m, line \u001b[1;32m1\u001b[0m\n\u001b[1;33m    2. Read (R):\u001b[0m\n\u001b[1;37m       ^\u001b[0m\n\u001b[1;31mSyntaxError\u001b[0m\u001b[1;31m:\u001b[0m invalid syntax\n"
     ]
    }
   ],
   "source": [
    "2. Read (R):\n",
    "\n",
    "Operation: Retrieving and displaying contact information from the address book.\n",
    "Example: You want to view the details of the contact with the name \"John Doe\" in your address book.\n",
    "Python Implementation:\n",
    "    \n",
    "def read_contact(address_book, name):\n",
    "    for contact in address_book:\n",
    "        if contact[\"name\"] == name:\n",
    "            print(\"Name:\", contact[\"name\"])\n",
    "            print(\"Phone Number:\", contact[\"phone_number\"])\n",
    "            print(\"Email:\", contact[\"email\"])\n",
    "            return\n",
    "    print(\"Contact not found.\")\n"
   ]
  },
  {
   "cell_type": "code",
   "execution_count": null,
   "id": "da204de9",
   "metadata": {},
   "outputs": [],
   "source": []
  },
  {
   "cell_type": "code",
   "execution_count": null,
   "id": "7c7c8fe3",
   "metadata": {},
   "outputs": [],
   "source": [
    "3. Update (U):\n",
    "\n",
    "Operation: Modifying existing contact information in the address book.\n",
    "Example: You want to update the phone number of the contact \"John Doe\" to \"+1-987-654-3210.\"\n",
    "Python Implementation:\n",
    "    \n",
    "def update_contact(address_book, name, new_phone_number):\n",
    "    for contact in address_book:\n",
    "        if contact[\"name\"] == name:\n",
    "            contact[\"phone_number\"] = new_phone_number\n",
    "            print(\"Contact updated successfully.\")\n",
    "            return\n",
    "    print(\"Contact not found.\")\n"
   ]
  },
  {
   "cell_type": "code",
   "execution_count": null,
   "id": "8ec5094e",
   "metadata": {},
   "outputs": [],
   "source": []
  },
  {
   "cell_type": "code",
   "execution_count": 72,
   "id": "9581978d",
   "metadata": {},
   "outputs": [
    {
     "ename": "SyntaxError",
     "evalue": "invalid syntax (<ipython-input-72-fbec53e50d27>, line 1)",
     "output_type": "error",
     "traceback": [
      "\u001b[1;36m  File \u001b[1;32m\"<ipython-input-72-fbec53e50d27>\"\u001b[1;36m, line \u001b[1;32m1\u001b[0m\n\u001b[1;33m    4. Delete (D):\u001b[0m\n\u001b[1;37m       ^\u001b[0m\n\u001b[1;31mSyntaxError\u001b[0m\u001b[1;31m:\u001b[0m invalid syntax\n"
     ]
    }
   ],
   "source": [
    "4. Delete (D):\n",
    "\n",
    "Operation: Removing a contact from the address book.\n",
    "Example: You want to delete the contact with the name \"John Doe\" from your address book.\n",
    "Python Implementation:\n",
    "    \n",
    "def delete_contact(address_book, name):\n",
    "    for contact in address_book:\n",
    "        if contact[\"name\"] == name:\n",
    "            address_book.remove(contact)\n",
    "            print(\"Contact deleted successfully.\")\n",
    "            return\n",
    "    print(\"Contact not found.\")\n"
   ]
  },
  {
   "cell_type": "code",
   "execution_count": null,
   "id": "4bb5e80b",
   "metadata": {},
   "outputs": [],
   "source": []
  },
  {
   "cell_type": "code",
   "execution_count": null,
   "id": "fd2f74e0",
   "metadata": {},
   "outputs": [],
   "source": [
    "Here's how you can use these CRUD operations in your address book application:\n",
    "\n",
    "# Initialize an empty address book as a list of dictionaries\n",
    "address_book = []\n",
    "\n",
    "# Create new contacts\n",
    "create_contact(address_book, \"John Doe\", \"+1-123-456-7890\", \"john@example.com\")\n",
    "create_contact(address_book, \"Jane Smith\", \"+1-555-555-5555\", \"jane@example.com\")\n",
    "\n",
    "# Read contact information\n",
    "read_contact(address_book, \"John Doe\")\n",
    "\n",
    "# Update contact information\n",
    "update_contact(address_book, \"John Doe\", \"+1-987-654-3210\")\n",
    "\n",
    "# Delete a contact\n",
    "delete_contact(address_book, \"Jane Smith\")\n"
   ]
  },
  {
   "cell_type": "code",
   "execution_count": null,
   "id": "6175dbbb",
   "metadata": {},
   "outputs": [],
   "source": []
  },
  {
   "cell_type": "code",
   "execution_count": null,
   "id": "e4477f28",
   "metadata": {},
   "outputs": [],
   "source": []
  },
  {
   "cell_type": "code",
   "execution_count": null,
   "id": "3d7f43d4",
   "metadata": {},
   "outputs": [],
   "source": []
  }
 ],
 "metadata": {
  "kernelspec": {
   "display_name": "Python 3",
   "language": "python",
   "name": "python3"
  },
  "language_info": {
   "codemirror_mode": {
    "name": "ipython",
    "version": 3
   },
   "file_extension": ".py",
   "mimetype": "text/x-python",
   "name": "python",
   "nbconvert_exporter": "python",
   "pygments_lexer": "ipython3",
   "version": "3.8.8"
  }
 },
 "nbformat": 4,
 "nbformat_minor": 5
}
